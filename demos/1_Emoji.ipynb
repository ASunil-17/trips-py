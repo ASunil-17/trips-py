{
 "cells": [
  {
   "cell_type": "code",
   "execution_count": 1,
   "metadata": {},
   "outputs": [],
   "source": [
    "#!/usr/bin/env python\n",
    "\"\"\"\n",
    "--------------------------------------------------------------------------\n",
    "Created June 20, 2023 for TRIPs-Py library\n",
    "\"\"\"\n",
    "__author__ = \"Mirjeta Pasha and Connor Sanderford\"\n",
    "__copyright__ = \"Copyright 2022, TRIPs-Py library\"\n",
    "__license__ = \"GPL\"\n",
    "__version__ = \"0.1\"\n",
    "__maintainer__ = \"Mirjeta Pasha\"\n",
    "__email__ = \"mirjeta.pasha@tufts.edu; mirjeta.pasha1@gmail.com\"\n",
    "import numpy as np\n",
    "import matplotlib\n",
    "import matplotlib.pyplot as plt\n",
    "from scipy.linalg import fractional_matrix_power\n",
    "from numpy import array, diag, dot, maximum, empty, repeat, ones, sum\n",
    "from numpy.linalg import inv\n",
    "from trips.operators import *\n",
    "##Specify the font\n",
    "##Latex needs to be installed! If not installed, please comment the following 5 lines\n",
    "parameters = {'xtick.labelsize': 12, 'ytick.labelsize': 12,\n",
    "          'axes.titlesize': 18, 'axes.labelsize': 18, 'figure.titlesize': 14, 'legend.fontsize': 13}\n",
    "plt.rcParams.update(parameters)\n",
    "import time\n",
    "import numpy as np\n",
    "import scipy as sp\n",
    "import scipy.stats as sps\n",
    "import scipy.io as spio\n",
    "import matplotlib\n",
    "import matplotlib.pyplot as plt\n",
    "import numpy as np\n",
    "import astra\n",
    "# import phantoms as phantom\n",
    "from venv import create\n",
    "import pylops\n",
    "from scipy.ndimage import convolve\n",
    "from scipy import sparse\n",
    "from scipy.ndimage import convolve\n",
    "import scipy.special as spe\n",
    "from trips.testProblems import *\n",
    "from trips.solvers.gks import *\n",
    "import requests\n",
    "from scipy import sparse\n",
    "import numpy as np\n",
    "import h5py\n",
    "# functions to generate emoji data are stored in io_l.py\n",
    "from trips.io import *\n",
    "from trips.operators import *\n",
    "from trips.solvers.AnisoTV import *"
   ]
  },
  {
   "attachments": {},
   "cell_type": "markdown",
   "metadata": {},
   "source": [
    "# Notebook 1: Emoji test problem\n",
    "\n",
    "<p>In this example we illustrate the following:\n",
    "<p>&nbsp; Step 1: Download/read the emoji data and prepare them for processing.\n",
    "<p>&nbsp; Step 2: Solve the static inverse problem.\n",
    "<p>&nbsp; Step 3: Solve the dynamic inverse problem.\n",
    "\n",
    "Emoji data are generated at the University of Helsinki: https://zenodo.org/record/1183532#.YyaW_C9h2fU\n"
   ]
  },
  {
   "attachments": {},
   "cell_type": "markdown",
   "metadata": {},
   "source": [
    "#### Step 1: Download/read the data and prepare them for processing\n",
    "##### The main function to generate the emoji data is generate_emoji(dataset, noise_level) \n",
    "<p> <b>Input:</b> \n",
    "<p>&nbsp; <b>dataset:</b>\n",
    "        <p>&nbsp; if dataset = 30, we generate data from DataDynamic_128x30.mat\n",
    "        <p>&nbsp; if dataset = 60, we generate data from DataDynamic_128x60.mat\n",
    "<p>&nbsp; <b>noise_level:</b>\n",
    "        <p>&nbsp; Emoji data are real data and they have noise. Hence, we set noise_level = 0\n",
    "            \n",
    "<p> <b>Output:</b>  \n",
    "&nbsp;<br> <b>A:</b> The full forward operator for all time instances<br>\n",
    "&nbsp; <b>b:</b> All the data/measurements vectorized<br> \n",
    "&nbsp; <b>AA:</b> A list of 33 time-wise operators<br> \n",
    "&nbsp; <b>B:</b> A list of 33 data vectors for each time instance <br> \n",
    "&nbsp; <b>nx:</b> The dimension of the first spatial domain<br> \n",
    "&nbsp; <b>ny:</b> The dimension of the second spatial domain<br> \n",
    "&nbsp; <b>nt:</b> The dimension of the time instances domain<br> \n",
    "&nbsp; <b>delta:</b> The noise level in the data. When we set noise_level == 0, we get delta = 0<br> \n",
    "&nbsp; <b>sinoshape:</b> The dimension of the time-wise sinogram<br>     "
   ]
  },
  {
   "cell_type": "code",
   "execution_count": 2,
   "metadata": {},
   "outputs": [
    {
     "name": "stdout",
     "output_type": "stream",
     "text": [
      "downloading...\n",
      "downloaded.\n"
     ]
    }
   ],
   "source": [
    "(A, b, AA, B, nx, ny, nt, delta) = generate_emoji(noise_level = 0, dataset = 60)"
   ]
  },
  {
   "attachments": {},
   "cell_type": "markdown",
   "metadata": {},
   "source": [
    "#### Step 2: Solve the static inverse problems.\n",
    "<p>&nbsp; <b>The function to perform reconstruction is reconstruct_anisoTV(dynamic)</b>\n",
    "<p> <b>Input:</b> \n",
    "<p>&nbsp; <b>dynamic:</b>\n",
    "        <p>&nbsp; if dynamic = True, it solves the dynamic inverse problem $A x = b$\n",
    "        <p>&nbsp; if dynamic = False, it solves nt static inverse problems $AA(i) x(i) = B(i)$, for i in range(nt)\n",
    "<p> <b>Output:</b>  \n",
    "&nbsp;<br> <b>xx:</b> <br>If dynamic == True, xx is a 3 dimensional tensor with dimensions (nx, ny, nt) that contains nt reconstructed images<br>If dynamic == False, xx is a list with nt elements that contains nt reconstructed images"
   ]
  },
  {
   "cell_type": "code",
   "execution_count": 3,
   "metadata": {},
   "outputs": [
    {
     "name": "stderr",
     "output_type": "stream",
     "text": [
      "generating basis...: 100%|██████████| 3/3 [00:01<00:00,  2.51it/s]\n",
      "running MMGKS...: 100%|██████████| 50/50 [13:26<00:00, 16.12s/it]\n"
     ]
    }
   ],
   "source": [
    "xx = AnisoTV(A, b, AA, B, nx, ny, nt, dynamic = True, iters = 3, testproblem = 'Emoji')"
   ]
  },
  {
   "attachments": {},
   "cell_type": "markdown",
   "metadata": {},
   "source": [
    "#### Step 4: Solve the problem by Golub-Kahan"
   ]
  },
  {
   "cell_type": "code",
   "execution_count": null,
   "metadata": {},
   "outputs": [],
   "source": [
    "b_vec = b.reshape((-1,1))\n",
    "projection_dim = 30\n",
    "(U, B, V) = generalized_golub_kahan(AA, b_vec, projection_dim)\n",
    "VV = V\n",
    "UU = U[:, 0:-1]\n",
    "HH = B[0:-1, :]\n",
    "bhat = UU.T.dot(b_vec)\n",
    "y_tikh = np.linalg.solve(HH.T*HH, bhat)\n",
    "x_GKahan = VV.dot(y_tikh)"
   ]
  }
 ],
 "metadata": {
  "kernelspec": {
   "display_name": "base",
   "language": "python",
   "name": "python3"
  },
  "language_info": {
   "codemirror_mode": {
    "name": "ipython",
    "version": 3
   },
   "file_extension": ".py",
   "mimetype": "text/x-python",
   "name": "python",
   "nbconvert_exporter": "python",
   "pygments_lexer": "ipython3",
   "version": "3.8.8"
  },
  "orig_nbformat": 4
 },
 "nbformat": 4,
 "nbformat_minor": 2
}
