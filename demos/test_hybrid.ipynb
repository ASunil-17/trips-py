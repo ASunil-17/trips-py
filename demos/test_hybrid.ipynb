{
 "cells": [
  {
   "cell_type": "code",
   "execution_count": 5,
   "metadata": {},
   "outputs": [],
   "source": [
    "from trips.testProblems import *\n",
    "from pylops import Identity, LinearOperator\n",
    "from trips.utils import operator_qr, operator_svd, is_identity\n",
    "from trips.parameter_selection.gcv import *\n",
    "import scipy.linalg as la\n",
    "import numpy as np\n",
    "from trips.solvers.Hybrid_GMRES import *\n",
    "# from trips.solvers.Hybrid_LSQR import *"
   ]
  },
  {
   "cell_type": "code",
   "execution_count": 6,
   "metadata": {},
   "outputs": [
    {
     "data": {
      "image/png": "[encoded data removed]",
      "text/plain": [
       "<Figure size 640x480 with 1 Axes>"
      ]
     },
     "metadata": {},
     "output_type": "display_data"
    },
    {
     "data": {
      "text/plain": [
       "<Figure size 640x480 with 0 Axes>"
      ]
     },
     "metadata": {},
     "output_type": "display_data"
    }
   ],
   "source": [
    "D1D = Deblurring1D()\n",
    "N = 64\n",
    "n = N\n",
    "A = D1D.forward_Op_matrix_1D(3, N)\n",
    "# A = np.vstack((A, np.random.rand(3,N)))\n",
    "x_true = D1D.gen_xtrue(N, test = 'piecewise')\n",
    "b_true = A@x_true\n",
    "(b, delta) = D1D.add_noise(b_true, 'Gaussian', 0.05)\n",
    "plt.plot(x_true)\n",
    "D1D.plot_data(b)\n",
    "L = np.eye(A.shape[1])\n",
    "deltanew = la.norm(b - b_true)"
   ]
  },
  {
   "cell_type": "code",
   "execution_count": 24,
   "metadata": {},
   "outputs": [],
   "source": [
    "import numpy as np \n",
    "from scipy.optimize import newton, minimize\n",
    "import scipy.optimize as op\n",
    "import scipy.linalg as la\n",
    "\n",
    "from trips.utils import operator_qr, operator_svd, is_identity\n",
    "# from .gcv import gcv_numerator\n",
    "import warnings\n",
    "\n",
    "def discrepancy_principle(A, b, L, delta = None, eta = 1.01, **kwargs):\n",
    "\n",
    "    if not ( isinstance(delta, float) or isinstance(delta, int)):\n",
    "\n",
    "        # raise TypeError('You must provide a value for the noise level delta.')\n",
    "        raise Warning(\"\"\"A value for the noise level delta was not provided. A default value of 0.01 has been used. \n",
    "                    Please supply a value of delta based on the estimated noise level of the problem.\"\"\")\n",
    "\n",
    "        delta = 0.01\n",
    "    valid = False ## Just to be able to call the new DP that Silvia coded\n",
    "    if is_identity(L) and valid == True:\n",
    "        U, S, V = la.svd(A, full_matrices=False)\n",
    "        singular_values = S**2\n",
    "        singular_values.shape = (singular_values.shape[0], 1)\n",
    "        bhat = U.T @ b\n",
    "        # beta = 1.0\n",
    "        beta = 1e8\n",
    "\n",
    "        alpha = 0.01\n",
    "\n",
    "        iterations = 0\n",
    "\n",
    "        while (iterations < 30) or ((iterations <= 100) and (np.abs(alpha) < 10**(-16))):\n",
    "\n",
    "            f = ((singular_values*beta + 1)**(-2)).T @ bhat - (eta*delta)**2\n",
    "\n",
    "            f_prime = -2*  ((singular_values*beta + 1)**(-3) * singular_values).T @ bhat\n",
    "\n",
    "            beta_new = beta - f/f_prime\n",
    "\n",
    "\n",
    "            if abs(beta_new - beta) < 10**(-7)* beta:\n",
    "                break\n",
    "\n",
    "            beta = beta_new\n",
    "\n",
    "            alpha = 1/beta_new\n",
    "\n",
    "            iterations += 1\n",
    "    else:\n",
    "        tikh_sol = lambda reg_param: np.linalg.lstsq(np.vstack((A, np.sqrt(reg_param)*L)), np.vstack((b.reshape((-1,1)), np.zeros((L.shape[0],1)))))[0]\n",
    "        discr_func_zero = lambda reg_param: np.linalg.norm(np.matmul(A,tikh_sol(reg_param)).reshape((-1,1)) - b.reshape((-1,1))) - (eta*delta)\n",
    "        alpha = op.fsolve(discr_func_zero, 1e2)[0]\n",
    "\n",
    "    return alpha#{'x':alpha}"
   ]
  },
  {
   "cell_type": "code",
   "execution_count": 17,
   "metadata": {},
   "outputs": [],
   "source": [
    "from trips.decompositions import golub_kahan_update\n",
    "import numpy as np\n",
    "from scipy import linalg as la\n",
    "from trips.parameter_selection.gcv import *\n",
    "# from trips.parameter_selection.discrepancy_principle import *\n",
    "from pylops import Identity\n",
    "from trips.solvers import Tikhonov\n",
    "\n",
    "def hybrid_lsqr(A, b, n_iter, regparam = 'gcv', **kwargs): # what's the naming convention here?\n",
    "\n",
    "    delta = kwargs['delta'] if ('delta' in kwargs) else None\n",
    "\n",
    "    eta = kwargs['eta'] if ('eta' in kwargs) else 1.01\n",
    "\n",
    "    if regparam == 'dp' and delta == None:\n",
    "        raise Exception(\"\"\"A value for the noise level delta was not provided and the discrepancy principle cannot be applied. \n",
    "                    Please supply a value of delta based on the estimated noise level of the problem, or choose the regularization parameter according to gcv.\"\"\")\n",
    "    \n",
    "    n = A.shape[1]\n",
    "    beta = np.linalg.norm(b)\n",
    "    U = b.reshape((-1,1))/beta\n",
    "    B = np.empty(1)\n",
    "    V = np.empty((n,1))\n",
    "    RegParam = np.zeros(n_iter,)\n",
    "\n",
    "    for ii in range(n_iter):\n",
    "        # print(ii)\n",
    "        (U, B, V) = golub_kahan_update(A, U, B, V)\n",
    "        bhat = np.zeros(ii+2,); bhat[0] = beta ###\n",
    "        L = Identity(B.shape[1], B.shape[1])\n",
    "        y = la.lstsq(B,bhat)[0]\n",
    "        nrmr = np.linalg.norm(bhat - B@y)\n",
    "        if ii == 0:\n",
    "            lambdah = 0\n",
    "        else:\n",
    "            if regparam == 'gcv':\n",
    "                #lambdah = generalized_crossvalidation(B, bhat, L, **kwargs)['x'].item()\n",
    "                lambdah = generalized_crossvalidation(B, bhat, L, **kwargs)\n",
    "            elif regparam == 'dp':\n",
    "                print(ii)\n",
    "                print(eta)\n",
    "                print(delta)\n",
    "                print(nrmr)\n",
    "                if nrmr <= eta*delta:\n",
    "                    lambdah = discrepancy_principle(B, bhat, L, **kwargs)['x'].item()\n",
    "                    # lambdah = 0\n",
    "                else:\n",
    "                    lambdah = 0\n",
    "            else:\n",
    "                lambdah = regparam\n",
    "            RegParam[ii] = lambdah\n",
    "            L = L.todense() if isinstance(L, LinearOperator) else L\n",
    "            y = la.lstsq(np.matmul(B.T,B) + lambdah*np.matmul(L.T,L), np.matmul(B.T,bhat))[0] ## SG: potentially needs L.T*L; also why lstsq? May just need a solver for linear system; also: you may need np.matmul; also: these are not the normal eqs (you need B'*b)\n",
    "            #y = Tikhonov(B, bhat, L, regparam = lambdah)[0]\n",
    "            x = V @ y\n",
    "    return x, U, B, V, RegParam"
   ]
  },
  {
   "cell_type": "code",
   "execution_count": 25,
   "metadata": {},
   "outputs": [
    {
     "name": "stdout",
     "output_type": "stream",
     "text": [
      "1\n",
      "1.01\n",
      "0.06737815009758147\n",
      "0.2733765532704711\n",
      "2\n",
      "1.01\n",
      "0.06737815009758147\n",
      "0.19217070019412416\n",
      "3\n",
      "1.01\n",
      "0.06737815009758147\n",
      "0.12763917917705797\n",
      "4\n",
      "1.01\n",
      "0.06737815009758147\n",
      "0.11173740172978211\n",
      "5\n",
      "1.01\n",
      "0.06737815009758147\n",
      "0.10465595376006004\n",
      "6\n",
      "1.01\n",
      "0.06737815009758147\n",
      "0.08995813707759044\n",
      "7\n",
      "1.01\n",
      "0.06737815009758147\n",
      "0.08345795547896631\n",
      "8\n",
      "1.01\n",
      "0.06737815009758147\n",
      "0.07992885801713105\n",
      "9\n",
      "1.01\n",
      "0.06737815009758147\n",
      "0.0759334247676454\n",
      "10\n",
      "1.01\n",
      "0.06737815009758147\n",
      "0.06909773011880954\n",
      "11\n",
      "1.01\n",
      "0.06737815009758147\n",
      "0.06603992354411957\n"
     ]
    },
    {
     "ename": "ValueError",
     "evalue": "all the input array dimensions for the concatenation axis must match exactly, but along dimension 1, the array at index 0 has size 12 and the array at index 1 has size 1",
     "output_type": "error",
     "traceback": [
      "\u001b[0;31m---------------------------------------------------------------------------\u001b[0m",
      "\u001b[0;31mValueError\u001b[0m                                Traceback (most recent call last)",
      "\u001b[1;32m/Users/silvia/Documents/Research_Software/repo_tripspy/tripspy/demos/test_hybrid.ipynb Cell 5\u001b[0m line \u001b[0;36m1\n\u001b[0;32m----> <a href='vscode-notebook-cell:/Users/silvia/Documents/Research_Software/repo_tripspy/tripspy/demos/test_hybrid.ipynb#W2sZmlsZQ%3D%3D?line=0'>1</a>\u001b[0m out_hybridlsqr \u001b[39m=\u001b[39m hybrid_lsqr(A, b, \u001b[39m20\u001b[39;49m, regparam \u001b[39m=\u001b[39;49m \u001b[39m'\u001b[39;49m\u001b[39mdp\u001b[39;49m\u001b[39m'\u001b[39;49m, delta \u001b[39m=\u001b[39;49m deltanew)\n",
      "\u001b[1;32m/Users/silvia/Documents/Research_Software/repo_tripspy/tripspy/demos/test_hybrid.ipynb Cell 5\u001b[0m line \u001b[0;36m4\n\u001b[1;32m     <a href='vscode-notebook-cell:/Users/silvia/Documents/Research_Software/repo_tripspy/tripspy/demos/test_hybrid.ipynb#W2sZmlsZQ%3D%3D?line=42'>43</a>\u001b[0m \u001b[39mprint\u001b[39m(nrmr)\n\u001b[1;32m     <a href='vscode-notebook-cell:/Users/silvia/Documents/Research_Software/repo_tripspy/tripspy/demos/test_hybrid.ipynb#W2sZmlsZQ%3D%3D?line=43'>44</a>\u001b[0m \u001b[39mif\u001b[39;00m nrmr \u001b[39m<\u001b[39m\u001b[39m=\u001b[39m eta\u001b[39m*\u001b[39mdelta:\n\u001b[0;32m---> <a href='vscode-notebook-cell:/Users/silvia/Documents/Research_Software/repo_tripspy/tripspy/demos/test_hybrid.ipynb#W2sZmlsZQ%3D%3D?line=44'>45</a>\u001b[0m     lambdah \u001b[39m=\u001b[39m discrepancy_principle(B, bhat, L, \u001b[39m*\u001b[39;49m\u001b[39m*\u001b[39;49mkwargs)[\u001b[39m'\u001b[39m\u001b[39mx\u001b[39m\u001b[39m'\u001b[39m]\u001b[39m.\u001b[39mitem()\n\u001b[1;32m     <a href='vscode-notebook-cell:/Users/silvia/Documents/Research_Software/repo_tripspy/tripspy/demos/test_hybrid.ipynb#W2sZmlsZQ%3D%3D?line=45'>46</a>\u001b[0m     \u001b[39m# lambdah = 0\u001b[39;00m\n\u001b[1;32m     <a href='vscode-notebook-cell:/Users/silvia/Documents/Research_Software/repo_tripspy/tripspy/demos/test_hybrid.ipynb#W2sZmlsZQ%3D%3D?line=46'>47</a>\u001b[0m \u001b[39melse\u001b[39;00m:\n\u001b[1;32m     <a href='vscode-notebook-cell:/Users/silvia/Documents/Research_Software/repo_tripspy/tripspy/demos/test_hybrid.ipynb#W2sZmlsZQ%3D%3D?line=47'>48</a>\u001b[0m     lambdah \u001b[39m=\u001b[39m \u001b[39m0\u001b[39m\n",
      "\u001b[1;32m/Users/silvia/Documents/Research_Software/repo_tripspy/tripspy/demos/test_hybrid.ipynb Cell 5\u001b[0m line \u001b[0;36m5\n\u001b[1;32m     <a href='vscode-notebook-cell:/Users/silvia/Documents/Research_Software/repo_tripspy/tripspy/demos/test_hybrid.ipynb#W2sZmlsZQ%3D%3D?line=49'>50</a>\u001b[0m     tikh_sol \u001b[39m=\u001b[39m \u001b[39mlambda\u001b[39;00m reg_param: np\u001b[39m.\u001b[39mlinalg\u001b[39m.\u001b[39mlstsq(np\u001b[39m.\u001b[39mvstack((A, np\u001b[39m.\u001b[39msqrt(reg_param)\u001b[39m*\u001b[39mL)), np\u001b[39m.\u001b[39mvstack((b\u001b[39m.\u001b[39mreshape((\u001b[39m-\u001b[39m\u001b[39m1\u001b[39m,\u001b[39m1\u001b[39m)), np\u001b[39m.\u001b[39mzeros((L\u001b[39m.\u001b[39mshape[\u001b[39m0\u001b[39m],\u001b[39m1\u001b[39m)))))[\u001b[39m0\u001b[39m]\n\u001b[1;32m     <a href='vscode-notebook-cell:/Users/silvia/Documents/Research_Software/repo_tripspy/tripspy/demos/test_hybrid.ipynb#W2sZmlsZQ%3D%3D?line=50'>51</a>\u001b[0m     discr_func_zero \u001b[39m=\u001b[39m \u001b[39mlambda\u001b[39;00m reg_param: np\u001b[39m.\u001b[39mlinalg\u001b[39m.\u001b[39mnorm(np\u001b[39m.\u001b[39mmatmul(A,tikh_sol(reg_param))\u001b[39m.\u001b[39mreshape((\u001b[39m-\u001b[39m\u001b[39m1\u001b[39m,\u001b[39m1\u001b[39m)) \u001b[39m-\u001b[39m b\u001b[39m.\u001b[39mreshape((\u001b[39m-\u001b[39m\u001b[39m1\u001b[39m,\u001b[39m1\u001b[39m))) \u001b[39m-\u001b[39m (eta\u001b[39m*\u001b[39mdelta)\n\u001b[0;32m---> <a href='vscode-notebook-cell:/Users/silvia/Documents/Research_Software/repo_tripspy/tripspy/demos/test_hybrid.ipynb#W2sZmlsZQ%3D%3D?line=51'>52</a>\u001b[0m     alpha \u001b[39m=\u001b[39m op\u001b[39m.\u001b[39;49mfsolve(discr_func_zero, \u001b[39m1e2\u001b[39;49m)[\u001b[39m0\u001b[39m]\n\u001b[1;32m     <a href='vscode-notebook-cell:/Users/silvia/Documents/Research_Software/repo_tripspy/tripspy/demos/test_hybrid.ipynb#W2sZmlsZQ%3D%3D?line=53'>54</a>\u001b[0m \u001b[39mreturn\u001b[39;00m alpha\n",
      "File \u001b[0;32m~/opt/anaconda3/envs/trip/lib/python3.8/site-packages/scipy/optimize/_minpack_py.py:163\u001b[0m, in \u001b[0;36mfsolve\u001b[0;34m(func, x0, args, fprime, full_output, col_deriv, xtol, maxfev, band, epsfcn, factor, diag)\u001b[0m\n\u001b[1;32m     51\u001b[0m \u001b[39m\"\"\"\u001b[39;00m\n\u001b[1;32m     52\u001b[0m \u001b[39mFind the roots of a function.\u001b[39;00m\n\u001b[1;32m     53\u001b[0m \n\u001b[0;32m   (...)\u001b[0m\n\u001b[1;32m    153\u001b[0m \n\u001b[1;32m    154\u001b[0m \u001b[39m\"\"\"\u001b[39;00m\n\u001b[1;32m    155\u001b[0m options \u001b[39m=\u001b[39m {\u001b[39m'\u001b[39m\u001b[39mcol_deriv\u001b[39m\u001b[39m'\u001b[39m: col_deriv,\n\u001b[1;32m    156\u001b[0m            \u001b[39m'\u001b[39m\u001b[39mxtol\u001b[39m\u001b[39m'\u001b[39m: xtol,\n\u001b[1;32m    157\u001b[0m            \u001b[39m'\u001b[39m\u001b[39mmaxfev\u001b[39m\u001b[39m'\u001b[39m: maxfev,\n\u001b[0;32m   (...)\u001b[0m\n\u001b[1;32m    160\u001b[0m            \u001b[39m'\u001b[39m\u001b[39mfactor\u001b[39m\u001b[39m'\u001b[39m: factor,\n\u001b[1;32m    161\u001b[0m            \u001b[39m'\u001b[39m\u001b[39mdiag\u001b[39m\u001b[39m'\u001b[39m: diag}\n\u001b[0;32m--> 163\u001b[0m res \u001b[39m=\u001b[39m _root_hybr(func, x0, args, jac\u001b[39m=\u001b[39;49mfprime, \u001b[39m*\u001b[39;49m\u001b[39m*\u001b[39;49moptions)\n\u001b[1;32m    164\u001b[0m \u001b[39mif\u001b[39;00m full_output:\n\u001b[1;32m    165\u001b[0m     x \u001b[39m=\u001b[39m res[\u001b[39m'\u001b[39m\u001b[39mx\u001b[39m\u001b[39m'\u001b[39m]\n",
      "File \u001b[0;32m~/opt/anaconda3/envs/trip/lib/python3.8/site-packages/scipy/optimize/_minpack_py.py:229\u001b[0m, in \u001b[0;36m_root_hybr\u001b[0;34m(func, x0, args, jac, col_deriv, xtol, maxfev, band, eps, factor, diag, **unknown_options)\u001b[0m\n\u001b[1;32m    227\u001b[0m \u001b[39mif\u001b[39;00m \u001b[39mnot\u001b[39;00m \u001b[39misinstance\u001b[39m(args, \u001b[39mtuple\u001b[39m):\n\u001b[1;32m    228\u001b[0m     args \u001b[39m=\u001b[39m (args,)\n\u001b[0;32m--> 229\u001b[0m shape, dtype \u001b[39m=\u001b[39m _check_func(\u001b[39m'\u001b[39;49m\u001b[39mfsolve\u001b[39;49m\u001b[39m'\u001b[39;49m, \u001b[39m'\u001b[39;49m\u001b[39mfunc\u001b[39;49m\u001b[39m'\u001b[39;49m, func, x0, args, n, (n,))\n\u001b[1;32m    230\u001b[0m \u001b[39mif\u001b[39;00m epsfcn \u001b[39mis\u001b[39;00m \u001b[39mNone\u001b[39;00m:\n\u001b[1;32m    231\u001b[0m     epsfcn \u001b[39m=\u001b[39m finfo(dtype)\u001b[39m.\u001b[39meps\n",
      "File \u001b[0;32m~/opt/anaconda3/envs/trip/lib/python3.8/site-packages/scipy/optimize/_minpack_py.py:26\u001b[0m, in \u001b[0;36m_check_func\u001b[0;34m(checker, argname, thefunc, x0, args, numinputs, output_shape)\u001b[0m\n\u001b[1;32m     24\u001b[0m \u001b[39mdef\u001b[39;00m \u001b[39m_check_func\u001b[39m(checker, argname, thefunc, x0, args, numinputs,\n\u001b[1;32m     25\u001b[0m                 output_shape\u001b[39m=\u001b[39m\u001b[39mNone\u001b[39;00m):\n\u001b[0;32m---> 26\u001b[0m     res \u001b[39m=\u001b[39m atleast_1d(thefunc(\u001b[39m*\u001b[39;49m((x0[:numinputs],) \u001b[39m+\u001b[39;49m args)))\n\u001b[1;32m     27\u001b[0m     \u001b[39mif\u001b[39;00m (output_shape \u001b[39mis\u001b[39;00m \u001b[39mnot\u001b[39;00m \u001b[39mNone\u001b[39;00m) \u001b[39mand\u001b[39;00m (shape(res) \u001b[39m!=\u001b[39m output_shape):\n\u001b[1;32m     28\u001b[0m         \u001b[39mif\u001b[39;00m (output_shape[\u001b[39m0\u001b[39m] \u001b[39m!=\u001b[39m \u001b[39m1\u001b[39m):\n",
      "\u001b[1;32m/Users/silvia/Documents/Research_Software/repo_tripspy/tripspy/demos/test_hybrid.ipynb Cell 5\u001b[0m line \u001b[0;36m5\n\u001b[1;32m     <a href='vscode-notebook-cell:/Users/silvia/Documents/Research_Software/repo_tripspy/tripspy/demos/test_hybrid.ipynb#W2sZmlsZQ%3D%3D?line=48'>49</a>\u001b[0m \u001b[39melse\u001b[39;00m:\n\u001b[1;32m     <a href='vscode-notebook-cell:/Users/silvia/Documents/Research_Software/repo_tripspy/tripspy/demos/test_hybrid.ipynb#W2sZmlsZQ%3D%3D?line=49'>50</a>\u001b[0m     tikh_sol \u001b[39m=\u001b[39m \u001b[39mlambda\u001b[39;00m reg_param: np\u001b[39m.\u001b[39mlinalg\u001b[39m.\u001b[39mlstsq(np\u001b[39m.\u001b[39mvstack((A, np\u001b[39m.\u001b[39msqrt(reg_param)\u001b[39m*\u001b[39mL)), np\u001b[39m.\u001b[39mvstack((b\u001b[39m.\u001b[39mreshape((\u001b[39m-\u001b[39m\u001b[39m1\u001b[39m,\u001b[39m1\u001b[39m)), np\u001b[39m.\u001b[39mzeros((L\u001b[39m.\u001b[39mshape[\u001b[39m0\u001b[39m],\u001b[39m1\u001b[39m)))))[\u001b[39m0\u001b[39m]\n\u001b[0;32m---> <a href='vscode-notebook-cell:/Users/silvia/Documents/Research_Software/repo_tripspy/tripspy/demos/test_hybrid.ipynb#W2sZmlsZQ%3D%3D?line=50'>51</a>\u001b[0m     discr_func_zero \u001b[39m=\u001b[39m \u001b[39mlambda\u001b[39;00m reg_param: np\u001b[39m.\u001b[39mlinalg\u001b[39m.\u001b[39mnorm(np\u001b[39m.\u001b[39mmatmul(A,tikh_sol(reg_param))\u001b[39m.\u001b[39mreshape((\u001b[39m-\u001b[39m\u001b[39m1\u001b[39m,\u001b[39m1\u001b[39m)) \u001b[39m-\u001b[39m b\u001b[39m.\u001b[39mreshape((\u001b[39m-\u001b[39m\u001b[39m1\u001b[39m,\u001b[39m1\u001b[39m))) \u001b[39m-\u001b[39m (eta\u001b[39m*\u001b[39mdelta)\n\u001b[1;32m     <a href='vscode-notebook-cell:/Users/silvia/Documents/Research_Software/repo_tripspy/tripspy/demos/test_hybrid.ipynb#W2sZmlsZQ%3D%3D?line=51'>52</a>\u001b[0m     alpha \u001b[39m=\u001b[39m op\u001b[39m.\u001b[39mfsolve(discr_func_zero, \u001b[39m1e2\u001b[39m)[\u001b[39m0\u001b[39m]\n\u001b[1;32m     <a href='vscode-notebook-cell:/Users/silvia/Documents/Research_Software/repo_tripspy/tripspy/demos/test_hybrid.ipynb#W2sZmlsZQ%3D%3D?line=53'>54</a>\u001b[0m \u001b[39mreturn\u001b[39;00m alpha\n",
      "\u001b[1;32m/Users/silvia/Documents/Research_Software/repo_tripspy/tripspy/demos/test_hybrid.ipynb Cell 5\u001b[0m line \u001b[0;36m5\n\u001b[1;32m     <a href='vscode-notebook-cell:/Users/silvia/Documents/Research_Software/repo_tripspy/tripspy/demos/test_hybrid.ipynb#W2sZmlsZQ%3D%3D?line=47'>48</a>\u001b[0m         iterations \u001b[39m+\u001b[39m\u001b[39m=\u001b[39m \u001b[39m1\u001b[39m\n\u001b[1;32m     <a href='vscode-notebook-cell:/Users/silvia/Documents/Research_Software/repo_tripspy/tripspy/demos/test_hybrid.ipynb#W2sZmlsZQ%3D%3D?line=48'>49</a>\u001b[0m \u001b[39melse\u001b[39;00m:\n\u001b[0;32m---> <a href='vscode-notebook-cell:/Users/silvia/Documents/Research_Software/repo_tripspy/tripspy/demos/test_hybrid.ipynb#W2sZmlsZQ%3D%3D?line=49'>50</a>\u001b[0m     tikh_sol \u001b[39m=\u001b[39m \u001b[39mlambda\u001b[39;00m reg_param: np\u001b[39m.\u001b[39mlinalg\u001b[39m.\u001b[39mlstsq(np\u001b[39m.\u001b[39;49mvstack((A, np\u001b[39m.\u001b[39;49msqrt(reg_param)\u001b[39m*\u001b[39;49mL)), np\u001b[39m.\u001b[39mvstack((b\u001b[39m.\u001b[39mreshape((\u001b[39m-\u001b[39m\u001b[39m1\u001b[39m,\u001b[39m1\u001b[39m)), np\u001b[39m.\u001b[39mzeros((L\u001b[39m.\u001b[39mshape[\u001b[39m0\u001b[39m],\u001b[39m1\u001b[39m)))))[\u001b[39m0\u001b[39m]\n\u001b[1;32m     <a href='vscode-notebook-cell:/Users/silvia/Documents/Research_Software/repo_tripspy/tripspy/demos/test_hybrid.ipynb#W2sZmlsZQ%3D%3D?line=50'>51</a>\u001b[0m     discr_func_zero \u001b[39m=\u001b[39m \u001b[39mlambda\u001b[39;00m reg_param: np\u001b[39m.\u001b[39mlinalg\u001b[39m.\u001b[39mnorm(np\u001b[39m.\u001b[39mmatmul(A,tikh_sol(reg_param))\u001b[39m.\u001b[39mreshape((\u001b[39m-\u001b[39m\u001b[39m1\u001b[39m,\u001b[39m1\u001b[39m)) \u001b[39m-\u001b[39m b\u001b[39m.\u001b[39mreshape((\u001b[39m-\u001b[39m\u001b[39m1\u001b[39m,\u001b[39m1\u001b[39m))) \u001b[39m-\u001b[39m (eta\u001b[39m*\u001b[39mdelta)\n\u001b[1;32m     <a href='vscode-notebook-cell:/Users/silvia/Documents/Research_Software/repo_tripspy/tripspy/demos/test_hybrid.ipynb#W2sZmlsZQ%3D%3D?line=51'>52</a>\u001b[0m     alpha \u001b[39m=\u001b[39m op\u001b[39m.\u001b[39mfsolve(discr_func_zero, \u001b[39m1e2\u001b[39m)[\u001b[39m0\u001b[39m]\n",
      "File \u001b[0;32m<__array_function__ internals>:180\u001b[0m, in \u001b[0;36mvstack\u001b[0;34m(*args, **kwargs)\u001b[0m\n",
      "File \u001b[0;32m~/opt/anaconda3/envs/trip/lib/python3.8/site-packages/numpy/core/shape_base.py:282\u001b[0m, in \u001b[0;36mvstack\u001b[0;34m(tup)\u001b[0m\n\u001b[1;32m    280\u001b[0m \u001b[39mif\u001b[39;00m \u001b[39mnot\u001b[39;00m \u001b[39misinstance\u001b[39m(arrs, \u001b[39mlist\u001b[39m):\n\u001b[1;32m    281\u001b[0m     arrs \u001b[39m=\u001b[39m [arrs]\n\u001b[0;32m--> 282\u001b[0m \u001b[39mreturn\u001b[39;00m _nx\u001b[39m.\u001b[39;49mconcatenate(arrs, \u001b[39m0\u001b[39;49m)\n",
      "File \u001b[0;32m<__array_function__ internals>:180\u001b[0m, in \u001b[0;36mconcatenate\u001b[0;34m(*args, **kwargs)\u001b[0m\n",
      "\u001b[0;31mValueError\u001b[0m: all the input array dimensions for the concatenation axis must match exactly, but along dimension 1, the array at index 0 has size 12 and the array at index 1 has size 1"
     ]
    }
   ],
   "source": [
    "out_hybridlsqr = hybrid_lsqr(A, b, 20, regparam = 'dp', delta = deltanew)"
   ]
  },
  {
   "cell_type": "code",
   "execution_count": 16,
   "metadata": {},
   "outputs": [
    {
     "name": "stdout",
     "output_type": "stream",
     "text": [
      "[0. 0. 0. 0. 0. 0. 0. 0. 0. 0. 0. 0. 0. 0. 0. 0. 0. 0. 0. 0.]\n"
     ]
    }
   ],
   "source": [
    "regP = out_hybridlsqr[4]\n",
    "print(regP)"
   ]
  },
  {
   "cell_type": "code",
   "execution_count": 11,
   "metadata": {},
   "outputs": [],
   "source": [
    "U = out_hybridlsqr[1]; B = out_hybridlsqr[2]; V = out_hybridlsqr[3]"
   ]
  },
  {
   "cell_type": "code",
   "execution_count": 12,
   "metadata": {},
   "outputs": [],
   "source": [
    "bhat = np.zeros(14,); bhat[0] = np.linalg.norm(b)\n",
    "L = np.eye(13)"
   ]
  },
  {
   "cell_type": "code",
   "execution_count": 13,
   "metadata": {},
   "outputs": [
    {
     "name": "stderr",
     "output_type": "stream",
     "text": [
      "/Users/silvia/opt/anaconda3/envs/trip/lib/python3.8/site-packages/trips/parameter_selection/discrepancy_principle.py:84: FutureWarning: `rcond` parameter will change to the default of machine precision times ``max(M, N)`` where M and N are the input matrix dimensions.\n",
      "To use the future default and silence this warning we advise to pass `rcond=None`, to keep using the old, explicitly pass `rcond=-1`.\n",
      "  tikh_sol = lambda reg_param: np.linalg.lstsq(np.vstack((A, np.sqrt(reg_param)*L)), np.vstack((b.reshape((-1,1)), np.zeros((L.shape[0],1)))))[0]\n",
      "/Users/silvia/opt/anaconda3/envs/trip/lib/python3.8/site-packages/scipy/optimize/_minpack_py.py:178: RuntimeWarning: The iteration is not making good progress, as measured by the \n",
      "  improvement from the last ten iterations.\n",
      "  warnings.warn(msg, RuntimeWarning)\n"
     ]
    }
   ],
   "source": [
    "lambdah = discrepancy_principle(B, bhat, L, delta = deltanew)"
   ]
  },
  {
   "cell_type": "code",
   "execution_count": 14,
   "metadata": {},
   "outputs": [
    {
     "name": "stdout",
     "output_type": "stream",
     "text": [
      "2.5551000000000003e-06\n"
     ]
    }
   ],
   "source": [
    "print(lambdah)"
   ]
  },
  {
   "cell_type": "code",
   "execution_count": null,
   "metadata": {},
   "outputs": [],
   "source": [
    "regP = out_hybridlsqr[4]\n",
    "print(regP)"
   ]
  },
  {
   "cell_type": "code",
   "execution_count": null,
   "metadata": {},
   "outputs": [],
   "source": []
  }
 ],
 "metadata": {
  "kernelspec": {
   "display_name": "trip",
   "language": "python",
   "name": "python3"
  },
  "language_info": {
   "codemirror_mode": {
    "name": "ipython",
    "version": 3
   },
   "file_extension": ".py",
   "mimetype": "text/x-python",
   "name": "python",
   "nbconvert_exporter": "python",
   "pygments_lexer": "ipython3",
   "version": "3.8.8"
  }
 },
 "nbformat": 4,
 "nbformat_minor": 2
}
