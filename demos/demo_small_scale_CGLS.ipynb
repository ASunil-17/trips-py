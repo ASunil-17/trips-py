{
 "cells": [
  {
   "cell_type": "code",
   "execution_count": 46,
   "metadata": {},
   "outputs": [],
   "source": [
    "#!/usr/bin/env python\n",
    "\"\"\"\n",
    "Demo for CGLS test problem on a small scale problem Deblurring problem how to stack A and L and call CGLS\n",
    "--------------------------------------------------------------------------\n",
    "Created in 2024 for TRIPs-Py library\n",
    "\"\"\"\n",
    "__authors__ = \"Mirjeta Pasha, Silvia Gazzola, Connor Sanderford, and Ugochukwu Obinna Ugwu\"\n",
    "__affiliations__ = 'Tufts University, University of Bath, Arizona State University, and Tufts University'\n",
    "__copyright__ = \"Copyright 2023, TRIPs-Py library\"\n",
    "__license__ = \"GPL\"\n",
    "__version__ = \"1.0\"\n",
    "__email__ = \"mirjeta.pasha@tufts.edu; mirjeta.pasha1@gmail.com; sg968@bath.ac.uk; csanderf@asu.edu; connorsanderford@gmail.com; Ugochukwu.Ugwu@tufts.edu\""
   ]
  },
  {
   "cell_type": "code",
   "execution_count": 10,
   "metadata": {},
   "outputs": [],
   "source": [
    "from trips.solvers.tSVD import *\n",
    "from trips.test_problems.Deblurring import Deblurring\n",
    "import matplotlib.pyplot as plt\n",
    "from trips.utilities.helpers import *\n",
    "from trips.utilities.operators import *\n",
    "from trips.solvers.CGLS import *"
   ]
  },
  {
   "cell_type": "code",
   "execution_count": 11,
   "metadata": {},
   "outputs": [
    {
     "name": "stdout",
     "output_type": "stream",
     "text": [
      "data already in the path.\n"
     ]
    }
   ],
   "source": [
    "# Deblurring example test problem\n",
    "Deblur = Deblurring(CommitCrime = False)\n",
    "# In the class Deblurring we have can define the type of problem to be used.\n",
    "generate_matrix = True #Defines a blurring operator where the forward operator matrix is formed explicitly\n",
    "nx = 50 # Define the first dimension of the image\n",
    "ny = 50 # Define the second dimension of the image\n",
    "spread = (1,1) # The PSF parameter\n",
    "choose_image = 'satellite' #The choice of the image:\n",
    "# Options for the choice of the image are Himage, satellite64, satellite128, edges\n",
    "# if generate_matrix == True:\n",
    "shape = (nx, ny)\n",
    "dim = (3,3)\n",
    "A = Deblur.forward_Op(dim, spread, nx, ny)\n",
    "x_true = Deblur.gen_true(choose_image)\n",
    "b_true = Deblur.gen_data(x_true)\n",
    "(b, delta) = Deblur.add_noise(b_true, opt = 'Gaussian', noise_level = 0.01)\n",
    "b_vec = b.reshape((-1,1))"
   ]
  },
  {
   "cell_type": "code",
   "execution_count": 20,
   "metadata": {},
   "outputs": [],
   "source": [
    "# pick an initial guess\n",
    "x_0 = A.T@b_vec"
   ]
  },
  {
   "cell_type": "code",
   "execution_count": 34,
   "metadata": {},
   "outputs": [],
   "source": [
    "L = first_derivative_operator_2d(nx, ny)\n",
    "## Only for relatively small scale problems\n",
    "# A = A.todense()\n",
    "L = L.todense()"
   ]
  },
  {
   "cell_type": "code",
   "execution_count": 43,
   "metadata": {},
   "outputs": [],
   "source": [
    "# Ahat = np.concatenate((A, L))\n",
    "reg_param = 0.01\n",
    "Ahat = np.vstack((A,np.sqrt(reg_param)*L))"
   ]
  },
  {
   "cell_type": "code",
   "execution_count": 44,
   "metadata": {},
   "outputs": [],
   "source": [
    "bhat = np.concatenate((b_vec, np.zeros((L.shape[0], 1) )))"
   ]
  },
  {
   "cell_type": "code",
   "execution_count": 45,
   "metadata": {},
   "outputs": [
    {
     "data": {
      "text/plain": [
       "<matplotlib.image.AxesImage at 0x7fd5ca3743a0>"
      ]
     },
     "execution_count": 45,
     "metadata": {},
     "output_type": "execute_result"
    },
    {
     "data": {
      "image/png": "[encoded data removed]",
      "text/plain": [
       "<Figure size 432x288 with 1 Axes>"
      ]
     },
     "metadata": {
      "needs_background": "light"
     },
     "output_type": "display_data"
    }
   ],
   "source": [
    "x_cgls, info = CGLS(Ahat, bhat, x_0, max_iter = 50, tol = 0.001)\n",
    "plt.imshow(x_cgls.reshape((nx, ny)))"
   ]
  }
 ],
 "metadata": {
  "kernelspec": {
   "display_name": "base",
   "language": "python",
   "name": "python3"
  },
  "language_info": {
   "codemirror_mode": {
    "name": "ipython",
    "version": 3
   },
   "file_extension": ".py",
   "mimetype": "text/x-python",
   "name": "python",
   "nbconvert_exporter": "python",
   "pygments_lexer": "ipython3",
   "version": "3.8.8"
  }
 },
 "nbformat": 4,
 "nbformat_minor": 2
}
