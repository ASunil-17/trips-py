{
 "cells": [
  {
   "cell_type": "code",
   "execution_count": 1,
   "metadata": {},
   "outputs": [],
   "source": [
    "#!/usr/bin/env python\n",
    "\"\"\"\n",
    "Created December 10, 2022 for TRIPs-Py library\n",
    "\"\"\"\n",
    "__authors__ = \"Mirjeta Pasha and Connor Sanderford\"\n",
    "__copyright__ = \"Copyright 2022, TRIPs-Py library\"\n",
    "__license__ = \"GPL\"\n",
    "__version__ = \"0.1\"\n",
    "__maintainer__ = \"Mirjeta Pasha and Connor Sanderford\"\n",
    "__email__ = \"mirjeta.pasha@tufts.edu; mirjeta.pasha1@gmail.com and csanderf@asu.edu; connorsanderford@gmail.com\""
   ]
  },
  {
   "attachments": {},
   "cell_type": "markdown",
   "metadata": {},
   "source": [
    "#### Import the methods and functions needed"
   ]
  },
  {
   "cell_type": "code",
   "execution_count": 2,
   "metadata": {},
   "outputs": [],
   "source": [
    "import numpy as np\n",
    "import scipy as sp\n",
    "import scipy.stats as sps\n",
    "import scipy.io as spio\n",
    "import matplotlib\n",
    "from venv import create\n",
    "import pylops\n",
    "from scipy.ndimage import convolve\n",
    "from scipy import sparse\n",
    "import scipy.special as spe\n",
    "import matplotlib.pyplot as plt"
   ]
  },
  {
   "cell_type": "code",
   "execution_count": 3,
   "metadata": {},
   "outputs": [],
   "source": [
    "class Deblurring:\n",
    "    def __init__(self,**kwargs):\n",
    "        seed = kwargs.pop('seed',2022)\n",
    "    def Gauss(self, PSFdim, PSFspread):\n",
    "        self.m = PSFdim[0]\n",
    "        self.n = PSFdim[1]\n",
    "        self.dim = PSFdim\n",
    "        self.spread = PSFspread\n",
    "        self.s1, self.s2 = PSFspread, PSFspread\n",
    "        # Set up grid points to evaluate the Gaussian function\n",
    "        x = np.arange(-np.fix(self.n/2), np.ceil(self.n/2))\n",
    "        y = np.arange(-np.fix(self.m/2), np.ceil(self.m/2))\n",
    "        X, Y = np.meshgrid(x, y)\n",
    "        # Compute the Gaussian, and normalize the PSF.\n",
    "        PSF = np.exp( -0.5* ((X**2)/(self.s1**2) + (Y**2)/(self.s2**2)) )\n",
    "        PSF /= PSF.sum()\n",
    "        # find the center\n",
    "        mm, nn = np.where(PSF == PSF.max())\n",
    "        center = np.array([mm[0], nn[0]])\n",
    "        return PSF, center.astype(int)\n",
    "\n",
    "    def forward_Op(self, dim, spread, nx, ny):\n",
    "        PSF, center = self.Gauss(dim, spread)\n",
    "        proj_forward = lambda X: convolve(X.reshape([nx,ny]), PSF, mode='constant').flatten()\n",
    "        proj_backward = lambda B: convolve(B.reshape([nx,ny]), np.flipud(np.fliplr(PSF)), mode='constant' ).flatten()\n",
    "        blur = pylops.FunctionOperator(proj_forward, proj_backward, nx*ny)\n",
    "        return blur\n",
    "\n",
    "    def generate_true(self, choose_image):\n",
    "        # Specify the path\n",
    "        path_package = '/Users/mirjetapasha/Documents/Research_Projects/TRIPS_June25/multiparameter_package'\n",
    "        if choose_image == 'satellite128':\n",
    "            dataa = spio.loadmat(path_package + '/demos/data/images/satellite128.mat')\n",
    "            X = dataa['x_true']\n",
    "            X_true = X/X.max()\n",
    "            self.nx, self.ny = X_true.shape  \n",
    "            x_truef = X_true.flatten(order = 'F')\n",
    "        elif choose_image == 'satellite64':\n",
    "            dataa = spio.loadmat(path_package + '/demos/data/images/satellite64.mat')\n",
    "            X = dataa['x_new']\n",
    "            X_true = X/X.max()\n",
    "            self.nx, self.ny = X_true.shape  \n",
    "            x_truef = X_true.flatten(order = 'F')\n",
    "        elif choose_image == 'edges':\n",
    "            dataa = spio.loadmat(path_package + '/demos/data/images/edges.mat')\n",
    "            X = dataa['x']\n",
    "            X_true = X/X.max()\n",
    "            self.nx, self.ny = X_true.shape  \n",
    "            x_truef = X_true.flatten(order = 'F')\n",
    "        elif choose_image == 'pattern1':\n",
    "            dataa = spio.loadmat(path_package + '/demos/data/images/shape1.mat')\n",
    "            X = dataa['xtrue']\n",
    "            X_true = X/X.max()\n",
    "            self.nx, self.ny = X_true.shape  \n",
    "            x_truef = X_true.flatten(order = 'F')\n",
    "        elif choose_image == 'Himage':\n",
    "            dx = 10\n",
    "            dy = 10\n",
    "            up_width = 10\n",
    "            bar_width= 5\n",
    "            size = 64\n",
    "            self.nx, self.ny = 64, 64\n",
    "            h_im = np.zeros((size, size))\n",
    "            for i in range(size):\n",
    "                if i < dy or i > size-dy:\n",
    "                    continue\n",
    "                for j in range(size):\n",
    "                    if j < dx or j > size - dx:\n",
    "                        continue\n",
    "                    if j < dx + up_width or j > size - dx - up_width:\n",
    "                        h_im[i, j] = 1\n",
    "                    if abs(i - size/2) < bar_width:\n",
    "                        h_im[i, j] = 1\n",
    "            x_truef = self.vec(h_im)\n",
    "            # X_true = h_im\n",
    "        else:\n",
    "            raise ValueError(\"The image you requested does not exist! Specify the right name.\")\n",
    "        return (x_truef, self.nx, self.ny)\n",
    "        ## convert a 2-d image into a 1-d vector\n",
    "    def vec(self, image):\n",
    "        sh = image.shape\n",
    "        return image.reshape((sh[0]*sh[1]))\n",
    "\n",
    "    ## convert a 1-d vector into a 2-d image of the given shape\n",
    "    def im(self, x, shape):\n",
    "        return x.reshape(shape)\n",
    "\n",
    "    ## display a 1-d vector as a 2-d image\n",
    "    def display_vec(self, vec, shape, scale = 1):\n",
    "        image = self.im(vec, shape)\n",
    "        plt.imshow(image, vmin=0, vmax=scale * np.max(vec), cmap='gray')\n",
    "        plt.axis('off')\n",
    "        plt.show()\n",
    "    \n",
    "        ## a helper function for creating the blurring operator\n",
    "    def get_column_sum(self, spread):\n",
    "        length = 40\n",
    "        raw = np.array([np.exp(-(((i-length/2)/spread[0])**2 + ((j-length/2)/spread[1])**2)/2) \n",
    "                        for i in range(length) for j in range(length)])\n",
    "        return np.sum(raw[raw > 0.0001])\n",
    "\n",
    "    ## blurs a single pixel at center with a specified Gaussian spread\n",
    "\n",
    "    def P(self, spread, center, shape):\n",
    "        image = np.zeros(shape)\n",
    "        for i in range(shape[0]):\n",
    "            for j in range(shape[1]):\n",
    "                v = np.exp(-(((i-center[0])/spread[0])**2 + ((j-center[1])/spread[1])**2)/2)\n",
    "                if v < 0.0001:\n",
    "                    continue\n",
    "                image[i,j] = v\n",
    "        return image\n",
    "\n",
    "    def forward_Op_matrix(self, spread, shape, nx, ny):\n",
    "        ## construct our blurring matrix with a Gaussian spread and zero boundary conditions\n",
    "        #normalize = get_column_sum(spread)\n",
    "        m = shape[0]\n",
    "        n = shape[1]\n",
    "        A = np.zeros((m*n, m*n))\n",
    "        count = 0\n",
    "        self.spread = spread\n",
    "        self.shape = shape\n",
    "        for i in range(m):\n",
    "            for j in range(n):\n",
    "                column = self.vec(self.P(spread, [i, j],  shape))\n",
    "                A[:, count] = column\n",
    "                count += 1\n",
    "        normalize = np.sum(A[:, int(m*n/2 + n/2)])\n",
    "        A = 1/normalize * A\n",
    "        return A\n",
    "\n",
    "    def generate_data(self, x, matrix):\n",
    "        if matrix == False:\n",
    "            A = self.forward_Op(self.dim, self.spread, self.nx, self.ny)\n",
    "            b = A*x\n",
    "        else:\n",
    "            A = self.forward_Op_matrix(self.spread, self.shape, self.nx, self.ny)\n",
    "            b = A@x\n",
    "        return b\n",
    "        \n",
    "    def add_noise(self, b_true, opt, noise_level):\n",
    "        if (opt == 'Gaussian'):\n",
    "            mu_obs = np.zeros(self.nx*self.ny)      # mean of noise\n",
    "            e = np.random.randn(self.nx*self.ny)\n",
    "            delta = np.linalg.norm(e)\n",
    "            sig_obs = noise_level * np.linalg.norm(b_true)/np.linalg.norm(e)\n",
    "            b_meas = b_true + sig_obs*e\n",
    "            b_meas_im = b_meas.reshape((self.nx, self.ny), order='F')\n",
    "        return (b_meas_im, delta)"
   ]
  },
  {
   "cell_type": "code",
   "execution_count": 4,
   "metadata": {},
   "outputs": [],
   "source": [
    "def TruncatedSVD_sol(A, k, b_vec):\n",
    "  U, S, VT = np.linalg.svd(A)\n",
    "  S_hat = S[0:k] #extract the first r singular values\n",
    "  S_hat_mat = np.diag(S_hat) #form a diagonal matrix\n",
    "  U_temp = U[:, 0:k]\n",
    "  x_trunc = np.transpose(VT[0:k, :])@np.linalg.inv(S_hat_mat)@np.transpose(U_temp)@b_vec\n",
    "  return x_trunc"
   ]
  },
  {
   "attachments": {},
   "cell_type": "markdown",
   "metadata": {},
   "source": [
    "Step 1: Generate a small deblurring example"
   ]
  },
  {
   "cell_type": "code",
   "execution_count": 5,
   "metadata": {},
   "outputs": [],
   "source": [
    "# Deblurring example test problem\n",
    "Deblur = Deblurring()\n",
    "# In the class Deblurring we have can define the type of problem to be used.\n",
    "generate_matrix = True #Defines a blurring operator where the forward operator matrix is formed explicitly\n",
    "imagesize_x = 64 # Define the first dimension of the image\n",
    "imagesize_y = 64 # Defines the second dimension of the image\n",
    "spread = 2 # The PSF parameter\n",
    "choose_image = 'pattern1' #The choice of the image\n",
    "if generate_matrix == True:\n",
    "        size = imagesize_x\n",
    "        shape = (size, size)\n",
    "        spreadnew = (spread, spread)\n",
    "        A = Deblur.forward_Op_matrix(spreadnew, shape, imagesize_x, imagesize_y)\n",
    "(x_true, nx, ny) = Deblur.generate_true(choose_image)\n",
    "b_true = Deblur.generate_data(x_true, generate_matrix)\n",
    "(b, delta) = Deblur.add_noise(b_true, 'Gaussian', noise_level = 0.01)"
   ]
  },
  {
   "cell_type": "code",
   "execution_count": 6,
   "metadata": {},
   "outputs": [
    {
     "data": {
      "text/plain": [
       "<matplotlib.image.AxesImage at 0x7f80f8942f10>"
      ]
     },
     "execution_count": 6,
     "metadata": {},
     "output_type": "execute_result"
    },
    {
     "data": {
      "image/png": "[encoded data removed]",
      "text/plain": [
       "<Figure size 432x288 with 1 Axes>"
      ]
     },
     "metadata": {
      "needs_background": "light"
     },
     "output_type": "display_data"
    }
   ],
   "source": [
    "plt.imshow(x_true.reshape((64, 64)))"
   ]
  },
  {
   "cell_type": "code",
   "execution_count": 7,
   "metadata": {},
   "outputs": [
    {
     "data": {
      "text/plain": [
       "<matplotlib.image.AxesImage at 0x7f80d9dc4220>"
      ]
     },
     "execution_count": 7,
     "metadata": {},
     "output_type": "execute_result"
    },
    {
     "data": {
      "image/png": "[encoded data removed]",
      "text/plain": [
       "<Figure size 432x288 with 1 Axes>"
      ]
     },
     "metadata": {
      "needs_background": "light"
     },
     "output_type": "display_data"
    }
   ],
   "source": [
    "plt.imshow(b.reshape((64, 64)))"
   ]
  },
  {
   "attachments": {},
   "cell_type": "markdown",
   "metadata": {},
   "source": [
    "#### Compute the truncated SVD solution of a problem by specifying how many singular values you want to keep after truncation"
   ]
  },
  {
   "cell_type": "code",
   "execution_count": 9,
   "metadata": {},
   "outputs": [
    {
     "data": {
      "text/plain": [
       "(-0.5, 63.5, 63.5, -0.5)"
      ]
     },
     "execution_count": 9,
     "metadata": {},
     "output_type": "execute_result"
    },
    {
     "data": {
      "image/png": "[encoded data removed]",
      "text/plain": [
       "<Figure size 432x288 with 1 Axes>"
      ]
     },
     "metadata": {
      "needs_background": "light"
     },
     "output_type": "display_data"
    }
   ],
   "source": [
    "truncated_value = 3\n",
    "b_vec = b.reshape((-1,1))\n",
    "x_tsvd = TruncatedSVD_sol(A, truncated_value, b_vec)\n",
    "plt.imshow(x_tsvd.reshape((imagesize_x, imagesize_y)))\n",
    "plt.axis('off')"
   ]
  },
  {
   "cell_type": "code",
   "execution_count": 10,
   "metadata": {},
   "outputs": [
    {
     "data": {
      "text/plain": [
       "(-0.5, 63.5, 63.5, -0.5)"
      ]
     },
     "execution_count": 10,
     "metadata": {},
     "output_type": "execute_result"
    },
    {
     "data": {
      "image/png": "[encoded data removed]",
      "text/plain": [
       "<Figure size 432x288 with 1 Axes>"
      ]
     },
     "metadata": {
      "needs_background": "light"
     },
     "output_type": "display_data"
    }
   ],
   "source": [
    "k = 100\n",
    "b_vec = b.reshape((-1,1))\n",
    "x_tsvd = TruncatedSVD_sol(A, k, b_vec)\n",
    "plt.imshow(x_tsvd.reshape((imagesize_x, imagesize_y)))\n",
    "plt.axis('off')"
   ]
  }
 ],
 "metadata": {
  "kernelspec": {
   "display_name": "base",
   "language": "python",
   "name": "python3"
  },
  "language_info": {
   "codemirror_mode": {
    "name": "ipython",
    "version": 3
   },
   "file_extension": ".py",
   "mimetype": "text/x-python",
   "name": "python",
   "nbconvert_exporter": "python",
   "pygments_lexer": "ipython3",
   "version": "3.8.12"
  },
  "orig_nbformat": 4
 },
 "nbformat": 4,
 "nbformat_minor": 2
}
