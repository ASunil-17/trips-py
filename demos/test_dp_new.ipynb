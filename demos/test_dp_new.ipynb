{
 "cells": [
  {
   "cell_type": "code",
   "execution_count": 17,
   "metadata": {},
   "outputs": [],
   "source": [
    "from trips.testProblems import *\n",
    "from pylops import Identity, LinearOperator\n",
    "from trips.utils import operator_qr, operator_svd, is_identity\n",
    "from trips.parameter_selection.gcv import *\n",
    "from trips.parameter_selection.discrepancy_principle import *\n",
    "import scipy.linalg as la\n",
    "import scipy.optimize as op\n",
    "import numpy as np\n",
    "# from trips.solvers.Tikhonov import *\n",
    "# from trips.solvers.Hybrid_LSQR import *"
   ]
  },
  {
   "cell_type": "code",
   "execution_count": 18,
   "metadata": {},
   "outputs": [],
   "source": [
    "D1D = Deblurring1D()\n",
    "N = 64\n",
    "n = N\n",
    "A = D1D.forward_Op_matrix_1D(3, N)\n",
    "# A = np.vstack((A, np.random.rand(3,N)))\n",
    "x_true = D1D.gen_xtrue(N, test = 'piecewise')\n",
    "b_true = A@x_true\n",
    "(b, delta) = D1D.add_noise(b_true, 'Gaussian', 0.05)\n",
    "# plt.plot(x_true)\n",
    "# D1D.plot_data(b)"
   ]
  },
  {
   "cell_type": "code",
   "execution_count": 19,
   "metadata": {},
   "outputs": [
    {
     "name": "stdout",
     "output_type": "stream",
     "text": [
      "0.06737815009758147\n",
      "11.02777859789314\n",
      "(64,)\n"
     ]
    }
   ],
   "source": [
    "deltavar1 = la.norm(b.reshape((-1,1)) - (A@x_true).reshape((-1,1)))\n",
    "deltavar2 = la.norm(b.reshape((-1,1)) - np.matmul(A,x_true))\n",
    "# deltavar = la.norm(b.reshape((-1,1)) - (A@x_true))\n",
    "print(deltavar1)\n",
    "print(deltavar2)\n",
    "print(np.matmul(A,x_true).shape)\n",
    "deltavar = deltavar1"
   ]
  },
  {
   "cell_type": "code",
   "execution_count": null,
   "metadata": {},
   "outputs": [],
   "source": []
  },
  {
   "cell_type": "code",
   "execution_count": 20,
   "metadata": {},
   "outputs": [],
   "source": [
    "import numpy as np \n",
    "import scipy.linalg as la\n",
    "\n",
    "from trips.utils import operator_qr, operator_svd, is_identity\n",
    "import warnings\n",
    "\n",
    "def discrepancy_principle_new(A, b, L, delta = None, eta = 1.01, **kwargs):\n",
    "\n",
    "    if not ( isinstance(delta, float) or isinstance(delta, int)):\n",
    "\n",
    "        # raise TypeError('You must provide a value for the noise level delta.')\n",
    "        raise Exception(\"\"\"A value for the noise level delta was not provided and the discrepancy principle cannot be applied. \n",
    "                    Please supply a value of delta based on the estimated noise level of the problem, or choose the regularization parameter according to gcv.\"\"\")\n",
    "\n",
    "    if is_identity(L):\n",
    "        Anew = A\n",
    "        bnew = b\n",
    "    else: ### MORE CASES TO BE CONSIDERED\n",
    "        UL, SL, VL = la.svd(L)\n",
    "        if L.shape[0] >= L.shape[1] and SL[-1] != 0:\n",
    "            print('here')\n",
    "            Anew = A@(VL.T@np.diag((SL)**(-1)))\n",
    "            bnew = b\n",
    "        elif L.shape[0] >= L.shape[1] and SL[-1] != 0:\n",
    "            zeroind = np.where(SL == 0)\n",
    "            W = VL[:,zeroind]\n",
    "            AW = A@W\n",
    "            Q_AW, R_AW = np.linalg.qr(AW, mode='reduced')\n",
    "            Q_LT, R_LT = np.linalg.qr(L.T, mode='reduced')\n",
    "            LAwpinv = (np.eye(L.shape[1]) - (W@np.linalg.inv(R_AW)@Q_AW.T@A))@Q_LT@np.linalg.inv(R_LT.T)\n",
    "            Anew = A@LAwpinv\n",
    "            xnull = W@np.linalg.inv(R_AW)@Q_AW.T@b\n",
    "            bnew = b - A@xnull\n",
    "        elif  (L.shape[0] < L.shape[1]):\n",
    "            print(L.shape[0]-L.shape[1])\n",
    "            W = VL[:,L.shape[0]-L.shape[1]:]\n",
    "            # print(W.shape)\n",
    "            AW = A@W\n",
    "            Q_AW, R_AW = np.linalg.qr(AW, mode='reduced')\n",
    "            Q_LT, R_LT = np.linalg.qr(L.T, mode='reduced')\n",
    "            print((W@np.linalg.inv(R_AW)@Q_AW.T@A).shape)\n",
    "            LAwpinv = (np.eye(L.shape[1]) - (W@np.linalg.inv(R_AW)@Q_AW.T@A))@Q_LT@np.linalg.inv(R_LT.T)\n",
    "            Anew = A@LAwpinv\n",
    "            xnull = W@np.linalg.inv(R_AW)@Q_AW.T@b\n",
    "            bnew = b - A@xnull\n",
    "\n",
    "    \n",
    "    U, S, V = la.svd(Anew)\n",
    "    singular_values = S**2\n",
    "    if Anew.shape[0] > Anew.shape[1]:\n",
    "        singular_values = np.append(singular_values.reshape((-1,1)), np.zeros((Anew.shape[0]-Anew.shape[1],1)))\n",
    "    singular_values.shape = (singular_values.shape[0], 1)\n",
    "    bhat = U.T @ bnew\n",
    "    \n",
    "    beta = 1e-8\n",
    "    iterations = 0\n",
    "\n",
    "    while (iterations < 30) or ((iterations <= 100) and (np.abs(alpha) < 10**(-16))):\n",
    "        print(iterations)\n",
    "        zbeta = (((singular_values*beta + 1)**(-1))*bhat.reshape((-1,1))).reshape((-1,1))\n",
    "        f = la.norm(zbeta)**2 - (eta*delta)**2\n",
    "        wbeta = (((singular_values*beta + 1)**(-1))*zbeta).reshape((-1,1))\n",
    "        f_prime = 2/beta*zbeta.T@(wbeta - zbeta)\n",
    "\n",
    "        # tikh_sol = lambda reg_param: np.linalg.lstsq(np.vstack((Anew, (1/np.sqrt(reg_param))*np.eye(Anew.shape[1]))), np.vstack((bnew.reshape((-1,1)), np.zeros((Anew.shape[1],1)))))[0]\n",
    "        # discr_func_zero = lambda reg_param: (np.linalg.norm(np.matmul(Anew,tikh_sol(reg_param)).reshape((-1,1)) - (bnew.reshape((-1,1))))**2 - (eta*delta)**2)\n",
    "        tikh_sol = lambda reg_param: np.linalg.lstsq(np.vstack((A, (1/np.sqrt(reg_param))*L)), np.vstack((bnew.reshape((-1,1)), np.zeros((L.shape[0],1)))))[0]\n",
    "        discr_func_zero = lambda reg_param: (np.linalg.norm(np.matmul(A,tikh_sol(reg_param)).reshape((-1,1)) - (b.reshape((-1,1))))**2 - (eta*delta)**2)\n",
    "\n",
    "        print(f)\n",
    "        print(discr_func_zero(beta))\n",
    "\n",
    "        beta_new = beta - f/f_prime\n",
    "\n",
    "        if abs(beta_new - beta) < 10**(-12)* beta:\n",
    "            break\n",
    "\n",
    "        beta = beta_new\n",
    "        alpha = 1/beta_new\n",
    "\n",
    "        iterations += 1\n",
    "\n",
    "\n",
    "    return alpha#{'x':alpha}"
   ]
  },
  {
   "cell_type": "code",
   "execution_count": 21,
   "metadata": {},
   "outputs": [
    {
     "ename": "TypeError",
     "evalue": "'module' object is not callable",
     "output_type": "error",
     "traceback": [
      "\u001b[0;31m---------------------------------------------------------------------------\u001b[0m",
      "\u001b[0;31mTypeError\u001b[0m                                 Traceback (most recent call last)",
      "\u001b[0;32m<ipython-input-21-be4ae109605a>\u001b[0m in \u001b[0;36m<module>\u001b[0;34m\u001b[0m\n\u001b[0;32m----> 1\u001b[0;31m \u001b[0moutTikhLvar\u001b[0m \u001b[0;34m=\u001b[0m \u001b[0mTikhonov\u001b[0m\u001b[0;34m(\u001b[0m\u001b[0mA\u001b[0m\u001b[0;34m,\u001b[0m \u001b[0mb\u001b[0m\u001b[0;34m,\u001b[0m \u001b[0mLvar\u001b[0m\u001b[0;34m,\u001b[0m \u001b[0mx_true\u001b[0m\u001b[0;34m,\u001b[0m \u001b[0mregparam\u001b[0m \u001b[0;34m=\u001b[0m \u001b[0;34m'dp'\u001b[0m\u001b[0;34m,\u001b[0m \u001b[0mdelta\u001b[0m \u001b[0;34m=\u001b[0m \u001b[0mdeltavar\u001b[0m\u001b[0;34m)\u001b[0m\u001b[0;34m\u001b[0m\u001b[0;34m\u001b[0m\u001b[0m\n\u001b[0m\u001b[1;32m      2\u001b[0m \u001b[0mxTikhLvar\u001b[0m \u001b[0;34m=\u001b[0m \u001b[0moutTikhLvar\u001b[0m\u001b[0;34m[\u001b[0m\u001b[0;36m0\u001b[0m\u001b[0;34m]\u001b[0m\u001b[0;34m\u001b[0m\u001b[0;34m\u001b[0m\u001b[0m\n\u001b[1;32m      3\u001b[0m \u001b[0malphaLvar\u001b[0m \u001b[0;34m=\u001b[0m \u001b[0moutTikhLvar\u001b[0m\u001b[0;34m[\u001b[0m\u001b[0;36m1\u001b[0m\u001b[0;34m]\u001b[0m\u001b[0;34m\u001b[0m\u001b[0;34m\u001b[0m\u001b[0m\n\u001b[1;32m      4\u001b[0m \u001b[0mprint\u001b[0m\u001b[0;34m(\u001b[0m\u001b[0malphaLvar\u001b[0m\u001b[0;34m)\u001b[0m\u001b[0;34m\u001b[0m\u001b[0;34m\u001b[0m\u001b[0m\n\u001b[1;32m      5\u001b[0m \u001b[0mprint\u001b[0m\u001b[0;34m(\u001b[0m\u001b[0mla\u001b[0m\u001b[0;34m.\u001b[0m\u001b[0mnorm\u001b[0m\u001b[0;34m(\u001b[0m\u001b[0;34m(\u001b[0m\u001b[0mA\u001b[0m\u001b[0;34m@\u001b[0m\u001b[0mxTikhLvar\u001b[0m\u001b[0;34m)\u001b[0m\u001b[0;34m.\u001b[0m\u001b[0mreshape\u001b[0m\u001b[0;34m(\u001b[0m\u001b[0;34m(\u001b[0m\u001b[0;34m-\u001b[0m\u001b[0;36m1\u001b[0m\u001b[0;34m,\u001b[0m\u001b[0;36m1\u001b[0m\u001b[0;34m)\u001b[0m\u001b[0;34m)\u001b[0m \u001b[0;34m-\u001b[0m \u001b[0mb\u001b[0m\u001b[0;34m.\u001b[0m\u001b[0mreshape\u001b[0m\u001b[0;34m(\u001b[0m\u001b[0;34m(\u001b[0m\u001b[0;34m-\u001b[0m\u001b[0;36m1\u001b[0m\u001b[0;34m,\u001b[0m\u001b[0;36m1\u001b[0m\u001b[0;34m)\u001b[0m\u001b[0;34m)\u001b[0m\u001b[0;34m)\u001b[0m \u001b[0;34m-\u001b[0m \u001b[0;36m1.01\u001b[0m\u001b[0;34m*\u001b[0m\u001b[0mdeltavar\u001b[0m\u001b[0;34m)\u001b[0m\u001b[0;34m\u001b[0m\u001b[0;34m\u001b[0m\u001b[0m\n",
      "\u001b[0;31mTypeError\u001b[0m: 'module' object is not callable"
     ]
    }
   ],
   "source": [
    "outTikhLvar = Tikhonov(A, b, Lvar, x_true, regparam = 'dp', delta = deltavar)\n",
    "xTikhLvar = outTikhLvar[0]\n",
    "alphaLvar = outTikhLvar[1]\n",
    "print(alphaLvar)\n",
    "print(la.norm((A@xTikhLvar).reshape((-1,1)) - b.reshape((-1,1))) - 1.01*deltavar)"
   ]
  },
  {
   "cell_type": "code",
   "execution_count": 22,
   "metadata": {},
   "outputs": [],
   "source": [
    "import numpy as np \n",
    "from scipy.optimize import newton, minimize\n",
    "import scipy.optimize as op\n",
    "import scipy.linalg as la\n",
    "\n",
    "from trips.utils import operator_qr, operator_svd, is_identity\n",
    "# from .gcv import gcv_numerator\n",
    "import warnings\n",
    "\n",
    "def discrepancy_principle_basic(A, b, L, delta = None, eta = 1.01, **kwargs):\n",
    "\n",
    "    if not ( isinstance(delta, float) or isinstance(delta, int)):\n",
    "\n",
    "        # raise TypeError('You must provide a value for the noise level delta.')\n",
    "        raise Warning(\"\"\"A value for the noise level delta was not provided. A default value of 0.01 has been used. \n",
    "                    Please supply a value of delta based on the estimated noise level of the problem.\"\"\")\n",
    "\n",
    "        delta = 0.01\n",
    "    \n",
    "    tikh_sol = lambda reg_param: np.linalg.lstsq(np.vstack((A, np.sqrt(reg_param)*L)), np.vstack((b.reshape((-1,1)), np.zeros((L.shape[0],1)))))[0]\n",
    "    discr_func_zero = lambda reg_param: np.linalg.norm(np.matmul(A,tikh_sol(reg_param)).reshape((-1,1)) - b.reshape((-1,1))) - (eta*delta)\n",
    "    alpha = op.fsolve(discr_func_zero, 1e-10)[0]\n",
    "\n",
    "    return alpha#{'x':alpha}"
   ]
  },
  {
   "cell_type": "code",
   "execution_count": 23,
   "metadata": {},
   "outputs": [],
   "source": [
    "import numpy as np\n",
    "from trips.decompositions import golub_kahan, arnoldi\n",
    "from trips.parameter_selection.gcv import generalized_crossvalidation\n",
    "# from trips.parameter_selection.discrepancy_principle import discrepancy_principle\n",
    "from trips.utils import smoothed_holder_weights\n",
    "from collections.abc import Iterable\n",
    "def Tikhonov(A, b, L, x_true, regparam = 'gcv', **kwargs):\n",
    "    if regparam in ['gcv', 'GCV', 'Gcv']:\n",
    "        lambdah = generalized_crossvalidation(A, b, L) # find ideal lambda by crossvalidation ###\n",
    "        xTikh = np.linalg.solve(A.T@A + lambdah*L.T@L, A.T@b)\n",
    "    elif regparam in ['DP', 'dp', 'Dp', 'Discrepancy Principle', 'Discrepancy principle', 'discrepancy principle']:\n",
    "        lambdah = discrepancy_principle_new(A, b, L, **kwargs) # find ideal lambdas by discrepancy principle\n",
    "        # print(lambdah)\n",
    "        xTikh = np.linalg.solve(A.T@A + lambdah*L.T@L, A.T@b)\n",
    "    else:\n",
    "        lambdah = regparam\n",
    "        xTikh = np.linalg.solve(A.T@A + lambdah*L.T@L, A.T@b)\n",
    "    return xTikh, lambdah  "
   ]
  },
  {
   "cell_type": "code",
   "execution_count": 24,
   "metadata": {},
   "outputs": [
    {
     "name": "stdout",
     "output_type": "stream",
     "text": [
      "0\n",
      "1.8407549167422623\n",
      "1.8407549167422605\n",
      "1\n",
      "0.8700988264194941\n",
      "0.8700988264194925\n",
      "2\n",
      "0.41228557103514846\n",
      "0.4122855710351476\n",
      "3\n",
      "0.19529213820441668\n",
      "0.19529213820441693\n",
      "4\n",
      "0.09231282786549914\n",
      "0.09231282786549887\n",
      "5\n",
      "0.04367170342176509\n",
      "0.04367170342176493\n",
      "6\n",
      "0.0207543142498483\n",
      "0.020754314249848364\n",
      "7\n",
      "0.009846771243749164\n",
      "0.00984677124374917\n",
      "8\n",
      "0.004557451202366963\n",
      "0.00455745120236701\n",
      "9\n",
      "0.001961658238851966\n",
      "0.0019616582388519927\n",
      "10\n",
      "0.0007124105271848107\n",
      "0.0007124105271848471\n",
      "11\n",
      "0.00017462778356873345\n",
      "0.0001746277835687508\n",
      "12\n",
      "1.6671529866875423e-05\n",
      "1.667152986690578e-05\n",
      "13\n",
      "1.8377314836993258e-07\n",
      "1.837731484080965e-07\n",
      "14\n",
      "2.2829506514387976e-11\n",
      "2.2829546413027924e-11\n",
      "15\n",
      "0.0\n",
      "4.5102810375396984e-17\n",
      "[[0.00331115]]\n",
      "-4.163336342344337e-17\n"
     ]
    },
    {
     "name": "stderr",
     "output_type": "stream",
     "text": [
      "<ipython-input-20-0ca58d879f53>:67: FutureWarning: `rcond` parameter will change to the default of machine precision times ``max(M, N)`` where M and N are the input matrix dimensions.\n",
      "To use the future default and silence this warning we advise to pass `rcond=None`, to keep using the old, explicitly pass `rcond=-1`.\n",
      "  tikh_sol = lambda reg_param: np.linalg.lstsq(np.vstack((A, (1/np.sqrt(reg_param))*L)), np.vstack((bnew.reshape((-1,1)), np.zeros((L.shape[0],1)))))[0]\n"
     ]
    }
   ],
   "source": [
    "L = np.eye(N)\n",
    "outTikhI = Tikhonov(A, b, L, x_true, regparam = 'dp', delta = deltavar)\n",
    "xTikhI = outTikhI[0]\n",
    "alphaI = outTikhI[1]\n",
    "print(alphaI)\n",
    "print(la.norm((A@xTikhI).reshape((-1,1)) - b.reshape((-1,1)))-1.01*deltavar)"
   ]
  },
  {
   "cell_type": "code",
   "execution_count": 25,
   "metadata": {},
   "outputs": [
    {
     "name": "stdout",
     "output_type": "stream",
     "text": [
      "64\n"
     ]
    }
   ],
   "source": [
    "diags = [-np.ones((N,)), np.ones((N-1,))] \n",
    "L = sparse.diags(diags, [0, 1]).toarray()\n",
    "rank = np.linalg.matrix_rank(L)\n",
    "print(rank)"
   ]
  },
  {
   "cell_type": "code",
   "execution_count": 26,
   "metadata": {},
   "outputs": [
    {
     "name": "stdout",
     "output_type": "stream",
     "text": [
      "here\n",
      "0\n",
      "1.8407281159052458\n",
      "1.8407281159052447\n",
      "1\n",
      "1.1639613817831778\n",
      "1.1639613817831758\n",
      "2\n",
      "0.8637693477235228\n",
      "0.863769347723522\n",
      "3\n",
      "0.5708590657746069\n",
      "0.5708590657746069\n",
      "4\n",
      "0.32486520126566404\n",
      "0.3248652012656643\n",
      "5\n",
      "0.16530360131213676\n",
      "0.16530360131213676\n",
      "6\n",
      "0.08330578576318047\n",
      "0.08330578576318066\n",
      "7\n",
      "0.04155705609682999\n",
      "0.04155705609682983\n",
      "8\n",
      "0.02114549320768687\n",
      "0.021145493207686737\n",
      "9\n",
      "0.010945107584983859\n",
      "0.010945107584983817\n",
      "10\n",
      "0.005493281589578502\n",
      "0.005493281589578494\n",
      "11\n",
      "0.0025527402914060854\n",
      "0.002552740291406055\n",
      "12\n",
      "0.0010331807118630007\n",
      "0.0010331807118630215\n",
      "13\n",
      "0.0003156214358397231\n",
      "0.00031562143583972746\n",
      "14\n",
      "5.0451117667985566e-05\n",
      "5.0451117667969954e-05\n",
      "15\n",
      "1.753355676292409e-06\n",
      "1.7533556762906743e-06\n",
      "16\n",
      "2.2678021769501067e-09\n",
      "2.2678021769501067e-09\n",
      "17\n",
      "3.804248582817138e-15\n",
      "3.788636071533347e-15\n",
      "18\n",
      "0.0\n",
      "1.734723475976807e-18\n",
      "[[0.00668714]]\n",
      "-1.3877787807814457e-17\n"
     ]
    },
    {
     "name": "stderr",
     "output_type": "stream",
     "text": [
      "<ipython-input-20-0ca58d879f53>:67: FutureWarning: `rcond` parameter will change to the default of machine precision times ``max(M, N)`` where M and N are the input matrix dimensions.\n",
      "To use the future default and silence this warning we advise to pass `rcond=None`, to keep using the old, explicitly pass `rcond=-1`.\n",
      "  tikh_sol = lambda reg_param: np.linalg.lstsq(np.vstack((A, (1/np.sqrt(reg_param))*L)), np.vstack((bnew.reshape((-1,1)), np.zeros((L.shape[0],1)))))[0]\n"
     ]
    }
   ],
   "source": [
    "outTikhL = Tikhonov(A, b, L, x_true, regparam = 'dp', delta = deltavar)\n",
    "xTikhL = outTikhL[0]\n",
    "alphaL = outTikhL[1]\n",
    "print(alphaL)\n",
    "print(la.norm((A@xTikhL).reshape((-1,1)) - b.reshape((-1,1))) - 1.01*deltavar)"
   ]
  },
  {
   "cell_type": "code",
   "execution_count": 27,
   "metadata": {},
   "outputs": [
    {
     "name": "stdout",
     "output_type": "stream",
     "text": [
      "[[-0.00337599]]\n"
     ]
    }
   ],
   "source": [
    "print(alphaI - alphaL)"
   ]
  },
  {
   "cell_type": "code",
   "execution_count": 28,
   "metadata": {},
   "outputs": [
    {
     "name": "stdout",
     "output_type": "stream",
     "text": [
      "(64, 64)\n"
     ]
    }
   ],
   "source": [
    "diags = [-np.ones((N,)), np.ones((N-1,))] \n",
    "L = sparse.diags(diags, [0, 1]).toarray()\n",
    "Lvar = L[:-1,:]\n",
    "print(L.shape)"
   ]
  },
  {
   "cell_type": "code",
   "execution_count": 29,
   "metadata": {},
   "outputs": [
    {
     "name": "stdout",
     "output_type": "stream",
     "text": [
      "0\n",
      "1.8407549167422623\n",
      "1.8407549167422605\n",
      "1\n",
      "0.8700988264194941\n",
      "0.8700988264194925\n",
      "2\n",
      "0.41228557103514846\n",
      "0.4122855710351476\n",
      "3\n",
      "0.19529213820441668\n",
      "0.19529213820441693\n",
      "4\n",
      "0.09231282786549914\n",
      "0.09231282786549887\n",
      "5\n",
      "0.04367170342176509\n",
      "0.04367170342176493\n",
      "6\n",
      "0.0207543142498483\n",
      "0.020754314249848364\n",
      "7\n",
      "0.009846771243749164\n",
      "0.00984677124374917\n",
      "8\n",
      "0.004557451202366963\n",
      "0.00455745120236701\n",
      "9\n",
      "0.001961658238851966\n",
      "0.0019616582388519927\n",
      "10\n",
      "0.0007124105271848107\n",
      "0.0007124105271848471\n",
      "11\n",
      "0.00017462778356873345\n",
      "0.0001746277835687508\n",
      "12\n",
      "1.6671529866875423e-05\n",
      "1.667152986690578e-05\n",
      "13\n",
      "1.8377314836993258e-07\n",
      "1.837731484080965e-07\n",
      "14\n",
      "2.2829506514387976e-11\n",
      "2.2829546413027924e-11\n",
      "15\n",
      "0.0\n",
      "4.5102810375396984e-17\n",
      "[[0.00331115]]\n",
      "-4.163336342344337e-17\n"
     ]
    },
    {
     "name": "stderr",
     "output_type": "stream",
     "text": [
      "<ipython-input-20-0ca58d879f53>:67: FutureWarning: `rcond` parameter will change to the default of machine precision times ``max(M, N)`` where M and N are the input matrix dimensions.\n",
      "To use the future default and silence this warning we advise to pass `rcond=None`, to keep using the old, explicitly pass `rcond=-1`.\n",
      "  tikh_sol = lambda reg_param: np.linalg.lstsq(np.vstack((A, (1/np.sqrt(reg_param))*L)), np.vstack((bnew.reshape((-1,1)), np.zeros((L.shape[0],1)))))[0]\n"
     ]
    }
   ],
   "source": [
    "L = np.eye(N)\n",
    "outTikhI = Tikhonov(A, b, L, x_true, regparam = 'dp', delta = deltavar)\n",
    "xTikhI = outTikhI[0]\n",
    "alpha = outTikhI[1]\n",
    "print(alpha)\n",
    "print(la.norm((A@xTikhI).reshape((-1,1)) - b.reshape((-1,1)))-1.01*deltavar)"
   ]
  },
  {
   "cell_type": "code",
   "execution_count": 14,
   "metadata": {},
   "outputs": [],
   "source": [
    "from trips.decompositions import golub_kahan_update\n",
    "import numpy as np\n",
    "from scipy import linalg as la\n",
    "from trips.parameter_selection.gcv import *\n",
    "# from trips.parameter_selection.discrepancy_principle import *\n",
    "from pylops import Identity\n",
    "from trips.solvers import Tikhonov\n",
    "\n",
    "def hybrid_lsqr(A, b, n_iter, regparam = 'gcv', **kwargs): # what's the naming convention here?\n",
    "\n",
    "    delta = kwargs['delta'] if ('delta' in kwargs) else None\n",
    "\n",
    "    eta = kwargs['eta'] if ('eta' in kwargs) else 1.01\n",
    "\n",
    "    if regparam == 'dp' and delta == None:\n",
    "        raise Exception(\"\"\"A value for the noise level delta was not provided and the discrepancy principle cannot be applied. \n",
    "                    Please supply a value of delta based on the estimated noise level of the problem, or choose the regularization parameter according to gcv.\"\"\")\n",
    "    \n",
    "    n = A.shape[1]\n",
    "    beta = np.linalg.norm(b)\n",
    "    U = b.reshape((-1,1))/beta\n",
    "    B = np.empty(1)\n",
    "    V = np.empty((n,1))\n",
    "    RegParam = np.zeros(n_iter,)\n",
    "    Rnrm = np.zeros(n_iter,)\n",
    "\n",
    "    for ii in range(n_iter):\n",
    "        # print(ii)\n",
    "        (U, B, V) = golub_kahan_update(A, U, B, V)\n",
    "        bhat = np.zeros(ii+2,); bhat[0] = beta ###\n",
    "        L = Identity(B.shape[1], B.shape[1])\n",
    "        y = la.lstsq(B,bhat)[0]\n",
    "        nrmr = np.linalg.norm(bhat - B@y)\n",
    "        Rnrm[ii] = nrmr\n",
    "        if ii == 0:\n",
    "            lambdah = 0\n",
    "        else:\n",
    "            if regparam == 'gcv':\n",
    "                #lambdah = generalized_crossvalidation(B, bhat, L, **kwargs)['x'].item()\n",
    "                lambdah = generalized_crossvalidation(B, bhat, L, **kwargs)\n",
    "            elif regparam == 'dp':\n",
    "                print(ii)\n",
    "                # print(eta)\n",
    "                # print(delta)\n",
    "                # print(nrmr)\n",
    "                if nrmr <= eta*delta:\n",
    "                    lambdah = discrepancy_principle_new(B, bhat, L, **kwargs)#['x'].item()\n",
    "                    # lambdah = 0\n",
    "                else:\n",
    "                    lambdah = 0\n",
    "            else:\n",
    "                lambdah = regparam\n",
    "            RegParam[ii] = lambdah\n",
    "            print(lambdah)\n",
    "            L = L.todense() if isinstance(L, LinearOperator) else L\n",
    "            y = la.lstsq(np.matmul(B.T,B) + lambdah*np.matmul(L.T,L), np.matmul(B.T,bhat))[0] ## SG: potentially needs L.T*L; also why lstsq? May just need a solver for linear system; also: you may need np.matmul; also: these are not the normal eqs (you need B'*b)\n",
    "            print(la.norm(B@y - bhat) - eta*delta)\n",
    "            #y = Tikhonov(B, bhat, L, regparam = lambdah)[0]\n",
    "            x = V @ y\n",
    "    return x, U, B, V, RegParam, Rnrm, L"
   ]
  },
  {
   "cell_type": "code",
   "execution_count": 16,
   "metadata": {},
   "outputs": [
    {
     "name": "stdout",
     "output_type": "stream",
     "text": [
      "1\n",
      "0\n",
      "0.20436508131388573\n",
      "2\n",
      "0\n",
      "0.1258798505843784\n",
      "3\n",
      "0\n",
      "0.06411399002656887\n",
      "4\n",
      "0\n",
      "0.0489715360629155\n",
      "5\n",
      "0\n",
      "0.042199965726728864\n",
      "6\n",
      "0\n",
      "0.027033146289538235\n",
      "7\n",
      "0\n",
      "0.01996577661612209\n",
      "8\n",
      "0\n",
      "0.016245987223089883\n",
      "9\n",
      "0\n",
      "0.011862460170661684\n",
      "10\n",
      "0\n",
      "0.00419257738768479\n",
      "11\n",
      "0\n",
      "0.0005381715823420952\n",
      "12\n",
      "0\n",
      "1.8013724351707616\n"
     ]
    },
    {
     "ename": "ValueError",
     "evalue": "all the input array dimensions for the concatenation axis must match exactly, but along dimension 1, the array at index 0 has size 13 and the array at index 1 has size 1",
     "output_type": "error",
     "traceback": [
      "\u001b[0;31m---------------------------------------------------------------------------\u001b[0m",
      "\u001b[0;31mValueError\u001b[0m                                Traceback (most recent call last)",
      "\u001b[0;32m<ipython-input-16-03e68cbecb3c>\u001b[0m in \u001b[0;36m<module>\u001b[0;34m\u001b[0m\n\u001b[0;32m----> 1\u001b[0;31m \u001b[0mout_hybridlsqr\u001b[0m \u001b[0;34m=\u001b[0m \u001b[0mhybrid_lsqr\u001b[0m\u001b[0;34m(\u001b[0m\u001b[0mA\u001b[0m\u001b[0;34m,\u001b[0m \u001b[0mb\u001b[0m\u001b[0;34m,\u001b[0m \u001b[0;36m20\u001b[0m\u001b[0;34m,\u001b[0m \u001b[0mregparam\u001b[0m \u001b[0;34m=\u001b[0m \u001b[0;34m'dp'\u001b[0m\u001b[0;34m,\u001b[0m \u001b[0mdelta\u001b[0m \u001b[0;34m=\u001b[0m \u001b[0mdeltavar\u001b[0m\u001b[0;34m)\u001b[0m\u001b[0;34m\u001b[0m\u001b[0;34m\u001b[0m\u001b[0m\n\u001b[0m",
      "\u001b[0;32m<ipython-input-14-011e98096f36>\u001b[0m in \u001b[0;36mhybrid_lsqr\u001b[0;34m(A, b, n_iter, regparam, **kwargs)\u001b[0m\n\u001b[1;32m     45\u001b[0m                 \u001b[0;31m# print(nrmr)\u001b[0m\u001b[0;34m\u001b[0m\u001b[0;34m\u001b[0m\u001b[0;34m\u001b[0m\u001b[0m\n\u001b[1;32m     46\u001b[0m                 \u001b[0;32mif\u001b[0m \u001b[0mnrmr\u001b[0m \u001b[0;34m<=\u001b[0m \u001b[0meta\u001b[0m\u001b[0;34m*\u001b[0m\u001b[0mdelta\u001b[0m\u001b[0;34m:\u001b[0m\u001b[0;34m\u001b[0m\u001b[0;34m\u001b[0m\u001b[0m\n\u001b[0;32m---> 47\u001b[0;31m                     \u001b[0mlambdah\u001b[0m \u001b[0;34m=\u001b[0m \u001b[0mdiscrepancy_principle_new\u001b[0m\u001b[0;34m(\u001b[0m\u001b[0mB\u001b[0m\u001b[0;34m,\u001b[0m \u001b[0mbhat\u001b[0m\u001b[0;34m,\u001b[0m \u001b[0mL\u001b[0m\u001b[0;34m,\u001b[0m \u001b[0;34m**\u001b[0m\u001b[0mkwargs\u001b[0m\u001b[0;34m)\u001b[0m\u001b[0;31m#['x'].item()\u001b[0m\u001b[0;34m\u001b[0m\u001b[0;34m\u001b[0m\u001b[0m\n\u001b[0m\u001b[1;32m     48\u001b[0m                     \u001b[0;31m# lambdah = 0\u001b[0m\u001b[0;34m\u001b[0m\u001b[0;34m\u001b[0m\u001b[0;34m\u001b[0m\u001b[0m\n\u001b[1;32m     49\u001b[0m                 \u001b[0;32melse\u001b[0m\u001b[0;34m:\u001b[0m\u001b[0;34m\u001b[0m\u001b[0;34m\u001b[0m\u001b[0m\n",
      "\u001b[0;32m<ipython-input-4-0ca58d879f53>\u001b[0m in \u001b[0;36mdiscrepancy_principle_new\u001b[0;34m(A, b, L, delta, eta, **kwargs)\u001b[0m\n\u001b[1;32m     69\u001b[0m \u001b[0;34m\u001b[0m\u001b[0m\n\u001b[1;32m     70\u001b[0m         \u001b[0mprint\u001b[0m\u001b[0;34m(\u001b[0m\u001b[0mf\u001b[0m\u001b[0;34m)\u001b[0m\u001b[0;34m\u001b[0m\u001b[0;34m\u001b[0m\u001b[0m\n\u001b[0;32m---> 71\u001b[0;31m         \u001b[0mprint\u001b[0m\u001b[0;34m(\u001b[0m\u001b[0mdiscr_func_zero\u001b[0m\u001b[0;34m(\u001b[0m\u001b[0mbeta\u001b[0m\u001b[0;34m)\u001b[0m\u001b[0;34m)\u001b[0m\u001b[0;34m\u001b[0m\u001b[0;34m\u001b[0m\u001b[0m\n\u001b[0m\u001b[1;32m     72\u001b[0m \u001b[0;34m\u001b[0m\u001b[0m\n\u001b[1;32m     73\u001b[0m         \u001b[0mbeta_new\u001b[0m \u001b[0;34m=\u001b[0m \u001b[0mbeta\u001b[0m \u001b[0;34m-\u001b[0m \u001b[0mf\u001b[0m\u001b[0;34m/\u001b[0m\u001b[0mf_prime\u001b[0m\u001b[0;34m\u001b[0m\u001b[0;34m\u001b[0m\u001b[0m\n",
      "\u001b[0;32m<ipython-input-4-0ca58d879f53>\u001b[0m in \u001b[0;36m<lambda>\u001b[0;34m(reg_param)\u001b[0m\n\u001b[1;32m     66\u001b[0m         \u001b[0;31m# discr_func_zero = lambda reg_param: (np.linalg.norm(np.matmul(Anew,tikh_sol(reg_param)).reshape((-1,1)) - (bnew.reshape((-1,1))))**2 - (eta*delta)**2)\u001b[0m\u001b[0;34m\u001b[0m\u001b[0;34m\u001b[0m\u001b[0;34m\u001b[0m\u001b[0m\n\u001b[1;32m     67\u001b[0m         \u001b[0mtikh_sol\u001b[0m \u001b[0;34m=\u001b[0m \u001b[0;32mlambda\u001b[0m \u001b[0mreg_param\u001b[0m\u001b[0;34m:\u001b[0m \u001b[0mnp\u001b[0m\u001b[0;34m.\u001b[0m\u001b[0mlinalg\u001b[0m\u001b[0;34m.\u001b[0m\u001b[0mlstsq\u001b[0m\u001b[0;34m(\u001b[0m\u001b[0mnp\u001b[0m\u001b[0;34m.\u001b[0m\u001b[0mvstack\u001b[0m\u001b[0;34m(\u001b[0m\u001b[0;34m(\u001b[0m\u001b[0mA\u001b[0m\u001b[0;34m,\u001b[0m \u001b[0;34m(\u001b[0m\u001b[0;36m1\u001b[0m\u001b[0;34m/\u001b[0m\u001b[0mnp\u001b[0m\u001b[0;34m.\u001b[0m\u001b[0msqrt\u001b[0m\u001b[0;34m(\u001b[0m\u001b[0mreg_param\u001b[0m\u001b[0;34m)\u001b[0m\u001b[0;34m)\u001b[0m\u001b[0;34m*\u001b[0m\u001b[0mL\u001b[0m\u001b[0;34m)\u001b[0m\u001b[0;34m)\u001b[0m\u001b[0;34m,\u001b[0m \u001b[0mnp\u001b[0m\u001b[0;34m.\u001b[0m\u001b[0mvstack\u001b[0m\u001b[0;34m(\u001b[0m\u001b[0;34m(\u001b[0m\u001b[0mbnew\u001b[0m\u001b[0;34m.\u001b[0m\u001b[0mreshape\u001b[0m\u001b[0;34m(\u001b[0m\u001b[0;34m(\u001b[0m\u001b[0;34m-\u001b[0m\u001b[0;36m1\u001b[0m\u001b[0;34m,\u001b[0m\u001b[0;36m1\u001b[0m\u001b[0;34m)\u001b[0m\u001b[0;34m)\u001b[0m\u001b[0;34m,\u001b[0m \u001b[0mnp\u001b[0m\u001b[0;34m.\u001b[0m\u001b[0mzeros\u001b[0m\u001b[0;34m(\u001b[0m\u001b[0;34m(\u001b[0m\u001b[0mL\u001b[0m\u001b[0;34m.\u001b[0m\u001b[0mshape\u001b[0m\u001b[0;34m[\u001b[0m\u001b[0;36m0\u001b[0m\u001b[0;34m]\u001b[0m\u001b[0;34m,\u001b[0m\u001b[0;36m1\u001b[0m\u001b[0;34m)\u001b[0m\u001b[0;34m)\u001b[0m\u001b[0;34m)\u001b[0m\u001b[0;34m)\u001b[0m\u001b[0;34m)\u001b[0m\u001b[0;34m[\u001b[0m\u001b[0;36m0\u001b[0m\u001b[0;34m]\u001b[0m\u001b[0;34m\u001b[0m\u001b[0;34m\u001b[0m\u001b[0m\n\u001b[0;32m---> 68\u001b[0;31m         \u001b[0mdiscr_func_zero\u001b[0m \u001b[0;34m=\u001b[0m \u001b[0;32mlambda\u001b[0m \u001b[0mreg_param\u001b[0m\u001b[0;34m:\u001b[0m \u001b[0;34m(\u001b[0m\u001b[0mnp\u001b[0m\u001b[0;34m.\u001b[0m\u001b[0mlinalg\u001b[0m\u001b[0;34m.\u001b[0m\u001b[0mnorm\u001b[0m\u001b[0;34m(\u001b[0m\u001b[0mnp\u001b[0m\u001b[0;34m.\u001b[0m\u001b[0mmatmul\u001b[0m\u001b[0;34m(\u001b[0m\u001b[0mA\u001b[0m\u001b[0;34m,\u001b[0m\u001b[0mtikh_sol\u001b[0m\u001b[0;34m(\u001b[0m\u001b[0mreg_param\u001b[0m\u001b[0;34m)\u001b[0m\u001b[0;34m)\u001b[0m\u001b[0;34m.\u001b[0m\u001b[0mreshape\u001b[0m\u001b[0;34m(\u001b[0m\u001b[0;34m(\u001b[0m\u001b[0;34m-\u001b[0m\u001b[0;36m1\u001b[0m\u001b[0;34m,\u001b[0m\u001b[0;36m1\u001b[0m\u001b[0;34m)\u001b[0m\u001b[0;34m)\u001b[0m \u001b[0;34m-\u001b[0m \u001b[0;34m(\u001b[0m\u001b[0mb\u001b[0m\u001b[0;34m.\u001b[0m\u001b[0mreshape\u001b[0m\u001b[0;34m(\u001b[0m\u001b[0;34m(\u001b[0m\u001b[0;34m-\u001b[0m\u001b[0;36m1\u001b[0m\u001b[0;34m,\u001b[0m\u001b[0;36m1\u001b[0m\u001b[0;34m)\u001b[0m\u001b[0;34m)\u001b[0m\u001b[0;34m)\u001b[0m\u001b[0;34m)\u001b[0m\u001b[0;34m**\u001b[0m\u001b[0;36m2\u001b[0m \u001b[0;34m-\u001b[0m \u001b[0;34m(\u001b[0m\u001b[0meta\u001b[0m\u001b[0;34m*\u001b[0m\u001b[0mdelta\u001b[0m\u001b[0;34m)\u001b[0m\u001b[0;34m**\u001b[0m\u001b[0;36m2\u001b[0m\u001b[0;34m)\u001b[0m\u001b[0;34m\u001b[0m\u001b[0;34m\u001b[0m\u001b[0m\n\u001b[0m\u001b[1;32m     69\u001b[0m \u001b[0;34m\u001b[0m\u001b[0m\n\u001b[1;32m     70\u001b[0m         \u001b[0mprint\u001b[0m\u001b[0;34m(\u001b[0m\u001b[0mf\u001b[0m\u001b[0;34m)\u001b[0m\u001b[0;34m\u001b[0m\u001b[0;34m\u001b[0m\u001b[0m\n",
      "\u001b[0;32m<ipython-input-4-0ca58d879f53>\u001b[0m in \u001b[0;36m<lambda>\u001b[0;34m(reg_param)\u001b[0m\n\u001b[1;32m     65\u001b[0m         \u001b[0;31m# tikh_sol = lambda reg_param: np.linalg.lstsq(np.vstack((Anew, (1/np.sqrt(reg_param))*np.eye(Anew.shape[1]))), np.vstack((bnew.reshape((-1,1)), np.zeros((Anew.shape[1],1)))))[0]\u001b[0m\u001b[0;34m\u001b[0m\u001b[0;34m\u001b[0m\u001b[0;34m\u001b[0m\u001b[0m\n\u001b[1;32m     66\u001b[0m         \u001b[0;31m# discr_func_zero = lambda reg_param: (np.linalg.norm(np.matmul(Anew,tikh_sol(reg_param)).reshape((-1,1)) - (bnew.reshape((-1,1))))**2 - (eta*delta)**2)\u001b[0m\u001b[0;34m\u001b[0m\u001b[0;34m\u001b[0m\u001b[0;34m\u001b[0m\u001b[0m\n\u001b[0;32m---> 67\u001b[0;31m         \u001b[0mtikh_sol\u001b[0m \u001b[0;34m=\u001b[0m \u001b[0;32mlambda\u001b[0m \u001b[0mreg_param\u001b[0m\u001b[0;34m:\u001b[0m \u001b[0mnp\u001b[0m\u001b[0;34m.\u001b[0m\u001b[0mlinalg\u001b[0m\u001b[0;34m.\u001b[0m\u001b[0mlstsq\u001b[0m\u001b[0;34m(\u001b[0m\u001b[0mnp\u001b[0m\u001b[0;34m.\u001b[0m\u001b[0mvstack\u001b[0m\u001b[0;34m(\u001b[0m\u001b[0;34m(\u001b[0m\u001b[0mA\u001b[0m\u001b[0;34m,\u001b[0m \u001b[0;34m(\u001b[0m\u001b[0;36m1\u001b[0m\u001b[0;34m/\u001b[0m\u001b[0mnp\u001b[0m\u001b[0;34m.\u001b[0m\u001b[0msqrt\u001b[0m\u001b[0;34m(\u001b[0m\u001b[0mreg_param\u001b[0m\u001b[0;34m)\u001b[0m\u001b[0;34m)\u001b[0m\u001b[0;34m*\u001b[0m\u001b[0mL\u001b[0m\u001b[0;34m)\u001b[0m\u001b[0;34m)\u001b[0m\u001b[0;34m,\u001b[0m \u001b[0mnp\u001b[0m\u001b[0;34m.\u001b[0m\u001b[0mvstack\u001b[0m\u001b[0;34m(\u001b[0m\u001b[0;34m(\u001b[0m\u001b[0mbnew\u001b[0m\u001b[0;34m.\u001b[0m\u001b[0mreshape\u001b[0m\u001b[0;34m(\u001b[0m\u001b[0;34m(\u001b[0m\u001b[0;34m-\u001b[0m\u001b[0;36m1\u001b[0m\u001b[0;34m,\u001b[0m\u001b[0;36m1\u001b[0m\u001b[0;34m)\u001b[0m\u001b[0;34m)\u001b[0m\u001b[0;34m,\u001b[0m \u001b[0mnp\u001b[0m\u001b[0;34m.\u001b[0m\u001b[0mzeros\u001b[0m\u001b[0;34m(\u001b[0m\u001b[0;34m(\u001b[0m\u001b[0mL\u001b[0m\u001b[0;34m.\u001b[0m\u001b[0mshape\u001b[0m\u001b[0;34m[\u001b[0m\u001b[0;36m0\u001b[0m\u001b[0;34m]\u001b[0m\u001b[0;34m,\u001b[0m\u001b[0;36m1\u001b[0m\u001b[0;34m)\u001b[0m\u001b[0;34m)\u001b[0m\u001b[0;34m)\u001b[0m\u001b[0;34m)\u001b[0m\u001b[0;34m)\u001b[0m\u001b[0;34m[\u001b[0m\u001b[0;36m0\u001b[0m\u001b[0;34m]\u001b[0m\u001b[0;34m\u001b[0m\u001b[0;34m\u001b[0m\u001b[0m\n\u001b[0m\u001b[1;32m     68\u001b[0m         \u001b[0mdiscr_func_zero\u001b[0m \u001b[0;34m=\u001b[0m \u001b[0;32mlambda\u001b[0m \u001b[0mreg_param\u001b[0m\u001b[0;34m:\u001b[0m \u001b[0;34m(\u001b[0m\u001b[0mnp\u001b[0m\u001b[0;34m.\u001b[0m\u001b[0mlinalg\u001b[0m\u001b[0;34m.\u001b[0m\u001b[0mnorm\u001b[0m\u001b[0;34m(\u001b[0m\u001b[0mnp\u001b[0m\u001b[0;34m.\u001b[0m\u001b[0mmatmul\u001b[0m\u001b[0;34m(\u001b[0m\u001b[0mA\u001b[0m\u001b[0;34m,\u001b[0m\u001b[0mtikh_sol\u001b[0m\u001b[0;34m(\u001b[0m\u001b[0mreg_param\u001b[0m\u001b[0;34m)\u001b[0m\u001b[0;34m)\u001b[0m\u001b[0;34m.\u001b[0m\u001b[0mreshape\u001b[0m\u001b[0;34m(\u001b[0m\u001b[0;34m(\u001b[0m\u001b[0;34m-\u001b[0m\u001b[0;36m1\u001b[0m\u001b[0;34m,\u001b[0m\u001b[0;36m1\u001b[0m\u001b[0;34m)\u001b[0m\u001b[0;34m)\u001b[0m \u001b[0;34m-\u001b[0m \u001b[0;34m(\u001b[0m\u001b[0mb\u001b[0m\u001b[0;34m.\u001b[0m\u001b[0mreshape\u001b[0m\u001b[0;34m(\u001b[0m\u001b[0;34m(\u001b[0m\u001b[0;34m-\u001b[0m\u001b[0;36m1\u001b[0m\u001b[0;34m,\u001b[0m\u001b[0;36m1\u001b[0m\u001b[0;34m)\u001b[0m\u001b[0;34m)\u001b[0m\u001b[0;34m)\u001b[0m\u001b[0;34m)\u001b[0m\u001b[0;34m**\u001b[0m\u001b[0;36m2\u001b[0m \u001b[0;34m-\u001b[0m \u001b[0;34m(\u001b[0m\u001b[0meta\u001b[0m\u001b[0;34m*\u001b[0m\u001b[0mdelta\u001b[0m\u001b[0;34m)\u001b[0m\u001b[0;34m**\u001b[0m\u001b[0;36m2\u001b[0m\u001b[0;34m)\u001b[0m\u001b[0;34m\u001b[0m\u001b[0;34m\u001b[0m\u001b[0m\n\u001b[1;32m     69\u001b[0m \u001b[0;34m\u001b[0m\u001b[0m\n",
      "\u001b[0;32m~/opt/anaconda3/lib/python3.8/site-packages/numpy/core/overrides.py\u001b[0m in \u001b[0;36mvstack\u001b[0;34m(*args, **kwargs)\u001b[0m\n",
      "\u001b[0;32m~/opt/anaconda3/lib/python3.8/site-packages/numpy/core/shape_base.py\u001b[0m in \u001b[0;36mvstack\u001b[0;34m(tup)\u001b[0m\n\u001b[1;32m    280\u001b[0m     \u001b[0;32mif\u001b[0m \u001b[0;32mnot\u001b[0m \u001b[0misinstance\u001b[0m\u001b[0;34m(\u001b[0m\u001b[0marrs\u001b[0m\u001b[0;34m,\u001b[0m \u001b[0mlist\u001b[0m\u001b[0;34m)\u001b[0m\u001b[0;34m:\u001b[0m\u001b[0;34m\u001b[0m\u001b[0;34m\u001b[0m\u001b[0m\n\u001b[1;32m    281\u001b[0m         \u001b[0marrs\u001b[0m \u001b[0;34m=\u001b[0m \u001b[0;34m[\u001b[0m\u001b[0marrs\u001b[0m\u001b[0;34m]\u001b[0m\u001b[0;34m\u001b[0m\u001b[0;34m\u001b[0m\u001b[0m\n\u001b[0;32m--> 282\u001b[0;31m     \u001b[0;32mreturn\u001b[0m \u001b[0m_nx\u001b[0m\u001b[0;34m.\u001b[0m\u001b[0mconcatenate\u001b[0m\u001b[0;34m(\u001b[0m\u001b[0marrs\u001b[0m\u001b[0;34m,\u001b[0m \u001b[0;36m0\u001b[0m\u001b[0;34m)\u001b[0m\u001b[0;34m\u001b[0m\u001b[0;34m\u001b[0m\u001b[0m\n\u001b[0m\u001b[1;32m    283\u001b[0m \u001b[0;34m\u001b[0m\u001b[0m\n\u001b[1;32m    284\u001b[0m \u001b[0;34m\u001b[0m\u001b[0m\n",
      "\u001b[0;32m~/opt/anaconda3/lib/python3.8/site-packages/numpy/core/overrides.py\u001b[0m in \u001b[0;36mconcatenate\u001b[0;34m(*args, **kwargs)\u001b[0m\n",
      "\u001b[0;31mValueError\u001b[0m: all the input array dimensions for the concatenation axis must match exactly, but along dimension 1, the array at index 0 has size 13 and the array at index 1 has size 1"
     ]
    }
   ],
   "source": [
    "out_hybridlsqr = hybrid_lsqr(A, b, 20, regparam = 'dp', delta = deltavar)"
   ]
  }
 ],
 "metadata": {
  "kernelspec": {
   "display_name": "trip",
   "language": "python",
   "name": "python3"
  },
  "language_info": {
   "codemirror_mode": {
    "name": "ipython",
    "version": 3
   },
   "file_extension": ".py",
   "mimetype": "text/x-python",
   "name": "python",
   "nbconvert_exporter": "python",
   "pygments_lexer": "ipython3",
   "version": "3.8.8"
  }
 },
 "nbformat": 4,
 "nbformat_minor": 2
}
