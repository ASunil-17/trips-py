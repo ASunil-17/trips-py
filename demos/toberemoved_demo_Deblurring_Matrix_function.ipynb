{
 "cells": [
  {
   "cell_type": "code",
   "execution_count": 4,
   "metadata": {},
   "outputs": [],
   "source": [
    "#!/usr/bin/env python\n",
    "\"\"\"\n",
    "Definition of test problems\n",
    "--------------------------------------------------------------------------\n",
    "Created December 10, 2022 for TRIPs-Py library\n",
    "\"\"\"\n",
    "__authors__ = \"Mirjeta Pasha, Silvia Gazzola, Connor Sanderford, and Ugochukwu Obinna\"\n",
    "__copyright__ = \"Copyright 2022, TRIPs-Py library\"\n",
    "__license__ = \"GPL\"\n",
    "__version__ = \"0.1\"\n",
    "__email__ = \"mirjeta.pasha@tufts.edu; mirjeta.pasha1@gmail.com and csanderf@asu.edu; connorsanderford@gmail.com\"\n",
    "import time\n",
    "import numpy as np\n",
    "import scipy as sp\n",
    "import scipy.stats as sps\n",
    "import scipy.io as spio\n",
    "import matplotlib\n",
    "import matplotlib.pyplot as plt\n",
    "import numpy as np\n",
    "import astra\n",
    "import trips.phantoms as phantom\n",
    "from venv import create\n",
    "import pylops\n",
    "from scipy.ndimage import convolve\n",
    "from scipy import sparse\n",
    "from scipy.ndimage import convolve\n",
    "import scipy.special as spe\n",
    "from trips.testProblems import *\n",
    "from trips.operators import *\n",
    "from trips.helpers import *\n",
    "from trips.solvers.gks_all import *\n",
    "from trips.solvers.Tikhonov import *\n",
    "from trips.solvers.tSVD import *\n",
    "from trips.io import *"
   ]
  },
  {
   "cell_type": "code",
   "execution_count": 57,
   "metadata": {},
   "outputs": [],
   "source": [
    "def get_image_dat(dataset = 'satellite'):\n",
    "\n",
    "    assert dataset in ['satellite', 'hubble', 'star']\n",
    "\n",
    "    if exists(f'./data/image_data/{dataset}.mat'):\n",
    "        print('data already downloaded.')\n",
    "    else:\n",
    "        print(\"downloading...\")\n",
    "\n",
    "        if not exists('./data'):\n",
    "            mkdir(\"./data\")\n",
    "\n",
    "        if not exists('./data/image_data'):\n",
    "            mkdir(\"./data/image_data\")\n",
    "\n",
    "        r = requests.get(f'https://drive.google.com/file/d/1nOknOHtxzUrSetf2f0kwcyeYFTe62i11/view?usp=share_link/{dataset}.mat')\n",
    "\n",
    "        with open(f'./data/image_data/{dataset}.mat', \"wb\") as file:\n",
    "\n",
    "            file.write(r.content)\n",
    "\n",
    "        print(\"downloaded.\")\n",
    "\n",
    "\n",
    "\"\"\"\n",
    "Generate image data\n",
    "\"\"\"\n",
    "def generate_image_dat(im):\n",
    "    get_image_data(im)\n",
    "    currentpath = os.getcwd()\n",
    "    f = spio.loadmat(f'./data/image_data/{im}.mat')\n",
    "    X = f['x_true']\n",
    "    X_true = X/X.max()\n",
    "    nx, ny = X_true.shape  \n",
    "    x_truef = X_true.reshape((-1,1))\n",
    "    return X_true\n",
    "\n",
    "def im_image_dat(im):\n",
    "    assert im in ['satellite', 'hubble', 'star', 'h_im']\n",
    "    if exists(f'./data/image_data/{im}.mat'):\n",
    "        print('data already in the path.')\n",
    "    else:\n",
    "        print(\"Please make sure your data are on the data folder!\")\n",
    "    f = spio.loadmat(f'./data/image_data/{im}.mat')\n",
    "    X = f['x_true']\n",
    "    return X"
   ]
  },
  {
   "cell_type": "code",
   "execution_count": 58,
   "metadata": {},
   "outputs": [],
   "source": [
    "def get_input_image_size(image):\n",
    "    imshape = image.shape\n",
    "    if imshape[1] == 1:\n",
    "        nx = int(np.sqrt(imshape[0]))\n",
    "        ny = int(np.sqrt(imshape[0]))\n",
    "    else:\n",
    "        nx = imshape[0]\n",
    "        ny = imshape[1]\n",
    "    newshape = (nx, ny)\n",
    "    return newshape"
   ]
  },
  {
   "cell_type": "code",
   "execution_count": 61,
   "metadata": {},
   "outputs": [
    {
     "name": "stdout",
     "output_type": "stream",
     "text": [
      "data already in the path.\n"
     ]
    }
   ],
   "source": [
    "im = 'h_im'\n",
    "xx = im_image_dat(im)"
   ]
  },
  {
   "cell_type": "code",
   "execution_count": 62,
   "metadata": {},
   "outputs": [
    {
     "data": {
      "text/plain": [
       "(64, 64)"
      ]
     },
     "execution_count": 62,
     "metadata": {},
     "output_type": "execute_result"
    }
   ],
   "source": [
    "shape = get_input_image_size(xx)\n",
    "shape"
   ]
  },
  {
   "cell_type": "code",
   "execution_count": 35,
   "metadata": {},
   "outputs": [],
   "source": [
    "\n",
    "def image_to_new_size(image, n):\n",
    "    X, Y = np.meshgrid(np.linspace(1, image.shape[1], n[0]), np.linspace(1, image.shape[0], n[1]))\n",
    "    im = interp2linear(image, X, Y, extrapval=np.nan)\n",
    "    return im"
   ]
  },
  {
   "cell_type": "code",
   "execution_count": 65,
   "metadata": {},
   "outputs": [
    {
     "name": "stdout",
     "output_type": "stream",
     "text": [
      "data already in the path.\n"
     ]
    },
    {
     "data": {
      "text/plain": [
       "(300, 300)"
      ]
     },
     "execution_count": 65,
     "metadata": {},
     "output_type": "execute_result"
    },
    {
     "data": {
      "image/png": "[encoded data removed]",
      "text/plain": [
       "<Figure size 432x288 with 1 Axes>"
      ]
     },
     "metadata": {
      "needs_background": "light"
     },
     "output_type": "display_data"
    }
   ],
   "source": [
    "satellite_300 = get_true_image('h_im', (300,300))\n",
    "plt.imshow(satellite_300)\n",
    "plt.axis('off')\n",
    "satellite_300.shape"
   ]
  },
  {
   "cell_type": "code",
   "execution_count": 53,
   "metadata": {},
   "outputs": [],
   "source": [
    "dx = 10\n",
    "dy = 10\n",
    "up_width = 10\n",
    "bar_width= 5\n",
    "size = 64\n",
    "# nx, ny = 400, 400\n",
    "h_im = np.zeros((size, size))\n",
    "for i in range(size):\n",
    "    if i < dy or i > size-dy:\n",
    "        continue\n",
    "    for j in range(size):\n",
    "        if j < dx or j > size - dx:\n",
    "            continue\n",
    "        if j < dx + up_width or j > size - dx - up_width:\n",
    "            h_im[i, j] = 1\n",
    "        if abs(i - size/2) < bar_width:\n",
    "            h_im[i, j] = 1"
   ]
  },
  {
   "cell_type": "code",
   "execution_count": 55,
   "metadata": {},
   "outputs": [
    {
     "data": {
      "text/plain": [
       "array([[0., 0., 0., ..., 0., 0., 0.],\n",
       "       [0., 0., 0., ..., 0., 0., 0.],\n",
       "       [0., 0., 0., ..., 0., 0., 0.],\n",
       "       ...,\n",
       "       [0., 0., 0., ..., 0., 0., 0.],\n",
       "       [0., 0., 0., ..., 0., 0., 0.],\n",
       "       [0., 0., 0., ..., 0., 0., 0.]])"
      ]
     },
     "execution_count": 55,
     "metadata": {},
     "output_type": "execute_result"
    }
   ],
   "source": [
    "h_im"
   ]
  },
  {
   "cell_type": "code",
   "execution_count": 56,
   "metadata": {},
   "outputs": [],
   "source": [
    "spio.savemat('him.mat', mdict={'x_true':h_im})\n"
   ]
  },
  {
   "cell_type": "code",
   "execution_count": 54,
   "metadata": {},
   "outputs": [
    {
     "data": {
      "text/plain": [
       "(64, 64)"
      ]
     },
     "execution_count": 54,
     "metadata": {},
     "output_type": "execute_result"
    },
    {
     "data": {
      "image/png": "[encoded data removed]",
      "text/plain": [
       "<Figure size 432x288 with 1 Axes>"
      ]
     },
     "metadata": {
      "needs_background": "light"
     },
     "output_type": "display_data"
    }
   ],
   "source": [
    "plt.imshow(h_im)\n",
    "h_im.shape"
   ]
  },
  {
   "cell_type": "code",
   "execution_count": 33,
   "metadata": {},
   "outputs": [],
   "source": [
    "def get_true_image(im, required_shape):\n",
    "    if im in ['satellite', 'hubble', 'star']:\n",
    "        image = im_image_dat(im)\n",
    "    elif im in ['himage', 'Himage', 'H', 'Himage']:\n",
    "        \n",
    "    current_shape = get_input_image_size(xx)\n",
    "    if ((current_shape[0] is not required_shape[0]) and (current_shape[1] is not required_shape[1])):\n",
    "        newimage = image_to_new_size(image, required_shape)\n",
    "    return newimage\n"
   ]
  },
  {
   "cell_type": "code",
   "execution_count": null,
   "metadata": {},
   "outputs": [],
   "source": [
    "def generate_true(self, choose_image):\n",
    "        # Specify the path\n",
    "        path_package = '/Users/mirjetapasha/Documents/Research_Projects/TRIPS_June25/multiparameter_package'\n",
    "        if choose_image == 'satellite128':\n",
    "            dataa = spio.loadmat(path_package + '/demos/data/images/satellite128.mat')\n",
    "            # dataa = spio.loadmat('../demos/data/images/satellite128.mat')\n",
    "            X = dataa['x_true']\n",
    "            X_true = X/X.max()\n",
    "            self.nx, self.ny = X_true.shape  \n",
    "            x_truef = X_true.reshape((-1,1))\n",
    "        elif choose_image == 'satellite64':\n",
    "            # dataa = spio.loadmat(path_package + '/demos/data/images/satellite64.mat')\n",
    "            dataa = spio.loadmat(path_package + '/demos/data/images/satellite64.mat')\n",
    "            X = dataa['x_new']\n",
    "            X_true = X/X.max()\n",
    "            self.nx, self.ny = X_true.shape  \n",
    "            x_truef = X_true.reshape((-1,1))\n",
    "        elif choose_image == 'edges':\n",
    "            dataa = spio.loadmat(path_package + '/demos/data/images/edges.mat')\n",
    "            X = dataa['x']\n",
    "            X_true = X/X.max()\n",
    "            self.nx, self.ny = X_true.shape  \n",
    "            x_truef = X_true.reshape((-1,1))\n",
    "        elif choose_image == 'pattern1':\n",
    "            dataa = spio.loadmat(path_package + '/demos/data/images/shape1.mat')\n",
    "            X = dataa['xtrue']\n",
    "            X_true = X/X.max()\n",
    "            self.nx, self.ny = X_true.shape  \n",
    "            x_truef = X_true.reshape((-1,1))\n",
    "        elif choose_image == 'Himage':\n",
    "            dx = 10\n",
    "            dy = 10\n",
    "            up_width = 10\n",
    "            bar_width= 5\n",
    "            size = 64\n",
    "            self.nx, self.ny = 64, 64\n",
    "            h_im = np.zeros((size, size))\n",
    "            for i in range(size):\n",
    "                if i < dy or i > size-dy:\n",
    "                    continue\n",
    "                for j in range(size):\n",
    "                    if j < dx or j > size - dx:\n",
    "                        continue\n",
    "                    if j < dx + up_width or j > size - dx - up_width:\n",
    "                        h_im[i, j] = 1\n",
    "                    if abs(i - size/2) < bar_width:\n",
    "                        h_im[i, j] = 1\n",
    "            x_truef = self.vec(h_im)\n",
    "            # X_true = h_im\n",
    "        else:\n",
    "            raise ValueError(\"The image you requested does not exist! Specify the right name.\")\n",
    "        return (x_truef, self.nx, self.ny)\n",
    "        ## convert a 2-d image into a 1-d vector"
   ]
  },
  {
   "cell_type": "code",
   "execution_count": 26,
   "metadata": {},
   "outputs": [
    {
     "data": {
      "text/plain": [
       "<matplotlib.image.AxesImage at 0x7fb21ab45190>"
      ]
     },
     "execution_count": 26,
     "metadata": {},
     "output_type": "execute_result"
    },
    {
     "data": {
      "image/png": "[encoded data removed]",
      "text/plain": [
       "<Figure size 432x288 with 1 Axes>"
      ]
     },
     "metadata": {
      "needs_background": "light"
     },
     "output_type": "display_data"
    }
   ],
   "source": [
    "xx.shape\n",
    "plt.imshow(xx)\n",
    "xr = xx.reshape((-1,1))\n",
    "plt.imshow(xr.reshape((256, 256)))"
   ]
  },
  {
   "cell_type": "code",
   "execution_count": 12,
   "metadata": {},
   "outputs": [
    {
     "data": {
      "text/plain": [
       "(256, 256)"
      ]
     },
     "execution_count": 12,
     "metadata": {},
     "output_type": "execute_result"
    }
   ],
   "source": [
    "xyy = get_imput_image_size(xx)\n",
    "xyy"
   ]
  },
  {
   "cell_type": "code",
   "execution_count": 20,
   "metadata": {},
   "outputs": [
    {
     "data": {
      "text/plain": [
       "<matplotlib.image.AxesImage at 0x7fb21a58ff10>"
      ]
     },
     "execution_count": 20,
     "metadata": {},
     "output_type": "execute_result"
    },
    {
     "data": {
      "image/png": "[encoded data removed]",
      "text/plain": [
       "<Figure size 432x288 with 1 Axes>"
      ]
     },
     "metadata": {
      "needs_background": "light"
     },
     "output_type": "display_data"
    }
   ],
   "source": [
    "plt.imshow(xx.reshape((xyy[0],xyy[1])))"
   ]
  },
  {
   "cell_type": "code",
   "execution_count": null,
   "metadata": {},
   "outputs": [],
   "source": []
  },
  {
   "cell_type": "code",
   "execution_count": null,
   "metadata": {},
   "outputs": [],
   "source": [
    "dataset = 1\n",
    "f = spio.loadmat(f'./data/crossphantom_data/DataDynamic_128x{dataset}.mat')"
   ]
  },
  {
   "cell_type": "code",
   "execution_count": 3,
   "metadata": {},
   "outputs": [
    {
     "ename": "ValueError",
     "evalue": "Unknown mat file type, version 34, 103",
     "output_type": "error",
     "traceback": [
      "\u001b[0;31m---------------------------------------------------------------------------\u001b[0m",
      "\u001b[0;31mValueError\u001b[0m                                Traceback (most recent call last)",
      "\u001b[0;32m<ipython-input-3-523b851c4374>\u001b[0m in \u001b[0;36m<module>\u001b[0;34m\u001b[0m\n\u001b[1;32m      3\u001b[0m \u001b[0mdataset\u001b[0m \u001b[0;34m=\u001b[0m \u001b[0;36m30\u001b[0m\u001b[0;34m\u001b[0m\u001b[0;34m\u001b[0m\u001b[0m\n\u001b[1;32m      4\u001b[0m \u001b[0mim\u001b[0m \u001b[0;34m=\u001b[0m \u001b[0;34m'satellite'\u001b[0m\u001b[0;34m\u001b[0m\u001b[0;34m\u001b[0m\u001b[0m\n\u001b[0;32m----> 5\u001b[0;31m \u001b[0mf\u001b[0m \u001b[0;34m=\u001b[0m \u001b[0mspio\u001b[0m\u001b[0;34m.\u001b[0m\u001b[0mloadmat\u001b[0m\u001b[0;34m(\u001b[0m\u001b[0;34mf'./data/image_data/{im}.mat'\u001b[0m\u001b[0;34m)\u001b[0m\u001b[0;34m\u001b[0m\u001b[0;34m\u001b[0m\u001b[0m\n\u001b[0m\u001b[1;32m      6\u001b[0m \u001b[0mf\u001b[0m\u001b[0;34m\u001b[0m\u001b[0;34m\u001b[0m\u001b[0m\n",
      "\u001b[0;32m~/opt/anaconda3/lib/python3.8/site-packages/scipy/io/matlab/_mio.py\u001b[0m in \u001b[0;36mloadmat\u001b[0;34m(file_name, mdict, appendmat, **kwargs)\u001b[0m\n\u001b[1;32m    223\u001b[0m     \u001b[0mvariable_names\u001b[0m \u001b[0;34m=\u001b[0m \u001b[0mkwargs\u001b[0m\u001b[0;34m.\u001b[0m\u001b[0mpop\u001b[0m\u001b[0;34m(\u001b[0m\u001b[0;34m'variable_names'\u001b[0m\u001b[0;34m,\u001b[0m \u001b[0;32mNone\u001b[0m\u001b[0;34m)\u001b[0m\u001b[0;34m\u001b[0m\u001b[0;34m\u001b[0m\u001b[0m\n\u001b[1;32m    224\u001b[0m     \u001b[0;32mwith\u001b[0m \u001b[0m_open_file_context\u001b[0m\u001b[0;34m(\u001b[0m\u001b[0mfile_name\u001b[0m\u001b[0;34m,\u001b[0m \u001b[0mappendmat\u001b[0m\u001b[0;34m)\u001b[0m \u001b[0;32mas\u001b[0m \u001b[0mf\u001b[0m\u001b[0;34m:\u001b[0m\u001b[0;34m\u001b[0m\u001b[0;34m\u001b[0m\u001b[0m\n\u001b[0;32m--> 225\u001b[0;31m         \u001b[0mMR\u001b[0m\u001b[0;34m,\u001b[0m \u001b[0m_\u001b[0m \u001b[0;34m=\u001b[0m \u001b[0mmat_reader_factory\u001b[0m\u001b[0;34m(\u001b[0m\u001b[0mf\u001b[0m\u001b[0;34m,\u001b[0m \u001b[0;34m**\u001b[0m\u001b[0mkwargs\u001b[0m\u001b[0;34m)\u001b[0m\u001b[0;34m\u001b[0m\u001b[0;34m\u001b[0m\u001b[0m\n\u001b[0m\u001b[1;32m    226\u001b[0m         \u001b[0mmatfile_dict\u001b[0m \u001b[0;34m=\u001b[0m \u001b[0mMR\u001b[0m\u001b[0;34m.\u001b[0m\u001b[0mget_variables\u001b[0m\u001b[0;34m(\u001b[0m\u001b[0mvariable_names\u001b[0m\u001b[0;34m)\u001b[0m\u001b[0;34m\u001b[0m\u001b[0;34m\u001b[0m\u001b[0m\n\u001b[1;32m    227\u001b[0m \u001b[0;34m\u001b[0m\u001b[0m\n",
      "\u001b[0;32m~/opt/anaconda3/lib/python3.8/site-packages/scipy/io/matlab/_mio.py\u001b[0m in \u001b[0;36mmat_reader_factory\u001b[0;34m(file_name, appendmat, **kwargs)\u001b[0m\n\u001b[1;32m     72\u001b[0m     \"\"\"\n\u001b[1;32m     73\u001b[0m     \u001b[0mbyte_stream\u001b[0m\u001b[0;34m,\u001b[0m \u001b[0mfile_opened\u001b[0m \u001b[0;34m=\u001b[0m \u001b[0m_open_file\u001b[0m\u001b[0;34m(\u001b[0m\u001b[0mfile_name\u001b[0m\u001b[0;34m,\u001b[0m \u001b[0mappendmat\u001b[0m\u001b[0;34m)\u001b[0m\u001b[0;34m\u001b[0m\u001b[0;34m\u001b[0m\u001b[0m\n\u001b[0;32m---> 74\u001b[0;31m     \u001b[0mmjv\u001b[0m\u001b[0;34m,\u001b[0m \u001b[0mmnv\u001b[0m \u001b[0;34m=\u001b[0m \u001b[0m_get_matfile_version\u001b[0m\u001b[0;34m(\u001b[0m\u001b[0mbyte_stream\u001b[0m\u001b[0;34m)\u001b[0m\u001b[0;34m\u001b[0m\u001b[0;34m\u001b[0m\u001b[0m\n\u001b[0m\u001b[1;32m     75\u001b[0m     \u001b[0;32mif\u001b[0m \u001b[0mmjv\u001b[0m \u001b[0;34m==\u001b[0m \u001b[0;36m0\u001b[0m\u001b[0;34m:\u001b[0m\u001b[0;34m\u001b[0m\u001b[0;34m\u001b[0m\u001b[0m\n\u001b[1;32m     76\u001b[0m         \u001b[0;32mreturn\u001b[0m \u001b[0mMatFile4Reader\u001b[0m\u001b[0;34m(\u001b[0m\u001b[0mbyte_stream\u001b[0m\u001b[0;34m,\u001b[0m \u001b[0;34m**\u001b[0m\u001b[0mkwargs\u001b[0m\u001b[0;34m)\u001b[0m\u001b[0;34m,\u001b[0m \u001b[0mfile_opened\u001b[0m\u001b[0;34m\u001b[0m\u001b[0;34m\u001b[0m\u001b[0m\n",
      "\u001b[0;32m~/opt/anaconda3/lib/python3.8/site-packages/scipy/io/matlab/_miobase.py\u001b[0m in \u001b[0;36m_get_matfile_version\u001b[0;34m(fileobj)\u001b[0m\n\u001b[1;32m    249\u001b[0m     \u001b[0;32mif\u001b[0m \u001b[0mmaj_val\u001b[0m \u001b[0;32min\u001b[0m \u001b[0;34m(\u001b[0m\u001b[0;36m1\u001b[0m\u001b[0;34m,\u001b[0m \u001b[0;36m2\u001b[0m\u001b[0;34m)\u001b[0m\u001b[0;34m:\u001b[0m\u001b[0;34m\u001b[0m\u001b[0;34m\u001b[0m\u001b[0m\n\u001b[1;32m    250\u001b[0m         \u001b[0;32mreturn\u001b[0m \u001b[0mret\u001b[0m\u001b[0;34m\u001b[0m\u001b[0;34m\u001b[0m\u001b[0m\n\u001b[0;32m--> 251\u001b[0;31m     \u001b[0;32mraise\u001b[0m \u001b[0mValueError\u001b[0m\u001b[0;34m(\u001b[0m\u001b[0;34m'Unknown mat file type, version %s, %s'\u001b[0m \u001b[0;34m%\u001b[0m \u001b[0mret\u001b[0m\u001b[0;34m)\u001b[0m\u001b[0;34m\u001b[0m\u001b[0;34m\u001b[0m\u001b[0m\n\u001b[0m\u001b[1;32m    252\u001b[0m \u001b[0;34m\u001b[0m\u001b[0m\n\u001b[1;32m    253\u001b[0m \u001b[0;34m\u001b[0m\u001b[0m\n",
      "\u001b[0;31mValueError\u001b[0m: Unknown mat file type, version 34, 103"
     ]
    }
   ],
   "source": [
    "file_path = os.getcwd()\n",
    "file_path\n",
    "dataset = 30\n",
    "im = 'satellite'\n",
    "f = spio.loadmat(f'./data/image_data/{im}.mat')\n",
    "f"
   ]
  },
  {
   "cell_type": "code",
   "execution_count": 21,
   "metadata": {},
   "outputs": [
    {
     "ename": "FileNotFoundError",
     "evalue": "[Errno 2] No such file or directory: '/Users/mirjetapasha/Documents/Research_Projects/TRIPSNOV10/trips-py/demos/image_{dataset}.mat'",
     "output_type": "error",
     "traceback": [
      "\u001b[0;31m---------------------------------------------------------------------------\u001b[0m",
      "\u001b[0;31mFileNotFoundError\u001b[0m                         Traceback (most recent call last)",
      "\u001b[0;32m~/opt/anaconda3/lib/python3.8/site-packages/scipy/io/matlab/_mio.py\u001b[0m in \u001b[0;36m_open_file\u001b[0;34m(file_like, appendmat, mode)\u001b[0m\n\u001b[1;32m     38\u001b[0m     \u001b[0;32mtry\u001b[0m\u001b[0;34m:\u001b[0m\u001b[0;34m\u001b[0m\u001b[0;34m\u001b[0m\u001b[0m\n\u001b[0;32m---> 39\u001b[0;31m         \u001b[0;32mreturn\u001b[0m \u001b[0mopen\u001b[0m\u001b[0;34m(\u001b[0m\u001b[0mfile_like\u001b[0m\u001b[0;34m,\u001b[0m \u001b[0mmode\u001b[0m\u001b[0;34m)\u001b[0m\u001b[0;34m,\u001b[0m \u001b[0;32mTrue\u001b[0m\u001b[0;34m\u001b[0m\u001b[0;34m\u001b[0m\u001b[0m\n\u001b[0m\u001b[1;32m     40\u001b[0m     \u001b[0;32mexcept\u001b[0m \u001b[0mOSError\u001b[0m \u001b[0;32mas\u001b[0m \u001b[0me\u001b[0m\u001b[0;34m:\u001b[0m\u001b[0;34m\u001b[0m\u001b[0;34m\u001b[0m\u001b[0m\n",
      "\u001b[0;31mFileNotFoundError\u001b[0m: [Errno 2] No such file or directory: '/Users/mirjetapasha/Documents/Research_Projects/TRIPSNOV10/trips-py/demos/image_{dataset}.mat'",
      "\nDuring handling of the above exception, another exception occurred:\n",
      "\u001b[0;31mFileNotFoundError\u001b[0m                         Traceback (most recent call last)",
      "\u001b[0;32m<ipython-input-21-96981f692123>\u001b[0m in \u001b[0;36m<module>\u001b[0;34m\u001b[0m\n\u001b[0;32m----> 1\u001b[0;31m mat_contents = spio.loadmat(os.path.join(file_path,file_name),\\\n\u001b[0m\u001b[1;32m      2\u001b[0m                         \u001b[0mmat_dtype\u001b[0m \u001b[0;34m=\u001b[0m \u001b[0;32mTrue\u001b[0m\u001b[0;34m,\u001b[0m\u001b[0;31m\\\u001b[0m\u001b[0;34m\u001b[0m\u001b[0;34m\u001b[0m\u001b[0m\n\u001b[1;32m      3\u001b[0m                         \u001b[0msqueeze_me\u001b[0m \u001b[0;34m=\u001b[0m \u001b[0;32mTrue\u001b[0m\u001b[0;34m,\u001b[0m\u001b[0;31m\\\u001b[0m\u001b[0;34m\u001b[0m\u001b[0;34m\u001b[0m\u001b[0m\n\u001b[1;32m      4\u001b[0m                         struct_as_record = True) \n",
      "\u001b[0;32m~/opt/anaconda3/lib/python3.8/site-packages/scipy/io/matlab/_mio.py\u001b[0m in \u001b[0;36mloadmat\u001b[0;34m(file_name, mdict, appendmat, **kwargs)\u001b[0m\n\u001b[1;32m    222\u001b[0m     \"\"\"\n\u001b[1;32m    223\u001b[0m     \u001b[0mvariable_names\u001b[0m \u001b[0;34m=\u001b[0m \u001b[0mkwargs\u001b[0m\u001b[0;34m.\u001b[0m\u001b[0mpop\u001b[0m\u001b[0;34m(\u001b[0m\u001b[0;34m'variable_names'\u001b[0m\u001b[0;34m,\u001b[0m \u001b[0;32mNone\u001b[0m\u001b[0;34m)\u001b[0m\u001b[0;34m\u001b[0m\u001b[0;34m\u001b[0m\u001b[0m\n\u001b[0;32m--> 224\u001b[0;31m     \u001b[0;32mwith\u001b[0m \u001b[0m_open_file_context\u001b[0m\u001b[0;34m(\u001b[0m\u001b[0mfile_name\u001b[0m\u001b[0;34m,\u001b[0m \u001b[0mappendmat\u001b[0m\u001b[0;34m)\u001b[0m \u001b[0;32mas\u001b[0m \u001b[0mf\u001b[0m\u001b[0;34m:\u001b[0m\u001b[0;34m\u001b[0m\u001b[0;34m\u001b[0m\u001b[0m\n\u001b[0m\u001b[1;32m    225\u001b[0m         \u001b[0mMR\u001b[0m\u001b[0;34m,\u001b[0m \u001b[0m_\u001b[0m \u001b[0;34m=\u001b[0m \u001b[0mmat_reader_factory\u001b[0m\u001b[0;34m(\u001b[0m\u001b[0mf\u001b[0m\u001b[0;34m,\u001b[0m \u001b[0;34m**\u001b[0m\u001b[0mkwargs\u001b[0m\u001b[0;34m)\u001b[0m\u001b[0;34m\u001b[0m\u001b[0;34m\u001b[0m\u001b[0m\n\u001b[1;32m    226\u001b[0m         \u001b[0mmatfile_dict\u001b[0m \u001b[0;34m=\u001b[0m \u001b[0mMR\u001b[0m\u001b[0;34m.\u001b[0m\u001b[0mget_variables\u001b[0m\u001b[0;34m(\u001b[0m\u001b[0mvariable_names\u001b[0m\u001b[0;34m)\u001b[0m\u001b[0;34m\u001b[0m\u001b[0;34m\u001b[0m\u001b[0m\n",
      "\u001b[0;32m~/opt/anaconda3/lib/python3.8/contextlib.py\u001b[0m in \u001b[0;36m__enter__\u001b[0;34m(self)\u001b[0m\n\u001b[1;32m    111\u001b[0m         \u001b[0;32mdel\u001b[0m \u001b[0mself\u001b[0m\u001b[0;34m.\u001b[0m\u001b[0margs\u001b[0m\u001b[0;34m,\u001b[0m \u001b[0mself\u001b[0m\u001b[0;34m.\u001b[0m\u001b[0mkwds\u001b[0m\u001b[0;34m,\u001b[0m \u001b[0mself\u001b[0m\u001b[0;34m.\u001b[0m\u001b[0mfunc\u001b[0m\u001b[0;34m\u001b[0m\u001b[0;34m\u001b[0m\u001b[0m\n\u001b[1;32m    112\u001b[0m         \u001b[0;32mtry\u001b[0m\u001b[0;34m:\u001b[0m\u001b[0;34m\u001b[0m\u001b[0;34m\u001b[0m\u001b[0m\n\u001b[0;32m--> 113\u001b[0;31m             \u001b[0;32mreturn\u001b[0m \u001b[0mnext\u001b[0m\u001b[0;34m(\u001b[0m\u001b[0mself\u001b[0m\u001b[0;34m.\u001b[0m\u001b[0mgen\u001b[0m\u001b[0;34m)\u001b[0m\u001b[0;34m\u001b[0m\u001b[0;34m\u001b[0m\u001b[0m\n\u001b[0m\u001b[1;32m    114\u001b[0m         \u001b[0;32mexcept\u001b[0m \u001b[0mStopIteration\u001b[0m\u001b[0;34m:\u001b[0m\u001b[0;34m\u001b[0m\u001b[0;34m\u001b[0m\u001b[0m\n\u001b[1;32m    115\u001b[0m             \u001b[0;32mraise\u001b[0m \u001b[0mRuntimeError\u001b[0m\u001b[0;34m(\u001b[0m\u001b[0;34m\"generator didn't yield\"\u001b[0m\u001b[0;34m)\u001b[0m \u001b[0;32mfrom\u001b[0m \u001b[0;32mNone\u001b[0m\u001b[0;34m\u001b[0m\u001b[0;34m\u001b[0m\u001b[0m\n",
      "\u001b[0;32m~/opt/anaconda3/lib/python3.8/site-packages/scipy/io/matlab/_mio.py\u001b[0m in \u001b[0;36m_open_file_context\u001b[0;34m(file_like, appendmat, mode)\u001b[0m\n\u001b[1;32m     15\u001b[0m \u001b[0;34m@\u001b[0m\u001b[0mcontextmanager\u001b[0m\u001b[0;34m\u001b[0m\u001b[0;34m\u001b[0m\u001b[0m\n\u001b[1;32m     16\u001b[0m \u001b[0;32mdef\u001b[0m \u001b[0m_open_file_context\u001b[0m\u001b[0;34m(\u001b[0m\u001b[0mfile_like\u001b[0m\u001b[0;34m,\u001b[0m \u001b[0mappendmat\u001b[0m\u001b[0;34m,\u001b[0m \u001b[0mmode\u001b[0m\u001b[0;34m=\u001b[0m\u001b[0;34m'rb'\u001b[0m\u001b[0;34m)\u001b[0m\u001b[0;34m:\u001b[0m\u001b[0;34m\u001b[0m\u001b[0;34m\u001b[0m\u001b[0m\n\u001b[0;32m---> 17\u001b[0;31m     \u001b[0mf\u001b[0m\u001b[0;34m,\u001b[0m \u001b[0mopened\u001b[0m \u001b[0;34m=\u001b[0m \u001b[0m_open_file\u001b[0m\u001b[0;34m(\u001b[0m\u001b[0mfile_like\u001b[0m\u001b[0;34m,\u001b[0m \u001b[0mappendmat\u001b[0m\u001b[0;34m,\u001b[0m \u001b[0mmode\u001b[0m\u001b[0;34m)\u001b[0m\u001b[0;34m\u001b[0m\u001b[0;34m\u001b[0m\u001b[0m\n\u001b[0m\u001b[1;32m     18\u001b[0m     \u001b[0;32mtry\u001b[0m\u001b[0;34m:\u001b[0m\u001b[0;34m\u001b[0m\u001b[0;34m\u001b[0m\u001b[0m\n\u001b[1;32m     19\u001b[0m         \u001b[0;32myield\u001b[0m \u001b[0mf\u001b[0m\u001b[0;34m\u001b[0m\u001b[0;34m\u001b[0m\u001b[0m\n",
      "\u001b[0;32m~/opt/anaconda3/lib/python3.8/site-packages/scipy/io/matlab/_mio.py\u001b[0m in \u001b[0;36m_open_file\u001b[0;34m(file_like, appendmat, mode)\u001b[0m\n\u001b[1;32m     43\u001b[0m             \u001b[0;32mif\u001b[0m \u001b[0mappendmat\u001b[0m \u001b[0;32mand\u001b[0m \u001b[0;32mnot\u001b[0m \u001b[0mfile_like\u001b[0m\u001b[0;34m.\u001b[0m\u001b[0mendswith\u001b[0m\u001b[0;34m(\u001b[0m\u001b[0;34m'.mat'\u001b[0m\u001b[0;34m)\u001b[0m\u001b[0;34m:\u001b[0m\u001b[0;34m\u001b[0m\u001b[0;34m\u001b[0m\u001b[0m\n\u001b[1;32m     44\u001b[0m                 \u001b[0mfile_like\u001b[0m \u001b[0;34m+=\u001b[0m \u001b[0;34m'.mat'\u001b[0m\u001b[0;34m\u001b[0m\u001b[0;34m\u001b[0m\u001b[0m\n\u001b[0;32m---> 45\u001b[0;31m             \u001b[0;32mreturn\u001b[0m \u001b[0mopen\u001b[0m\u001b[0;34m(\u001b[0m\u001b[0mfile_like\u001b[0m\u001b[0;34m,\u001b[0m \u001b[0mmode\u001b[0m\u001b[0;34m)\u001b[0m\u001b[0;34m,\u001b[0m \u001b[0;32mTrue\u001b[0m\u001b[0;34m\u001b[0m\u001b[0;34m\u001b[0m\u001b[0m\n\u001b[0m\u001b[1;32m     46\u001b[0m         \u001b[0;32melse\u001b[0m\u001b[0;34m:\u001b[0m\u001b[0;34m\u001b[0m\u001b[0;34m\u001b[0m\u001b[0m\n\u001b[1;32m     47\u001b[0m             raise OSError(\n",
      "\u001b[0;31mFileNotFoundError\u001b[0m: [Errno 2] No such file or directory: '/Users/mirjetapasha/Documents/Research_Projects/TRIPSNOV10/trips-py/demos/image_{dataset}.mat'"
     ]
    }
   ],
   "source": [
    "mat_contents = spio.loadmat(os.path.join(file_path,file_name),\\\n",
    "                        mat_dtype = True,\\\n",
    "                        squeeze_me = True,\\\n",
    "                        struct_as_record = True) "
   ]
  },
  {
   "cell_type": "code",
   "execution_count": 18,
   "metadata": {},
   "outputs": [],
   "source": [
    "xt = mat_contents['x_true']"
   ]
  },
  {
   "cell_type": "code",
   "execution_count": 19,
   "metadata": {},
   "outputs": [
    {
     "data": {
      "text/plain": [
       "<matplotlib.image.AxesImage at 0x7fc3407a7b80>"
      ]
     },
     "execution_count": 19,
     "metadata": {},
     "output_type": "execute_result"
    },
    {
     "data": {
      "image/png": "[encoded data removed]",
      "text/plain": [
       "<Figure size 432x288 with 1 Axes>"
      ]
     },
     "metadata": {
      "needs_background": "light"
     },
     "output_type": "display_data"
    }
   ],
   "source": [
    "plt.imshow(xt)"
   ]
  },
  {
   "cell_type": "code",
   "execution_count": 2,
   "metadata": {},
   "outputs": [],
   "source": [
    "import requests\n",
    "from scipy import sparse\n",
    "import scipy.io as spio\n",
    "import numpy as np\n",
    "import h5py\n",
    "import astra\n",
    "from os import mkdir\n",
    "from os.path import exists\n",
    "import scipy.sparse as sps\n",
    "# split into test problems\n",
    "# separate IO from test problem class implementation\n",
    "import os,sys\n",
    "# dataset = 1\n",
    "# r = requests.get(f'https://drive.google.com/drive/folders/1uexAAYKRnSy0YTXMisk6IxcmwQ66H2by?usp=share_link/image_{dataset}.mat')\n",
    "# with open(f'./{dataset}.mat', \"wb\") as file:\n",
    "#     file.write(r.content)\n",
    "\n",
    "# with h5py.File(f'./data/image_data/image_{dataset}.mat', 'r') as f:\n",
    "#     X = f['x_true']"
   ]
  },
  {
   "cell_type": "code",
   "execution_count": 3,
   "metadata": {},
   "outputs": [],
   "source": [
    "def get_image_data(dataset = 1):\n",
    "\n",
    "    assert dataset in [1,2,3,4]\n",
    "\n",
    "    if exists(f'./data/image_data/image_{dataset}.mat'):\n",
    "        print('data already downloaded.')\n",
    "\n",
    "    else:\n",
    "        print(\"downloading...\")\n",
    "\n",
    "        if not exists('./data'):\n",
    "            mkdir(\"./data\")\n",
    "\n",
    "        if not exists('./data/image_data'):\n",
    "            mkdir(\"./data/image_data\")\n",
    "\n",
    "        r = requests.get(f'https://drive.google.com/drive/folders/1uexAAYKRnSy0YTXMisk6IxcmwQ66H2by?usp=share_link/image_{dataset}.mat')\n",
    "\n",
    "        with open(f'./data/image_data/image_{dataset}.mat', \"wb\") as file:\n",
    "\n",
    "            file.write(r.content)\n",
    "\n",
    "        print(\"downloaded.\")"
   ]
  },
  {
   "cell_type": "code",
   "execution_count": 7,
   "metadata": {},
   "outputs": [
    {
     "data": {
      "text/plain": [
       "'/Users/mirjetapasha/Documents/Research_Projects/TRIPSNOV10/trips-py/demos'"
      ]
     },
     "execution_count": 7,
     "metadata": {},
     "output_type": "execute_result"
    }
   ],
   "source": [
    "currentpath = os.getcwd()\n",
    "currentpath"
   ]
  },
  {
   "cell_type": "code",
   "execution_count": 4,
   "metadata": {},
   "outputs": [],
   "source": [
    "def generate_image_data2(dataset):\n",
    "    get_image_data(dataset)\n",
    "    currentpath = os.getcwd()\n",
    "    dataa = spio.loadmat(currentpath + '/data/image_data/image_{dataset}.mat')\n",
    "    # dataa = spio.loadmat('../demos/data/images/satellite128.mat')\n",
    "    X = dataa['x_true']\n",
    "    X_true = X/X.max()\n",
    "    nx, ny = X_true.shape  \n",
    "    x_truef = X_true.reshape((-1,1))\n",
    "    return x_truef"
   ]
  },
  {
   "cell_type": "code",
   "execution_count": 36,
   "metadata": {},
   "outputs": [
    {
     "data": {
      "text/plain": [
       "<matplotlib.image.AxesImage at 0x7f96e5214760>"
      ]
     },
     "execution_count": 36,
     "metadata": {},
     "output_type": "execute_result"
    },
    {
     "data": {
      "image/png": "[encoded data removed]",
      "text/plain": [
       "<Figure size 432x288 with 1 Axes>"
      ]
     },
     "metadata": {
      "needs_background": "light"
     },
     "output_type": "display_data"
    }
   ],
   "source": [
    "plt.imshow(xx.reshape((128, 128)))"
   ]
  },
  {
   "cell_type": "code",
   "execution_count": 50,
   "metadata": {},
   "outputs": [],
   "source": [
    "class Deb:\n",
    "    def __init__(self,**kwargs):\n",
    "        seed = kwargs.pop('seed',2022)\n",
    "    def Gauss(self, PSFdim, PSFspread):\n",
    "        self.m = PSFdim[0]\n",
    "        self.n = PSFdim[1]\n",
    "        self.dim = PSFdim\n",
    "        self.spread = PSFspread\n",
    "        self.s1, self.s2 = PSFspread, PSFspread\n",
    "        # Set up grid points to evaluate the Gaussian function\n",
    "        x = np.arange(-np.fix(self.n/2), np.ceil(self.n/2))\n",
    "        y = np.arange(-np.fix(self.m/2), np.ceil(self.m/2))\n",
    "        X, Y = np.meshgrid(x, y)\n",
    "        # Compute the Gaussian, and normalize the PSF.\n",
    "        PSF = np.exp( -0.5* ((X**2)/(self.s1**2) + (Y**2)/(self.s2**2)) )\n",
    "        PSF /= PSF.sum()\n",
    "        # find the center\n",
    "        mm, nn = np.where(PSF == PSF.max())\n",
    "        center = np.array([mm[0], nn[0]])   \n",
    "        return PSF, center.astype(int)\n",
    "    def forward_Op(self, dim, spread, nx, ny):\n",
    "        PSF, center = self.Gauss(dim, spread)\n",
    "        proj_forward = lambda X: convolve(X.reshape([nx,ny]), PSF, mode='constant').reshape((-1,1))\n",
    "        proj_backward = lambda B: convolve(B.reshape([nx,ny]), np.flipud(np.fliplr(PSF)), mode='constant' ).reshape((-1,1))\n",
    "        blur = pylops.FunctionOperator(proj_forward, proj_backward, nx*ny)\n",
    "        return blur\n",
    "    def generate_true(self, choose_image):\n",
    "        # Specify the path\n",
    "        path_package = '/Users/mirjetapasha/Documents/Research_Projects/TRIPS_June25/multiparameter_package'\n",
    "        if choose_image == 'satellite128':\n",
    "            dataa = spio.loadmat(path_package + '/demos/data/images/satellite128.mat')\n",
    "            # dataa = spio.loadmat('../demos/data/images/satellite128.mat')\n",
    "            X = dataa['x_true']\n",
    "            X_true = X/X.max()\n",
    "            self.nx, self.ny = X_true.shape  \n",
    "            x_truef = X_true.reshape((-1,1))\n",
    "        elif choose_image == 'satellite64':\n",
    "            dataa = spio.loadmat(path_package + '/demos/data/images/satellite64.mat')\n",
    "            X = dataa['x_new']\n",
    "            X_true = X/X.max()\n",
    "            self.nx, self.ny = X_true.shape  \n",
    "            x_truef = X_true.reshape((-1,1))\n",
    "        elif choose_image == 'edges':\n",
    "            dataa = spio.loadmat(path_package + '/demos/data/images/edges.mat')\n",
    "            X = dataa['x']\n",
    "            X_true = X/X.max()\n",
    "            self.nx, self.ny = X_true.shape  \n",
    "            x_truef = X_true.reshape((-1,1))\n",
    "        elif choose_image == 'pattern1':\n",
    "            dataa = spio.loadmat(path_package + '/demos/data/images/shape1.mat')\n",
    "            X = dataa['xtrue']\n",
    "            X_true = X/X.max()\n",
    "            self.nx, self.ny = X_true.shape  \n",
    "            x_truef = X_true.reshape((-1,1))\n",
    "        elif choose_image == 'Himage':\n",
    "            dx = 10\n",
    "            dy = 10\n",
    "            up_width = 10\n",
    "            bar_width= 5\n",
    "            size = 64\n",
    "            self.nx, self.ny = 64, 64\n",
    "            h_im = np.zeros((size, size))\n",
    "            for i in range(size):\n",
    "                if i < dy or i > size-dy:\n",
    "                    continue\n",
    "                for j in range(size):\n",
    "                    if j < dx or j > size - dx:\n",
    "                        continue\n",
    "                    if j < dx + up_width or j > size - dx - up_width:\n",
    "                        h_im[i, j] = 1\n",
    "                    if abs(i - size/2) < bar_width:\n",
    "                        h_im[i, j] = 1\n",
    "            x_truef = self.vec(h_im)\n",
    "            # X_true = h_im\n",
    "        else:\n",
    "            raise ValueError(\"The image you requested does not exist! Specify the right name.\")\n",
    "        return (x_truef, self.nx, self.ny)\n",
    "        ## convert a 2-d image into a 1-d vector\n",
    "    def vec(self, image):\n",
    "        sh = image.shape\n",
    "        return image.reshape((sh[0]*sh[1]))\n",
    "    ## convert a 1-d vector into a 2-d image of the given shape\n",
    "    def im(self, x, shape):\n",
    "        return x.reshape(shape)\n",
    "    ## display a 1-d vector as a 2-d image\n",
    "    def display_vec(self, vec, shape, scale = 1):\n",
    "        image = self.im(vec, shape)\n",
    "        plt.imshow(image, vmin=0, vmax=scale * np.max(vec), cmap='gray')\n",
    "        plt.axis('off')\n",
    "        plt.show()\n",
    "        ## a helper function for creating the blurring operator\n",
    "    def get_column_sum(self, spread):\n",
    "        length = 40\n",
    "        raw = np.array([np.exp(-(((i-length/2)/spread[0])**2 + ((j-length/2)/spread[1])**2)/2) \n",
    "                        for i in range(length) for j in range(length)])\n",
    "        return np.sum(raw[raw > 0.0001])\n",
    "    ## blurs a single pixel at center with a specified Gaussian spread\n",
    "    def P(self, spread, center, shape):\n",
    "        image = np.zeros(shape)\n",
    "        for i in range(shape[0]):\n",
    "            for j in range(shape[1]):\n",
    "                v = np.exp(-(((i-center[0])/spread[0])**2 + ((j-center[1])/spread[1])**2)/2)\n",
    "                if v < 0.0001:\n",
    "                    continue\n",
    "                image[i,j] = v\n",
    "        return image\n",
    "\n",
    "    def forward_Op_matrix(self, spread, shape, nx, ny):\n",
    "        ## construct our blurring matrix with a Gaussian spread and zero boundary conditions\n",
    "        #normalize = get_column_sum(spread)\n",
    "        m = shape[0]\n",
    "        n = shape[1]\n",
    "        A = np.zeros((m*n, m*n))\n",
    "        count = 0\n",
    "        self.spread = spread\n",
    "        self.shape = shape\n",
    "        for i in range(m):\n",
    "            for j in range(n):\n",
    "                column = self.vec(self.P(spread, [i, j],  shape))\n",
    "                A[:, count] = column\n",
    "                count += 1\n",
    "        normalize = np.sum(A[:, int(m*n/2 + n/2)])\n",
    "        A = 1/normalize * A\n",
    "        return A\n",
    "\n",
    "    def generate_data(self, x, matrix):\n",
    "        if matrix == False:\n",
    "            A = self.forward_Op(self.dim, self.spread, self.nx, self.ny)\n",
    "            b = A*x\n",
    "        else:\n",
    "            A = self.forward_Op_matrix(self.spread, self.shape, self.nx, self.ny)\n",
    "            b = A@x\n",
    "        return b\n",
    "        \n",
    "    def add_noise(self, b_true, opt, noise_level):\n",
    "        if (opt == 'Gaussian'):\n",
    "            e = np.random.randn(self.nx*self.ny, 1)\n",
    "            delta = np.linalg.norm(e)\n",
    "            sig_obs = noise_level * np.linalg.norm(b_true)/np.linalg.norm(e)\n",
    "            b_meas = b_true + sig_obs*e\n",
    "            b_meas_im = b_meas.reshape((self.nx, self.ny))\n",
    "        if (opt == 'Poisson'):\n",
    "            gamma = 1 # background counts assumed known\n",
    "            b_meas = np.random.poisson(lam=b_true+gamma) \n",
    "            b_meas_im = b_meas.reshape((self.nx, self.ny))\n",
    "            e = 0\n",
    "            delta = np.linalg.norm(e)\n",
    "        if (opt == 'Laplace'):\n",
    "            e = np.random.laplace(self.nx*self.ny, 1)\n",
    "            delta = np.linalg.norm(e)\n",
    "            sig_obs = noise_level * np.linalg.norm(b_true)/np.linalg.norm(e)\n",
    "            b_meas = b_true + sig_obs*e\n",
    "            b_meas_im = b_meas.reshape((self.nx, self.ny), order='F')\n",
    "        return (b_meas_im, delta)\n",
    "    def plot_rec(self, img, save_imgs = False, save_path='./saveImagesDeblurringReconstructions'):\n",
    "            plt.set_cmap('inferno')\n",
    "            if save_imgs and not os.path.exists(save_path): os.makedirs(save_path)\n",
    "            # plt.imshow(img.reshape((self.nx, self.ny), order = 'F'))\n",
    "            plt.imshow(img.reshape((self.nx, self.ny)))\n",
    "            plt.axis('off')\n",
    "            if save_imgs:  plt.savefig(save_path+'/rec'+'.png',bbox_inches='tight')\n",
    "            plt.pause(.1)\n",
    "            plt.draw()\n",
    "\n",
    "    def plot_data(self, img, save_imgs = False, save_path='./saveImagesDeblurringData'):\n",
    "            plt.set_cmap('inferno')\n",
    "            if save_imgs and not os.path.exists(save_path): os.makedirs(save_path)\n",
    "            # plt.imshow(img.reshape((self.nx, self.ny), order = 'F'))\n",
    "            plt.imshow(img.reshape((self.nx, self.ny)))\n",
    "            plt.axis('off')\n",
    "            if save_imgs:  plt.savefig(save_path+'/rec'+'.png',bbox_inches='tight')\n",
    "            plt.pause(.1)\n",
    "            plt.draw() \n"
   ]
  },
  {
   "cell_type": "code",
   "execution_count": 12,
   "metadata": {},
   "outputs": [
    {
     "data": {
      "text/plain": [
       "(16384, 1)"
      ]
     },
     "execution_count": 12,
     "metadata": {},
     "output_type": "execute_result"
    }
   ],
   "source": [
    "x_true.shape"
   ]
  },
  {
   "cell_type": "code",
   "execution_count": 22,
   "metadata": {},
   "outputs": [],
   "source": [
    "Deblur = Deblurring()\n",
    "nx = 128\n",
    "ny = 128\n",
    "# A = Deblur.forward_Op([11,11], 0.5, imagesize_x, imagesize_y)\n",
    "A = Deblur.forward_Op([11,11], 0.5, nx, ny)\n",
    "choose_image = 'satellite128'\n",
    "generate_matrix = False\n",
    "(x_true, nx, ny) = Deblur.generate_true(choose_image)\n",
    "b_true = Deblur.generate_data(x_true, generate_matrix)\n",
    "(b, e) = Deblur.add_noise(b_true, 'Gaussian', noise_level = 0.01)\n",
    "b_vec = b.reshape((-1,1))\n",
    "\n",
    "I = pylops.Identity(imagesize_x*imagesize_y) # identity operator\n",
    "D = first_derivative_operator(n=imagesize_x*imagesize_y) # first derivative operator\n",
    "D2 = D @ D # second derivative operator"
   ]
  },
  {
   "cell_type": "code",
   "execution_count": 23,
   "metadata": {},
   "outputs": [
    {
     "data": {
      "text/plain": [
       "(16384, 16384)"
      ]
     },
     "execution_count": 23,
     "metadata": {},
     "output_type": "execute_result"
    }
   ],
   "source": [
    "A.shape"
   ]
  },
  {
   "cell_type": "code",
   "execution_count": 24,
   "metadata": {},
   "outputs": [
    {
     "data": {
      "text/plain": [
       "(128, 128)"
      ]
     },
     "execution_count": 24,
     "metadata": {},
     "output_type": "execute_result"
    }
   ],
   "source": [
    "b.shape"
   ]
  },
  {
   "cell_type": "code",
   "execution_count": 18,
   "metadata": {},
   "outputs": [
    {
     "data": {
      "text/plain": [
       "(16384, 1)"
      ]
     },
     "execution_count": 18,
     "metadata": {},
     "output_type": "execute_result"
    }
   ],
   "source": [
    "x_true.shape"
   ]
  },
  {
   "cell_type": "code",
   "execution_count": null,
   "metadata": {},
   "outputs": [],
   "source": []
  },
  {
   "cell_type": "code",
   "execution_count": null,
   "metadata": {},
   "outputs": [],
   "source": []
  },
  {
   "cell_type": "code",
   "execution_count": null,
   "metadata": {},
   "outputs": [],
   "source": []
  },
  {
   "cell_type": "code",
   "execution_count": 2,
   "metadata": {},
   "outputs": [],
   "source": [
    "\n",
    "class Deblurring:\n",
    "    def __init__(self,**kwargs):\n",
    "        seed = kwargs.pop('seed',2022)\n",
    "    def Gauss(self, PSFdim, PSFspread):\n",
    "        self.m = PSFdim[0]\n",
    "        self.n = PSFdim[1]\n",
    "        self.dim = PSFdim\n",
    "        self.spread = PSFspread\n",
    "        self.s1, self.s2 = PSFspread, PSFspread\n",
    "        # Set up grid points to evaluate the Gaussian function\n",
    "        x = np.arange(-np.fix(self.n/2), np.ceil(self.n/2))\n",
    "        y = np.arange(-np.fix(self.m/2), np.ceil(self.m/2))\n",
    "        X, Y = np.meshgrid(x, y)\n",
    "        # Compute the Gaussian, and normalize the PSF.\n",
    "        PSF = np.exp( -0.5* ((X**2)/(self.s1**2) + (Y**2)/(self.s2**2)) )\n",
    "        PSF /= PSF.sum()\n",
    "        # find the center\n",
    "        mm, nn = np.where(PSF == PSF.max())\n",
    "        center = np.array([mm[0], nn[0]])   \n",
    "        return PSF, center.astype(int)\n",
    "    def forward_Op(self, dim, spread, nx, ny):\n",
    "        PSF, center = self.Gauss(dim, spread)\n",
    "        proj_forward = lambda X: convolve(X.reshape([nx,ny]), PSF, mode='constant').reshape((-1,1))\n",
    "        proj_backward = lambda B: convolve(B.reshape([nx,ny]), np.flipud(np.fliplr(PSF)), mode='constant' ).reshape((-1,1))\n",
    "        blur = pylops.FunctionOperator(proj_forward, proj_backward, nx*ny)\n",
    "        return blur\n",
    "    def generate_true(self, choose_image):\n",
    "        # Specify the path\n",
    "        path_package = '/Users/mirjetapasha/Documents/Research_Projects/TRIPS_June25/multiparameter_package'\n",
    "        if choose_image == 'satellite128':\n",
    "            dataa = spio.loadmat(path_package + '/demos/data/images/satellite128.mat')\n",
    "            X = dataa['x_true']\n",
    "            X_true = X/X.max()\n",
    "            self.nx, self.ny = X_true.shape  \n",
    "            x_truef = X_true.reshape((-1,1))\n",
    "        elif choose_image == 'satellite64':\n",
    "            dataa = spio.loadmat(path_package + '/demos/data/images/satellite64.mat')\n",
    "            X = dataa['x_new']\n",
    "            X_true = X/X.max()\n",
    "            self.nx, self.ny = X_true.shape  \n",
    "            x_truef = X_true.reshape((-1,1))\n",
    "        elif choose_image == 'edges':\n",
    "            dataa = spio.loadmat(path_package + '/demos/data/images/edges.mat')\n",
    "            X = dataa['x']\n",
    "            X_true = X/X.max()\n",
    "            self.nx, self.ny = X_true.shape  \n",
    "            x_truef = X_true.reshape((-1,1))\n",
    "        elif choose_image == 'pattern1':\n",
    "            dataa = spio.loadmat(path_package + '/demos/data/images/shape1.mat')\n",
    "            X = dataa['xtrue']\n",
    "            X_true = X/X.max()\n",
    "            self.nx, self.ny = X_true.shape  \n",
    "            x_truef = X_true.reshape((-1,1))\n",
    "        elif choose_image == 'Himage':\n",
    "            dx = 10\n",
    "            dy = 10\n",
    "            up_width = 10\n",
    "            bar_width= 5\n",
    "            size = 64\n",
    "            self.nx, self.ny = 64, 64\n",
    "            h_im = np.zeros((size, size))\n",
    "            for i in range(size):\n",
    "                if i < dy or i > size-dy:\n",
    "                    continue\n",
    "                for j in range(size):\n",
    "                    if j < dx or j > size - dx:\n",
    "                        continue\n",
    "                    if j < dx + up_width or j > size - dx - up_width:\n",
    "                        h_im[i, j] = 1\n",
    "                    if abs(i - size/2) < bar_width:\n",
    "                        h_im[i, j] = 1\n",
    "            x_truef = self.vec(h_im)\n",
    "            # X_true = h_im\n",
    "        else:\n",
    "            raise ValueError(\"The image you requested does not exist! Specify the right name.\")\n",
    "        return (x_truef, self.nx, self.ny)\n",
    "        ## convert a 2-d image into a 1-d vector\n",
    "    def vec(self, image):\n",
    "        sh = image.shape\n",
    "        return image.reshape((sh[0]*sh[1]))\n",
    "    ## convert a 1-d vector into a 2-d image of the given shape\n",
    "    def im(self, x, shape):\n",
    "        return x.reshape(shape)\n",
    "    ## display a 1-d vector as a 2-d image\n",
    "    def display_vec(self, vec, shape, scale = 1):\n",
    "        image = self.im(vec, shape)\n",
    "        plt.imshow(image, vmin=0, vmax=scale * np.max(vec), cmap='gray')\n",
    "        plt.axis('off')\n",
    "        plt.show()\n",
    "        ## a helper function for creating the blurring operator\n",
    "    def get_column_sum(self, spread):\n",
    "        length = 40\n",
    "        raw = np.array([np.exp(-(((i-length/2)/spread[0])**2 + ((j-length/2)/spread[1])**2)/2) \n",
    "                        for i in range(length) for j in range(length)])\n",
    "        return np.sum(raw[raw > 0.0001])\n",
    "    ## blurs a single pixel at center with a specified Gaussian spread\n",
    "    def P(self, spread, center, shape):\n",
    "        image = np.zeros(shape)\n",
    "        for i in range(shape[0]):\n",
    "            for j in range(shape[1]):\n",
    "                v = np.exp(-(((i-center[0])/spread[0])**2 + ((j-center[1])/spread[1])**2)/2)\n",
    "                if v < 0.0001:\n",
    "                    continue\n",
    "                image[i,j] = v\n",
    "        return image\n",
    "\n",
    "    def forward_Op_matrix(self, spread, shape, nx, ny):\n",
    "        ## construct our blurring matrix with a Gaussian spread and zero boundary conditions\n",
    "        #normalize = get_column_sum(spread)\n",
    "        m = shape[0]\n",
    "        n = shape[1]\n",
    "        A = np.zeros((m*n, m*n))\n",
    "        count = 0\n",
    "        self.spread = spread\n",
    "        self.shape = shape\n",
    "        for i in range(m):\n",
    "            for j in range(n):\n",
    "                column = self.vec(self.P(spread, [i, j],  shape))\n",
    "                A[:, count] = column\n",
    "                count += 1\n",
    "        normalize = np.sum(A[:, int(m*n/2 + n/2)])\n",
    "        A = 1/normalize * A\n",
    "        return A\n",
    "\n",
    "    def generate_data(self, x, matrix):\n",
    "        if matrix == False:\n",
    "            A = self.forward_Op(self.dim, self.spread, self.nx, self.ny)\n",
    "            b = A*x\n",
    "        else:\n",
    "            A = self.forward_Op_matrix(self.spread, self.shape, self.nx, self.ny)\n",
    "            b = A@x\n",
    "        return b\n",
    "        \n",
    "    def add_noise(self, b_true, opt, noise_level):\n",
    "        if (opt == 'Gaussian'):\n",
    "            e = np.random.randn(self.nx*self.ny, 1)\n",
    "            delta = np.linalg.norm(e)\n",
    "            sig_obs = noise_level * np.linalg.norm(b_true)/np.linalg.norm(e)\n",
    "            b_meas = b_true + sig_obs*e\n",
    "            b_meas_im = b_meas.reshape((self.nx, self.ny))\n",
    "        if (opt == 'Poisson'):\n",
    "            gamma = 1 # background counts assumed known\n",
    "            b_meas = np.random.poisson(lam=b_true+gamma) \n",
    "            b_meas_im = b_meas.reshape((self.nx, self.ny))\n",
    "            e = 0\n",
    "            delta = np.linalg.norm(e)\n",
    "        if (opt == 'Laplace'):\n",
    "            e = np.random.laplace(self.nx*self.ny, 1)\n",
    "            delta = np.linalg.norm(e)\n",
    "            sig_obs = noise_level * np.linalg.norm(b_true)/np.linalg.norm(e)\n",
    "            b_meas = b_true + sig_obs*e\n",
    "            b_meas_im = b_meas.reshape((self.nx, self.ny), order='F')\n",
    "        return (b_meas_im, delta)\n",
    "    def plot_rec(self, img, save_imgs = False, save_path='./saveImagesDeblurringReconstructions'):\n",
    "            plt.set_cmap('inferno')\n",
    "            if save_imgs and not os.path.exists(save_path): os.makedirs(save_path)\n",
    "            # plt.imshow(img.reshape((self.nx, self.ny), order = 'F'))\n",
    "            plt.imshow(img.reshape((self.nx, self.ny)))\n",
    "            plt.axis('off')\n",
    "            if save_imgs:  plt.savefig(save_path+'/rec'+'.png',bbox_inches='tight')\n",
    "            plt.pause(.1)\n",
    "            plt.draw()\n",
    "\n",
    "    def plot_data(self, img, save_imgs = False, save_path='./saveImagesDeblurringData'):\n",
    "            plt.set_cmap('inferno')\n",
    "            if save_imgs and not os.path.exists(save_path): os.makedirs(save_path)\n",
    "            # plt.imshow(img.reshape((self.nx, self.ny), order = 'F'))\n",
    "            plt.imshow(img.reshape((self.nx, self.ny)))\n",
    "            plt.axis('off')\n",
    "            if save_imgs:  plt.savefig(save_path+'/rec'+'.png',bbox_inches='tight')\n",
    "            plt.pause(.1)\n",
    "            plt.draw() \n",
    "\n"
   ]
  },
  {
   "cell_type": "code",
   "execution_count": null,
   "metadata": {},
   "outputs": [],
   "source": []
  }
 ],
 "metadata": {
  "kernelspec": {
   "display_name": "base",
   "language": "python",
   "name": "python3"
  },
  "language_info": {
   "codemirror_mode": {
    "name": "ipython",
    "version": 3
   },
   "file_extension": ".py",
   "mimetype": "text/x-python",
   "name": "python",
   "nbconvert_exporter": "python",
   "pygments_lexer": "ipython3",
   "version": "3.8.8"
  }
 },
 "nbformat": 4,
 "nbformat_minor": 2
}
