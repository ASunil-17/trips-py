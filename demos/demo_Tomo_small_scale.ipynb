{
 "cells": [
  {
   "cell_type": "code",
   "execution_count": null,
   "metadata": {},
   "outputs": [],
   "source": [
    "#!/usr/bin/env python\n",
    "\"\"\"\n",
    "Demo for tomography test problem on a small scale problem\n",
    "--------------------------------------------------------------------------\n",
    "Created in 2023 for TRIPs-Py library\n",
    "\"\"\"\n",
    "__authors__ = \"Mirjeta Pasha, Silvia Gazzola, Connor Sanderford, and Ugochukwu Obinna Ugwu\"\n",
    "__affiliations__ = 'Tufts University, University of Bath, Arizona State University, and Tufts University'\n",
    "__copyright__ = \"Copyright 2023, TRIPs-Py library\"\n",
    "__license__ = \"GPL\"\n",
    "__version__ = \"1.0\"\n",
    "__email__ = \"mirjeta.pasha@tufts.edu; mirjeta.pasha1@gmail.com; sg968@bath.ac.uk; csanderf@asu.edu; connorsanderford@gmail.com; Ugochukwu.Ugwu@tufts.edu\""
   ]
  },
  {
   "cell_type": "code",
   "execution_count": null,
   "metadata": {},
   "outputs": [],
   "source": [
    "import matplotlib\n",
    "import matplotlib.pyplot as plt\n",
    "from scipy.linalg import fractional_matrix_power\n",
    "from numpy import array, diag, dot, maximum, empty, repeat, ones, sum\n",
    "from numpy.linalg import inv\n",
    "import scipy as sp\n",
    "import scipy.stats as sps\n",
    "import scipy.io as spio\n",
    "import numpy as np\n",
    "import astra\n",
    "from trips.utilities.phantoms import *\n",
    "from venv import create\n",
    "import pylops\n",
    "from scipy.ndimage import convolve\n",
    "from scipy import sparse\n",
    "import scipy.special as spe\n",
    "from trips.test_problems.Tomography import *\n",
    "from trips.solvers.GKS import *\n",
    "from trips.solvers.MMGKS import *\n",
    "from trips.solvers.Tikhonov import *\n",
    "from trips.solvers.tSVD import *\n",
    "from trips.utilities.helpers import *\n",
    "from trips.solvers.CGLS import TP_cgls\n",
    "from trips.solvers.golub_kahan_tikhonov import *\n",
    "from trips.solvers.GMRES import GMRES"
   ]
  },
  {
   "attachments": {},
   "cell_type": "markdown",
   "metadata": {},
   "source": [
    "#### In this notebook we illustrate how to use the Tomography class. The main features are:\n",
    "1. Define e tomography problem. Show how the forward operator can be accessed as a matrix (for relatively small problems).\n",
    " - 1.1 We show how to use SVD, compute the singular values of the operator, and illustrate the truncated SVD solution\n",
    " - 1.2 We use regularization methods for computing an approximate solution\n"
   ]
  },
  {
   "cell_type": "code",
   "execution_count": null,
   "metadata": {},
   "outputs": [],
   "source": [
    "# Define an object of the class Tomogrpahy\n",
    "Tomo = Tomography()\n",
    "# Specify the dimensions of the phantom and the number of angels that we call views\n",
    "views = 90\n",
    "nx = 32\n",
    "ny = 32\n",
    "# Step 1: Define the true solution throught the function gen_true(). \n",
    "# Options are: grains, smooth, tectonic, threephases, ppower\n",
    "testproblem = 'tectonic'\n",
    "(x_true, nx, ny) = Tomo.gen_true(nx, ny, testproblem)\n",
    "# Step 2: Define the forward operator\n",
    "A = Tomo.forward_Op(x_true, nx, ny, views)\n",
    "# Generate the data: We can skip Step 1 and generate the sinogram and the operator by the following lines\n",
    "(A, b_true, p, q, AforMatrixOperation) = Tomo.gen_data(x_true, nx, ny, views)\n",
    "# Add noise in the true simulated sinogram b_true\n",
    "# The opt defines the type of the noise. Options are Gaussian, Laplace, and Poisson\n",
    "# The noise level defines the percentage of the noise added in the data. A value 0.01 means 1% additive noise\n",
    "(b, delta) = Tomo.add_noise(b_true = b_true, opt = 'Gaussian', noise_level = 0.01)\n",
    "b_vec = b.reshape((-1,1))"
   ]
  },
  {
   "cell_type": "markdown",
   "metadata": {},
   "source": [
    "##### 1.1. Compute the SVD of the operartor $A$ and plot the singlar values and the singular vectors\n",
    "###### If the parameter is 'A' then we give the full operator to the function plot_singular_values_svd. The SVD is then computed and the singlar values are plotted. If the parameter is 'S' then we have precomputed the SVD from which we have S and the function plot_singular_values_svd will only plot the singular values. The same applies for plotting the singular vectors. If the operaror is not given, we give the matrix V."
   ]
  },
  {
   "cell_type": "code",
   "execution_count": null,
   "metadata": {},
   "outputs": [],
   "source": [
    "# First we compute a naive solution\n",
    "# x_naive = A.T@b.reshape((-1,1))\n",
    "AA = A.todense()\n",
    "x_naive = np.linalg.solve(AA.T@AA, AA.T@b_vec)"
   ]
  },
  {
   "cell_type": "code",
   "execution_count": null,
   "metadata": {},
   "outputs": [],
   "source": [
    "plt.imshow(x_naive.reshape((nx, ny)))"
   ]
  },
  {
   "cell_type": "code",
   "execution_count": null,
   "metadata": {},
   "outputs": [],
   "source": [
    "# If the operator is sparse, we convert it to dense A.todense()\n",
    "plot_singular_values_svd(Operator = A , parameter = 'A')\n",
    "# If the operator is in the matrix form, but very large and sparse, the following commands can be used to compute the SVD\n",
    "# import scipy\n",
    "# [U, S, V] = scipy.sparse.linalg.svds(A, 100)\n",
    "# 100 defines the number of singular values to be computed"
   ]
  },
  {
   "cell_type": "markdown",
   "metadata": {},
   "source": [
    "##### Plot some of the singular vectors"
   ]
  },
  {
   "cell_type": "code",
   "execution_count": null,
   "metadata": {},
   "outputs": [],
   "source": [
    "plot_singular_vectors_svd(Operator = A, size = nx, parameter = 'A')"
   ]
  },
  {
   "cell_type": "markdown",
   "metadata": {},
   "source": [
    "##### 1.2. Compute the truncated SVD solution of a problem by specifying how many singular values you want to keep after truncation"
   ]
  },
  {
   "cell_type": "code",
   "execution_count": null,
   "metadata": {},
   "outputs": [],
   "source": [
    "truncated_value = 300\n",
    "x_tsvd = TruncatedSVD_sol(A.todense(), truncated_value, b_vec)\n",
    "plt.imshow(x_tsvd.reshape((nx, ny)))\n",
    "plt.axis('off')"
   ]
  },
  {
   "cell_type": "code",
   "execution_count": null,
   "metadata": {},
   "outputs": [],
   "source": []
  }
 ],
 "metadata": {
  "kernelspec": {
   "display_name": "base",
   "language": "python",
   "name": "python3"
  },
  "language_info": {
   "codemirror_mode": {
    "name": "ipython",
    "version": 3
   },
   "file_extension": ".py",
   "mimetype": "text/x-python",
   "name": "python",
   "nbconvert_exporter": "python",
   "pygments_lexer": "ipython3",
   "version": "3.8.8"
  },
  "orig_nbformat": 4
 },
 "nbformat": 4,
 "nbformat_minor": 2
}
