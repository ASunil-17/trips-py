{
 "cells": [
  {
   "cell_type": "code",
   "execution_count": null,
   "metadata": {},
   "outputs": [],
   "source": [
    "from trips.testProblems import *\n",
    "from pylops import Identity, LinearOperator\n",
    "from trips.utils import operator_qr, operator_svd, is_identity\n",
    "from trips.parameter_selection.gcv import *\n",
    "import scipy.linalg as la\n",
    "import scipy.optimize as op\n",
    "import numpy as np\n",
    "#from trips.solvers.Tikhonov import *\n",
    "from trips.solvers.Hybrid_LSQR import *"
   ]
  },
  {
   "cell_type": "code",
   "execution_count": null,
   "metadata": {},
   "outputs": [],
   "source": [
    "D1D = Deblurring1D()\n",
    "N = 64\n",
    "n = N\n",
    "A = D1D.forward_Op_matrix_1D(3, N)\n",
    "# A = np.vstack((A, np.random.rand(3,N)))\n",
    "x_true = D1D.gen_xtrue(N, test = 'piecewise')\n",
    "btrue = A@x_true\n",
    "(b, delta) = D1D.add_noise(btrue, 'Gaussian', 0.05)\n",
    "plt.plot(x_true)\n",
    "D1D.plot_data(b)"
   ]
  },
  {
   "cell_type": "code",
   "execution_count": null,
   "metadata": {},
   "outputs": [],
   "source": [
    "print(delta)\n",
    "deltavar = la.norm(b.reshape((-1,1)) - (A@x_true).reshape((-1,1)))\n",
    "print(deltavar)"
   ]
  },
  {
   "cell_type": "code",
   "execution_count": null,
   "metadata": {},
   "outputs": [],
   "source": [
    "import scipy.optimize as op\n",
    "import scipy.linalg as la\n",
    "from trips.utils import operator_qr, operator_svd, is_identity\n",
    "import warnings\n",
    "def discrepancy_principle(A, b, L, delta = None, eta = 1.01, **kwargs):\n",
    "\n",
    "    if not ( isinstance(delta, float) or isinstance(delta, int)):\n",
    "\n",
    "        # raise TypeError('You must provide a value for the noise level delta.')\n",
    "        raise Warning(\"\"\"A value for the noise level delta was not provided. A default value of 0.01 has been used. \n",
    "                    Please supply a value of delta based on the estimated noise level of the problem.\"\"\")\n",
    "\n",
    "        delta = 0.01\n",
    "    print(delta)\n",
    "    if is_identity(L):\n",
    "        U, S, V = la.svd(A, full_matrices=False)\n",
    "        singular_values = S**2\n",
    "        singular_values.shape = (singular_values.shape[0], 1)\n",
    "        bhat = U.T @ b\n",
    "        beta = 1.0\n",
    "\n",
    "        alpha = 0.0\n",
    "\n",
    "        iterations = 0\n",
    "\n",
    "        while (iterations < 30) or ((iterations <= 100) and (np.abs(alpha) < 10**(-16))):\n",
    "\n",
    "            f = ((singular_values*beta + 1)**(-2)).T @ bhat - (eta*delta)**2\n",
    "\n",
    "            f_prime = -2*  ((singular_values*beta + 1)**(-3) * singular_values).T @ bhat\n",
    "\n",
    "            beta_new = beta - f/f_prime\n",
    "\n",
    "\n",
    "            if abs(beta_new - beta) < 10**(-7)* beta:\n",
    "                break\n",
    "\n",
    "            beta = beta_new\n",
    "\n",
    "            alpha = 1/beta_new\n",
    "\n",
    "            iterations += 1\n",
    "    else:\n",
    "        # n = A.shape[1]\n",
    "        tikh_sol = lambda reg_param: np.linalg.lstsq(np.vstack((A, np.sqrt(reg_param)*L)), np.vstack((b.reshape((-1,1)), np.zeros((L.shape[0],1)))))[0]\n",
    "        discr_func_zero = lambda reg_param: np.linalg.norm(np.matmul(A,tikh_sol(reg_param)).reshape((-1,1)) - b.reshape((-1,1))) - (eta*delta)\n",
    "        # discr_func_zero = lambda reg_param: np.absolute(np.linalg.norm(np.matmul(A,tikh_sol(reg_param)) - b.reshape((-1,1))) - (eta*delta))\n",
    "        # alpha = op.fminbound(func = discr_func_zero, x1 = 0, x2 = 1e2, args=(), xtol=1e-12, maxfun=1000, full_output=0, disp=1)\n",
    "        alpha = op.fsolve(discr_func_zero, 1e-8)[0]\n",
    "\n",
    "    return {'x':alpha}"
   ]
  },
  {
   "cell_type": "code",
   "execution_count": null,
   "metadata": {},
   "outputs": [],
   "source": [
    "tikh_sol = lambda reg_param: np.linalg.lstsq(np.vstack((A, np.sqrt(reg_param)*L)), np.vstack((b.reshape((-1,1)), np.zeros((L.shape[0],1)))))[0]\n",
    "discr_func_zero = lambda reg_param: np.linalg.norm(np.matmul(A,tikh_sol(reg_param)) - b.reshape((-1,1))) - (1.01*deltavar)\n",
    "xx  = np.logspace(-5,2,200)\n",
    "yy  = [discr_func_zero(val) for val in xx]\n",
    "# plt.semilogx(xx, yy)\n",
    "plt.plot(xx, yy)"
   ]
  },
  {
   "cell_type": "code",
   "execution_count": null,
   "metadata": {},
   "outputs": [],
   "source": [
    "print(yy[0])"
   ]
  },
  {
   "cell_type": "code",
   "execution_count": null,
   "metadata": {},
   "outputs": [],
   "source": [
    "print(deltavar)"
   ]
  },
  {
   "cell_type": "code",
   "execution_count": null,
   "metadata": {},
   "outputs": [],
   "source": [
    "from trips.parameter_selection.gcv import generalized_crossvalidation\n",
    "# from trips.parameter_selection.discrepancy_principle import discrepancy_principle\n",
    "def Tikhonov(A, b, L, x_true, regparam = 'gcv', **kwargs):\n",
    "    if regparam in ['gcv', 'GCV', 'Gcv']:\n",
    "        lambdah = generalized_crossvalidation(A, b, L) # find ideal lambda by crossvalidation ###\n",
    "        xTikh = np.linalg.solve(A.T@A + lambdah*L.T@L, A.T@b)\n",
    "    elif regparam in ['DP', 'dp', 'Dp', 'Discrepancy Principle', 'Discrepancy principle', 'discrepancy principle']:\n",
    "        lambdah = discrepancy_principle(A, b, L, **kwargs)['x'].item() # find ideal lambdas by discrepancy principle\n",
    "        print(lambdah)\n",
    "        xTikh = np.linalg.solve(A.T@A + (lambdah**2)*L.T@L, A.T@b.reshape((-1,1)))\n",
    "    else:\n",
    "        lambdah = regparam\n",
    "        xTikh = np.linalg.solve(A.T@A + lambdah*L.T@L, A.T@b)\n",
    "    return xTikh, lambdah"
   ]
  },
  {
   "cell_type": "code",
   "execution_count": null,
   "metadata": {},
   "outputs": [],
   "source": [
    "b_true = A@x_true\n",
    "#delta_new = la.norm(b.reshape((-1,1)) - b_true.reshape((-1,1)))\n",
    "delta_new = la.norm(b.reshape((-1,1)) - btrue.reshape((-1,1)))\n",
    "print(delta_new)"
   ]
  },
  {
   "cell_type": "code",
   "execution_count": null,
   "metadata": {},
   "outputs": [],
   "source": [
    "print(delta_new)"
   ]
  },
  {
   "cell_type": "code",
   "execution_count": null,
   "metadata": {},
   "outputs": [],
   "source": [
    "L = np.eye(N)\n",
    "outTikhI = Tikhonov(A, b, L, x_true, regparam = 'dp', delta = delta_new)"
   ]
  },
  {
   "cell_type": "code",
   "execution_count": null,
   "metadata": {},
   "outputs": [],
   "source": [
    "xTikhI = outTikhI[0]\n",
    "print(la.norm(A@xTikhI - b.reshape((-1,1)))-1.01*delta_new)"
   ]
  },
  {
   "cell_type": "code",
   "execution_count": null,
   "metadata": {},
   "outputs": [],
   "source": [
    "diags = [-np.ones((N,)), np.ones((N-1,))] \n",
    "L = sparse.diags(diags, [0, 1]).toarray()\n",
    "outTikhL = Tikhonov(A, b, L, x_true, regparam = 'dp', delta = delta_new)"
   ]
  },
  {
   "cell_type": "code",
   "execution_count": null,
   "metadata": {},
   "outputs": [],
   "source": [
    "xTikhL = outTikhL[0]\n",
    "print(la.norm(A@xTikhL - b.reshape((-1,1))) - 1.01*delta_new)"
   ]
  },
  {
   "cell_type": "code",
   "execution_count": null,
   "metadata": {},
   "outputs": [],
   "source": [
    "plt.plot(x_true)\n",
    "# plt.plot(outTikhL[0])\n",
    "plt.plot(outTikhI[0])"
   ]
  },
  {
   "cell_type": "code",
   "execution_count": null,
   "metadata": {},
   "outputs": [],
   "source": [
    "tikh_sol = lambda reg_param: np.linalg.lstsq(np.vstack((A, np.sqrt(reg_param)*L)), np.vstack((b.reshape((-1,1)), np.zeros((n,1)))))[0]\n",
    "discr_func_zero = lambda reg_param: np.absolute(np.linalg.norm(np.matmul(A,np.linalg.lstsq(np.vstack((A, np.sqrt(reg_param)*L)), np.vstack((b.reshape((-1,1)), np.zeros((n,1)))))[0]) - b) - (1.01*delta_new))\n",
    "discr_func_var = lambda reg_param: np.linalg.norm(np.matmul(A,tikh_sol(reg_param)) - b.reshape((-1,1))) - (1.01*delta_new)\n",
    "# alpha = op.fminbound(func = discr_func_zero, x1 = 0, x2 = 1e2, args=(), xtol=1e-12, maxfun=1000, full_output=0, disp=1)\n",
    "# print(discr_func_var(0))\n",
    "# print(discr_func_var(1e2))\n",
    "# alphavar = op.root_scalar(discr_func_var, bracket = [0, 1e2])"
   ]
  },
  {
   "cell_type": "code",
   "execution_count": null,
   "metadata": {},
   "outputs": [],
   "source": [
    "import scipy.io\n",
    "mat = scipy.io.loadmat('deblur1D.mat')\n",
    "A = mat['A']\n",
    "x_true = D1D.gen_xtrue(N, test = 'piecewise')\n",
    "btrue = A@x_true\n",
    "(b, delta) = D1D.add_noise(btrue, 'Gaussian', 0.05)\n",
    "print(A.shape)"
   ]
  },
  {
   "cell_type": "code",
   "execution_count": null,
   "metadata": {},
   "outputs": [],
   "source": [
    "L = np.eye(n)\n",
    "breg = np.vstack((b.reshape((-1,1)), np.zeros((n,1))))"
   ]
  },
  {
   "cell_type": "code",
   "execution_count": null,
   "metadata": {},
   "outputs": [],
   "source": [
    "lambda1 = 1e-8\n",
    "Areg1 = np.vstack((A, np.sqrt(lambda1)*L))\n",
    "x1 = np.linalg.lstsq(Areg1, breg)[0]\n",
    "print(la.norm(A@x1 - b.reshape((-1,1))) - 1.01*delta_new)\n",
    "print(discr_func_var(lambda1))"
   ]
  },
  {
   "cell_type": "code",
   "execution_count": null,
   "metadata": {},
   "outputs": [],
   "source": [
    "lambda2 = 1e-2\n",
    "Areg2 = np.vstack((A, np.sqrt(lambda2)*L))\n",
    "x2 = np.linalg.lstsq(Areg2, breg)[0]\n",
    "# print(x2.shape)\n",
    "# print((A@x2).shape)\n",
    "# print(b.reshape((-1,1)).shape)\n",
    "# print((A@x2 - b.reshape((-1,1))).shape)\n",
    "print(la.norm(A@x2 - b.reshape((-1,1)))- 1.01*delta_new)\n",
    "print(discr_func_var(lambda2))"
   ]
  },
  {
   "cell_type": "code",
   "execution_count": null,
   "metadata": {},
   "outputs": [],
   "source": [
    "lambda3 = 1e2\n",
    "Areg3 = np.vstack((A, np.sqrt(lambda3)*L))\n",
    "x3 = np.linalg.lstsq(Areg3, breg)[0]\n",
    "print(la.norm(A@x3 - b.reshape((-1,1))) -  1.01*delta_new)\n",
    "print(discr_func_var(lambda3))"
   ]
  },
  {
   "cell_type": "code",
   "execution_count": null,
   "metadata": {},
   "outputs": [],
   "source": [
    "x1 = np.linalg.lstsq(Areg, breg)[0]"
   ]
  },
  {
   "cell_type": "code",
   "execution_count": null,
   "metadata": {},
   "outputs": [],
   "source": [
    "x2 = np.linalg.lstsq(Areg, breg)[0]"
   ]
  },
  {
   "cell_type": "code",
   "execution_count": null,
   "metadata": {},
   "outputs": [],
   "source": [
    "x3 = np.linalg.lstsq(Areg, breg)[0]"
   ]
  },
  {
   "cell_type": "code",
   "execution_count": null,
   "metadata": {},
   "outputs": [],
   "source": [
    "plt.plot(x1)\n",
    "plt.plot(x2)\n",
    "plt.plot(x3)"
   ]
  },
  {
   "cell_type": "code",
   "execution_count": null,
   "metadata": {},
   "outputs": [],
   "source": [
    "d1 = discr_func_var(1e-8)\n",
    "d2 = discr_func_var(1e-2)\n",
    "d3 = discr_func_var(1e2)\n",
    "print(d1)\n",
    "print(d2)\n",
    "print(d3)\n",
    "d1var = la.norm(A@x1 - b) - (1.01*delta_new)\n",
    "print(d1var)\n",
    "d2var = la.norm(A@x2 - b) - (1.01*delta_new)\n",
    "print(d2var)\n",
    "d3var = la.norm(A@x3 - b) - (1.01*delta_new)\n",
    "print(d3var)"
   ]
  },
  {
   "cell_type": "code",
   "execution_count": null,
   "metadata": {},
   "outputs": [],
   "source": [
    "xx  = np.logspace(-5,2,200)\n",
    "yy  = [discr_func_var(val) for val in xx]\n",
    "# plt.semilogx(xx, yy)\n",
    "plt.plot(xx, yy)"
   ]
  },
  {
   "cell_type": "code",
   "execution_count": null,
   "metadata": {},
   "outputs": [],
   "source": [
    "print(alpha)"
   ]
  },
  {
   "cell_type": "code",
   "execution_count": 2,
   "metadata": {},
   "outputs": [
    {
     "data": {
      "text/plain": [
       "array([[0.30598006, 0.02330494, 0.26712049, 0.75797201],\n",
       "       [0.12203232, 0.98633702, 0.64415331, 0.81496524],\n",
       "       [0.50697451, 0.95224474, 0.25975989, 0.21776423],\n",
       "       [0.36372135, 0.20687843, 0.56433954, 0.33748652],\n",
       "       [1.        , 0.        , 0.        , 0.        ],\n",
       "       [0.        , 1.        , 0.        , 0.        ],\n",
       "       [0.        , 0.        , 1.        , 0.        ],\n",
       "       [0.        , 0.        , 0.        , 1.        ]])"
      ]
     },
     "execution_count": 2,
     "metadata": {},
     "output_type": "execute_result"
    }
   ],
   "source": [
    "import numpy as np\n",
    "R_A = np.random.rand(4,4)\n",
    "np.vstack( [R_A]+ [np.eye(4)] )"
   ]
  },
  {
   "cell_type": "code",
   "execution_count": null,
   "metadata": {},
   "outputs": [],
   "source": []
  }
 ],
 "metadata": {
  "kernelspec": {
   "display_name": "trip",
   "language": "python",
   "name": "python3"
  },
  "language_info": {
   "codemirror_mode": {
    "name": "ipython",
    "version": 3
   },
   "file_extension": ".py",
   "mimetype": "text/x-python",
   "name": "python",
   "nbconvert_exporter": "python",
   "pygments_lexer": "ipython3",
   "version": "3.8.8"
  }
 },
 "nbformat": 4,
 "nbformat_minor": 2
}
