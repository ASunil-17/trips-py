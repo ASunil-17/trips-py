{
 "cells": [
  {
   "cell_type": "code",
   "execution_count": 1,
   "metadata": {},
   "outputs": [],
   "source": [
    "from trips.testProblems import *\n",
    "from trips.solvers.Hybrid_LSQR_new import *\n",
    "from trips.decompositions import golub_kahan_update"
   ]
  },
  {
   "cell_type": "code",
   "execution_count": 2,
   "metadata": {},
   "outputs": [
    {
     "data": {
      "image/png": "[encoded data removed]",
      "text/plain": [
       "<Figure size 432x288 with 1 Axes>"
      ]
     },
     "metadata": {
      "needs_background": "light"
     },
     "output_type": "display_data"
    },
    {
     "data": {
      "text/plain": [
       "<Figure size 432x288 with 0 Axes>"
      ]
     },
     "metadata": {},
     "output_type": "display_data"
    }
   ],
   "source": [
    "D1D = Deblurring1D()\n",
    "N = 128\n",
    "A = D1D.forward_Op_matrix_1D(3, N)\n",
    "x_true = D1D.gen_xtrue(N, test = 'piecewise')\n",
    "b = A@x_true\n",
    "(b, delta) = D1D.add_noise(b, 'Gaussian', 0.01)\n",
    "plt.plot(x_true)\n",
    "D1D.plot_data(b)"
   ]
  },
  {
   "cell_type": "code",
   "execution_count": 3,
   "metadata": {},
   "outputs": [
    {
     "name": "stdout",
     "output_type": "stream",
     "text": [
      "(128, 1)\n"
     ]
    }
   ],
   "source": [
    "b = np.reshape(b, (b.size,1))\n",
    "n = A.shape[1]\n",
    "n_iter = 4\n",
    "regparam = 'gcv'\n",
    "beta = np.linalg.norm(b)\n",
    "U = b/beta\n",
    "B = np.empty(1)\n",
    "V = np.empty((n,1))\n",
    "RegParam = np.zeros(n_iter,)\n",
    "print(U.shape)\n",
    "S = B"
   ]
  },
  {
   "cell_type": "code",
   "execution_count": 4,
   "metadata": {},
   "outputs": [
    {
     "name": "stdout",
     "output_type": "stream",
     "text": [
      "1\n"
     ]
    }
   ],
   "source": [
    "k = S.shape[0]\n",
    "print(k)\n",
    "utemp = U[:,-1]\n",
    "if k == 1:\n",
    "    v = A.T@utemp\n",
    "else:\n",
    "    v = A.T@utemp - S[k-1,k-2]*V[:,k-2]\n",
    "alpha = np.linalg.norm(v)   \n",
    "v = v/alpha\n",
    "u = A@v - alpha*utemp\n",
    "beta = np.linalg.norm(u)\n",
    "u = u/beta\n",
    "#U = np.hstack((U,np.reshape(u, (u.size,1))))\n",
    "U = np.hstack((U,u.reshape((-1,1))))\n",
    "#v = np.reshape(v, (v.size,1))\n",
    "v = v.reshape((-1,1))\n",
    "if k == 1:        \n",
    "    V = v\n",
    "else:\n",
    "    V = np.hstack((V,v))\n",
    "temp1 = np.zeros(k,); temp1[-1] = alpha\n",
    "temp2 = np.zeros(k,); temp2[-1] = beta\n",
    "if k == 1:\n",
    "    S = np.array([temp1,temp2])\n",
    "else:\n",
    "    #S = np.hstack((S, np.reshape(temp1, (temp1.size,1))))\n",
    "    S = np.hstack((S, temp1.reshape((-1,1))))\n",
    "    #S = np.vstack((S, np.reshape(temp2, (1,temp2.size))))\n",
    "    S = np.vstack((S, temp2.reshape((1,-1))))"
   ]
  },
  {
   "cell_type": "code",
   "execution_count": 5,
   "metadata": {},
   "outputs": [],
   "source": [
    "S = np.vstack((S, temp2.reshape((1,-1))))"
   ]
  },
  {
   "cell_type": "code",
   "execution_count": 6,
   "metadata": {},
   "outputs": [
    {
     "name": "stdout",
     "output_type": "stream",
     "text": [
      "[0.]\n"
     ]
    }
   ],
   "source": [
    "bhat = np.zeros(1,)\n",
    "print(bhat)"
   ]
  },
  {
   "cell_type": "code",
   "execution_count": 7,
   "metadata": {},
   "outputs": [
    {
     "name": "stdout",
     "output_type": "stream",
     "text": [
      "0\n",
      "(2, 1)\n",
      "1\n",
      "(3, 2)\n",
      "0.49999998795787354\n",
      "2\n",
      "(4, 3)\n",
      "0.4999999883174703\n",
      "3\n",
      "(5, 4)\n",
      "0.49999998904631504\n",
      "4\n",
      "(6, 5)\n",
      "0.49999998943234775\n",
      "5\n",
      "(7, 6)\n",
      "0.4999999910152561\n",
      "6\n",
      "(8, 7)\n",
      "0.49999999245681254\n",
      "7\n",
      "(9, 8)\n",
      "0.499999986095584\n",
      "8\n",
      "(10, 9)\n",
      "0.49999998710808924\n",
      "9\n",
      "(11, 10)\n",
      "0.49999998633066467\n"
     ]
    }
   ],
   "source": [
    "outp = hybrid_lsqr_new(A, b.reshape((-1,1)), 10, regparam = 'gcv')"
   ]
  },
  {
   "cell_type": "code",
   "execution_count": 8,
   "metadata": {},
   "outputs": [
    {
     "data": {
      "text/plain": [
       "(array([ 7.42642387e-06, -1.95717569e-03, -5.00221826e-03, -8.62643493e-03,\n",
       "        -1.14946095e-02, -1.12797333e-02, -4.75188468e-03,  1.18032721e-02,\n",
       "         4.18328667e-02,  8.75288976e-02,  1.48815945e-01,  2.22611585e-01,\n",
       "         3.02669467e-01,  3.80206498e-01,  4.45298594e-01,  4.88770859e-01,\n",
       "         5.04120647e-01,  4.88954690e-01,  4.45542825e-01,  3.80325109e-01,\n",
       "         3.02505968e-01,  2.22122298e-01,  1.48097405e-01,  8.67696365e-02,\n",
       "         4.12077308e-02,  1.13656813e-02, -5.11070028e-03, -1.17711151e-02,\n",
       "        -1.23042029e-02, -9.79613844e-03, -6.39348966e-03, -3.31036195e-03,\n",
       "        -1.03428037e-03,  4.03903567e-04,  1.18973571e-03,  1.55410551e-03,\n",
       "         1.68015666e-03,  1.67799104e-03,  1.60224038e-03,  1.48234581e-03,\n",
       "         1.34151574e-03,  1.19589699e-03,  1.04441421e-03,  8.58446161e-04,\n",
       "         5.81460644e-04,  1.40633826e-04, -5.27162218e-04, -1.42683973e-03,\n",
       "        -2.44043638e-03, -3.25885539e-03, -3.33671917e-03, -1.90569199e-03,\n",
       "         1.93034217e-03,  9.01581850e-03,  1.99210306e-02,  3.47383823e-02,\n",
       "         5.29727896e-02,  7.35668662e-02,  9.50600367e-02,  1.15827174e-01,\n",
       "         1.34326001e-01,  1.49277888e-01,  1.59745271e-01,  1.65122346e-01,\n",
       "         1.65090399e-01,  1.59601486e-01,  1.48913580e-01,  1.33649996e-01,\n",
       "         1.14836049e-01,  9.38594738e-02,  7.23364437e-02,  5.18974937e-02,\n",
       "         3.39461099e-02,  1.94526215e-02,  8.84086076e-03,  1.99281289e-03,\n",
       "        -1.64013715e-03, -2.86119560e-03, -2.54191894e-03, -1.48059359e-03,\n",
       "        -3.31148699e-04,  3.96626917e-04,  3.06883121e-04, -8.90861251e-04,\n",
       "        -3.31440763e-03, -6.76545266e-03, -1.05179690e-02, -1.31020206e-02,\n",
       "        -1.21702015e-02, -4.57164610e-03,  1.32433858e-02,  4.44439706e-02,\n",
       "         9.07628662e-02,  1.51432278e-01,  2.22490169e-01,  2.96810527e-01,\n",
       "         3.65041023e-01,  4.17343836e-01,  4.45536186e-01,  4.45026287e-01,\n",
       "         4.15941925e-01,  3.63091292e-01,  2.94765884e-01,  2.20777931e-01,\n",
       "         1.50342306e-01,  9.03903171e-02,  4.47000697e-02,  1.39148346e-02,\n",
       "        -3.74162535e-03, -1.14110034e-02, -1.25603263e-02, -1.02251991e-02,\n",
       "        -6.62690837e-03, -3.12599407e-03, -3.83754178e-04,  1.40285810e-03,\n",
       "         2.29283376e-03,  2.46090334e-03,  2.12236656e-03,  1.49957512e-03,\n",
       "         8.01472348e-04,  2.02383192e-04, -1.82524308e-04, -3.13879450e-04,\n",
       "        -2.28754219e-04, -1.73139368e-05,  2.12378941e-04,  3.75405724e-04]),\n",
       " array([[ 8.94287860e-04,  9.94924103e-03,  1.04547812e-01, ...,\n",
       "          1.68972904e-01, -9.62828798e-02,  7.59841121e-02],\n",
       "        [-1.68044826e-04,  2.18356276e-02,  1.28505037e-01, ...,\n",
       "          1.23600024e-01, -2.17282868e-02,  1.31015863e-02],\n",
       "        [ 7.50316010e-04,  3.15044706e-02,  1.60883650e-01, ...,\n",
       "          1.13183833e-01,  1.64409872e-02, -1.09907888e-02],\n",
       "        ...,\n",
       "        [ 2.11749965e-04, -3.22206664e-04,  2.47364940e-03, ...,\n",
       "          1.72700308e-01, -1.10535671e-01, -4.67271873e-02],\n",
       "        [ 1.01087822e-03, -3.02833140e-03,  6.55529277e-03, ...,\n",
       "          2.03332035e-01, -1.52532635e-01, -2.22394617e-02],\n",
       "        [ 2.50359073e-04, -6.03744848e-04,  1.78834013e-03, ...,\n",
       "          1.71731430e-01, -1.30295270e-01, -3.67470708e-02]]),\n",
       " array([[0.87866268, 0.        , 0.        , 0.        , 0.        ,\n",
       "         0.        , 0.        , 0.        , 0.        , 0.        ],\n",
       "        [0.26804982, 0.66303446, 0.        , 0.        , 0.        ,\n",
       "         0.        , 0.        , 0.        , 0.        , 0.        ],\n",
       "        [0.        , 0.37491171, 0.59729628, 0.        , 0.        ,\n",
       "         0.        , 0.        , 0.        , 0.        , 0.        ],\n",
       "        [0.        , 0.        , 0.4067571 , 0.60861735, 0.        ,\n",
       "         0.        , 0.        , 0.        , 0.        , 0.        ],\n",
       "        [0.        , 0.        , 0.        , 0.44003559, 0.48707987,\n",
       "         0.        , 0.        , 0.        , 0.        , 0.        ],\n",
       "        [0.        , 0.        , 0.        , 0.        , 0.44770036,\n",
       "         0.58154881, 0.        , 0.        , 0.        , 0.        ],\n",
       "        [0.        , 0.        , 0.        , 0.        , 0.        ,\n",
       "         0.4790503 , 0.54918987, 0.        , 0.        , 0.        ],\n",
       "        [0.        , 0.        , 0.        , 0.        , 0.        ,\n",
       "         0.        , 0.42305313, 0.51601588, 0.        , 0.        ],\n",
       "        [0.        , 0.        , 0.        , 0.        , 0.        ,\n",
       "         0.        , 0.        , 0.40170454, 0.57579404, 0.        ],\n",
       "        [0.        , 0.        , 0.        , 0.        , 0.        ,\n",
       "         0.        , 0.        , 0.        , 0.54879952, 0.39470309],\n",
       "        [0.        , 0.        , 0.        , 0.        , 0.        ,\n",
       "         0.        , 0.        , 0.        , 0.        , 0.42861124]]),\n",
       " array([[ 9.83130054e-04,  3.60204747e-02,  1.11212460e-01, ...,\n",
       "          1.03146869e-01,  3.72942288e-02, -3.31050835e-02],\n",
       "        [ 1.74639864e-03,  5.33721059e-02,  1.31025207e-01, ...,\n",
       "          9.62579874e-02,  5.53782614e-02, -2.44040496e-02],\n",
       "        [ 3.11959984e-03,  7.51919512e-02,  1.39916524e-01, ...,\n",
       "          7.12890231e-02,  7.79788545e-02, -1.16439419e-02],\n",
       "        ...,\n",
       "        [ 7.40332780e-05,  3.97237286e-04,  5.83856899e-03, ...,\n",
       "          1.48554430e-01,  4.75122004e-02, -1.43637827e-01],\n",
       "        [ 9.87619467e-05,  7.23492135e-05,  4.19810093e-03, ...,\n",
       "          1.43184060e-01,  5.23349504e-02, -1.78455700e-01],\n",
       "        [ 1.14867841e-04, -1.64802441e-04,  3.14559300e-03, ...,\n",
       "          1.23650033e-01,  5.23132161e-02, -1.85281541e-01]]),\n",
       " array([0.        , 0.49999999, 0.49999999, 0.49999999, 0.49999999,\n",
       "        0.49999999, 0.49999999, 0.49999999, 0.49999999, 0.49999999]))"
      ]
     },
     "execution_count": 8,
     "metadata": {},
     "output_type": "execute_result"
    }
   ],
   "source": [
    "outp"
   ]
  },
  {
   "cell_type": "code",
   "execution_count": 9,
   "metadata": {},
   "outputs": [
    {
     "data": {
      "image/png": "[encoded data removed]",
      "text/plain": [
       "<Figure size 432x288 with 1 Axes>"
      ]
     },
     "metadata": {
      "needs_background": "light"
     },
     "output_type": "display_data"
    },
    {
     "data": {
      "text/plain": [
       "<Figure size 432x288 with 0 Axes>"
      ]
     },
     "metadata": {},
     "output_type": "display_data"
    }
   ],
   "source": [
    "plt.plot(x_true)\n",
    "D1D.plot_data(outp[0])"
   ]
  },
  {
   "cell_type": "code",
   "execution_count": 10,
   "metadata": {},
   "outputs": [
    {
     "name": "stdout",
     "output_type": "stream",
     "text": [
      "[0.         0.49999999 0.49999999 0.49999999 0.49999999 0.49999999\n",
      " 0.49999999 0.49999999 0.49999999 0.49999999]\n"
     ]
    }
   ],
   "source": [
    "print(outp[4])"
   ]
  },
  {
   "cell_type": "code",
   "execution_count": 11,
   "metadata": {},
   "outputs": [
    {
     "name": "stdout",
     "output_type": "stream",
     "text": [
      "range(0, 4)\n"
     ]
    }
   ],
   "source": [
    "print(range(4))"
   ]
  },
  {
   "cell_type": "code",
   "execution_count": 12,
   "metadata": {},
   "outputs": [],
   "source": [
    "n = N\n",
    "b = np.reshape(b, (n, 1))\n",
    "beta = np.linalg.norm(b)\n",
    "U = b/beta\n",
    "S = np.empty(1)\n",
    "V = np.empty((n,1))"
   ]
  },
  {
   "cell_type": "code",
   "execution_count": 13,
   "metadata": {},
   "outputs": [],
   "source": [
    "outp = golub_kahan_update(A, U, S, V)\n",
    "U = outp[0]; S = outp[1]; V = outp[2]"
   ]
  },
  {
   "cell_type": "code",
   "execution_count": 14,
   "metadata": {},
   "outputs": [
    {
     "name": "stdout",
     "output_type": "stream",
     "text": [
      "1.6308285889337066e-17\n",
      "[[0.87866268]\n",
      " [0.26804982]]\n"
     ]
    }
   ],
   "source": [
    "print(np.linalg.norm(A@V - U@S))\n",
    "print(S)"
   ]
  },
  {
   "cell_type": "code",
   "execution_count": null,
   "metadata": {},
   "outputs": [],
   "source": [
    "print(S.shape)\n",
    "print(V.shape)"
   ]
  },
  {
   "cell_type": "code",
   "execution_count": null,
   "metadata": {},
   "outputs": [],
   "source": [
    "B = S\n",
    "bhat = np.zeros(2+1,); bhat[0] = beta\n",
    "print(bhat)\n",
    "L = Identity(B.shape[1], B.shape[1])\n",
    "print(is_identity(L))"
   ]
  },
  {
   "cell_type": "code",
   "execution_count": null,
   "metadata": {},
   "outputs": [],
   "source": [
    "lambdah = generalized_crossvalidation(B, bhat, L)"
   ]
  },
  {
   "cell_type": "code",
   "execution_count": null,
   "metadata": {},
   "outputs": [],
   "source": [
    "Q_A, R_A, _ = operator_svd(B)\n",
    "\n",
    "Q_L = Identity(L.shape[0])\n",
    "R_L = Identity(L.shape[0])\n",
    "\n",
    "R_A = np.diag(R_A)\n",
    "print(R_A)\n",
    "print(R_L)"
   ]
  },
  {
   "cell_type": "code",
   "execution_count": null,
   "metadata": {},
   "outputs": [],
   "source": [
    "gcv_func = lambda reg_param: gcv_numerator(reg_param, Q_A, R_A, Q_L, R_L, bhat) / gcv_denominator(reg_param, Q_A, R_A, Q_L, R_L, bhat)"
   ]
  },
  {
   "cell_type": "code",
   "execution_count": null,
   "metadata": {},
   "outputs": [],
   "source": [
    "lambdah = op.fminbound(func = gcv_func, x1 = 1e-05, x2 = 30, args=(), xtol=1e-12, maxfun=1000, full_output=0, disp=1)"
   ]
  },
  {
   "cell_type": "code",
   "execution_count": null,
   "metadata": {},
   "outputs": [],
   "source": [
    "print(lambdah)"
   ]
  },
  {
   "cell_type": "code",
   "execution_count": null,
   "metadata": {},
   "outputs": [],
   "source": [
    "outp = golub_kahan_SG(A, U, S, V)"
   ]
  },
  {
   "cell_type": "code",
   "execution_count": null,
   "metadata": {},
   "outputs": [],
   "source": [
    "k = S.shape[0]\n",
    "# print(k)\n",
    "# print(U.shape)\n",
    "utemp = U[:,-1]\n",
    "if k == 1:\n",
    "    # utemp = U\n",
    "    v = A.T@utemp\n",
    "else:\n",
    "    # utemp = U[:,-1]\n",
    "    v = A.T@utemp - S[k-1,k-2]*V[:,k-2]\n",
    "# print(utemp.shape)\n",
    "alpha = np.linalg.norm(v)\n",
    "v = v/alpha\n",
    "u = A@v - alpha*utemp\n",
    "# print(u.shape)\n",
    "beta = np.linalg.norm(u)\n",
    "u = u/beta\n",
    "# u = np.reshape(u, (n,1))\n",
    "# print(u.shape)\n",
    "U = np.hstack((U,np.reshape(u, (u.size,1)))) #to be made more general!\n",
    "# print(U.size)\n",
    "v = np.reshape(v, (v.size,1))\n",
    "if k == 1:        \n",
    "    V = v\n",
    "else:\n",
    "    V = np.hstack((V,v))\n",
    "temp1 = np.zeros(k,); temp1[-1] = alpha\n",
    "temp2 = np.zeros(k,); temp2[-1] = beta; #temp2 = temp2.T\n",
    "if k == 1:\n",
    "    S = np.array([temp1,temp2])\n",
    "else:\n",
    "    S = np.hstack((S, np.reshape(temp1, (temp1.size,1))))\n",
    "    S = np.vstack((S, np.reshape(temp2, (1,temp2.size))))"
   ]
  },
  {
   "cell_type": "code",
   "execution_count": null,
   "metadata": {},
   "outputs": [],
   "source": [
    "print(U.shape)\n",
    "print(S.shape)\n",
    "print(V.shape)\n",
    "print(S)"
   ]
  },
  {
   "cell_type": "code",
   "execution_count": null,
   "metadata": {},
   "outputs": [],
   "source": [
    "print(np.linalg.norm(A@V - U@S))"
   ]
  },
  {
   "cell_type": "code",
   "execution_count": null,
   "metadata": {},
   "outputs": [],
   "source": [
    "print(S)\n",
    "print(temp1)\n",
    "print(temp2)\n",
    "print(temp1.shape)\n",
    "print(temp2.shape)"
   ]
  },
  {
   "cell_type": "code",
   "execution_count": null,
   "metadata": {},
   "outputs": [],
   "source": [
    "Stemp = np.hstack((S,np.reshape(temp1, (temp1.size,1))))\n",
    "print(Stemp)"
   ]
  },
  {
   "cell_type": "code",
   "execution_count": null,
   "metadata": {},
   "outputs": [],
   "source": [
    "Stemp1 = np.vstack((Stemp,np.reshape(temp2, (1,temp2.size))))"
   ]
  },
  {
   "cell_type": "code",
   "execution_count": null,
   "metadata": {},
   "outputs": [],
   "source": [
    "print(Stemp1)"
   ]
  },
  {
   "cell_type": "code",
   "execution_count": null,
   "metadata": {},
   "outputs": [],
   "source": [
    "print(temp2.shape)"
   ]
  },
  {
   "cell_type": "code",
   "execution_count": null,
   "metadata": {},
   "outputs": [],
   "source": [
    "print(S.shape)\n",
    "print(temp1.shape)\n",
    "S = np.hstack((S,np.reshape(temp1, (temp1.size,1))))\n",
    "print(S)"
   ]
  },
  {
   "cell_type": "code",
   "execution_count": null,
   "metadata": {},
   "outputs": [],
   "source": [
    "U = outp[0]; S = outp[1]; V = outp[2]\n",
    "print(A@V - U@S)\n",
    "#print((A@V).shape)"
   ]
  },
  {
   "cell_type": "code",
   "execution_count": null,
   "metadata": {},
   "outputs": [],
   "source": [
    "b = A@x_true\n",
    "print(b.shape)\n",
    "#print(b.size)\n",
    "b = np.reshape(b, (n, 1))\n",
    "print(b.shape)\n",
    "#print(b.size)"
   ]
  },
  {
   "cell_type": "code",
   "execution_count": null,
   "metadata": {},
   "outputs": [],
   "source": [
    "u = A@v - alpha*utemp\n",
    "print(u.size)"
   ]
  },
  {
   "cell_type": "code",
   "execution_count": null,
   "metadata": {},
   "outputs": [],
   "source": [
    "print(U.size)\n",
    "print(S.size)\n",
    "print(V.size)"
   ]
  },
  {
   "cell_type": "code",
   "execution_count": null,
   "metadata": {},
   "outputs": [],
   "source": [
    "U = b/beta\n",
    "S = np.empty(1)\n",
    "V = np.empty((n,1))\n",
    "k = S.shape[0]\n",
    "if k == 1:\n",
    "    utemp = U\n",
    "    v = A.T@utemp\n",
    "else:\n",
    "    utemp = U[:,-1]\n",
    "    v = A.T@utemp - S[k-1,k-2]*V[:,k-2]\n",
    "alpha = np.linalg.norm(v)\n",
    "v = v/alpha"
   ]
  },
  {
   "cell_type": "code",
   "execution_count": null,
   "metadata": {},
   "outputs": [],
   "source": [
    "print(k)"
   ]
  },
  {
   "cell_type": "code",
   "execution_count": null,
   "metadata": {},
   "outputs": [],
   "source": [
    "print(utemp.shape)"
   ]
  },
  {
   "cell_type": "code",
   "execution_count": null,
   "metadata": {},
   "outputs": [],
   "source": [
    "u = A@v - alpha*utemp\n",
    "print(u.shape)"
   ]
  },
  {
   "cell_type": "code",
   "execution_count": null,
   "metadata": {},
   "outputs": [],
   "source": [
    "U = np.hstack((U,u))\n",
    "print(U.shape)"
   ]
  },
  {
   "cell_type": "code",
   "execution_count": null,
   "metadata": {},
   "outputs": [],
   "source": [
    "k = S.shape[0]\n",
    "if k == 1:\n",
    "    v = A.T@U\n",
    "else:\n",
    "    v = A.T@U[:,-1] - S[k-1,k-2]*V[:,k-2]\n",
    "print(v.shape)"
   ]
  },
  {
   "cell_type": "code",
   "execution_count": null,
   "metadata": {},
   "outputs": [],
   "source": [
    "alpha = np.linalg.norm(v)\n",
    "v = v/alpha"
   ]
  },
  {
   "cell_type": "code",
   "execution_count": null,
   "metadata": {},
   "outputs": [],
   "source": [
    "u = A@v - alpha*U[:,-1]"
   ]
  },
  {
   "cell_type": "code",
   "execution_count": null,
   "metadata": {},
   "outputs": [],
   "source": [
    "print((A@v).shape)\n",
    "print(alpha)\n",
    "print((U[:,-1]).shape)\n",
    "print(U.shape)"
   ]
  },
  {
   "cell_type": "code",
   "execution_count": null,
   "metadata": {},
   "outputs": [],
   "source": [
    "u = A@v - alpha*U\n",
    "print(u.shape)"
   ]
  },
  {
   "cell_type": "code",
   "execution_count": null,
   "metadata": {},
   "outputs": [],
   "source": [
    "U = b/beta\n",
    "U = np.hstack((U,u))\n",
    "print(U.shape)"
   ]
  },
  {
   "cell_type": "code",
   "execution_count": null,
   "metadata": {},
   "outputs": [],
   "source": [
    "outp = golub_kahan_SG(A, U, S, V)\n",
    "U = outp[0]; S = outp[1]; V = outp[2]"
   ]
  },
  {
   "cell_type": "code",
   "execution_count": null,
   "metadata": {},
   "outputs": [],
   "source": [
    "U = outp[0]; S = outp[1]; V = outp[2]"
   ]
  },
  {
   "cell_type": "code",
   "execution_count": null,
   "metadata": {},
   "outputs": [],
   "source": [
    "print(U.size)\n",
    "print(S.size)\n",
    "print(V.size)"
   ]
  },
  {
   "cell_type": "code",
   "execution_count": null,
   "metadata": {},
   "outputs": [],
   "source": [
    "k = S.shape[0]\n",
    "if k == 1:\n",
    "    v = A.T@U\n",
    "else:\n",
    "    v = A.T@U[:,-1] - S[k-1,k-2]*V[:,k-2]"
   ]
  },
  {
   "cell_type": "code",
   "execution_count": null,
   "metadata": {},
   "outputs": [],
   "source": [
    "print(v)"
   ]
  },
  {
   "cell_type": "code",
   "execution_count": null,
   "metadata": {},
   "outputs": [],
   "source": [
    "alpha = np.linalg.norm(v)\n",
    "v = v/alpha\n",
    "u = A@v - alpha*U\n",
    "beta = np.linalg.norm(u)\n",
    "u = u/beta"
   ]
  },
  {
   "cell_type": "code",
   "execution_count": null,
   "metadata": {},
   "outputs": [],
   "source": [
    "U = np.hstack((U,u))\n",
    "if k == 1:        \n",
    "    V = v\n",
    "else:\n",
    "    V = np.hstack((V,v))"
   ]
  },
  {
   "cell_type": "code",
   "execution_count": null,
   "metadata": {},
   "outputs": [],
   "source": [
    "temp1 = np.zeros(k,); temp1[-1] = alpha\n",
    "temp2 = np.zeros(k,); temp2[-1] = beta; temp2 = temp2.T\n",
    "if k == 1:\n",
    "    S = np.array([temp1,temp2])\n",
    "else:\n",
    "    S = np.hstack((S,temp1))\n",
    "    S = np.vstack((S,temp2))"
   ]
  },
  {
   "cell_type": "code",
   "execution_count": null,
   "metadata": {},
   "outputs": [],
   "source": [
    "print(A@V - U@S)"
   ]
  },
  {
   "cell_type": "code",
   "execution_count": null,
   "metadata": {},
   "outputs": [],
   "source": [
    "k = S.shape[0]\n",
    "print(k)"
   ]
  },
  {
   "cell_type": "code",
   "execution_count": null,
   "metadata": {},
   "outputs": [],
   "source": [
    "if k == 1:\n",
    "    v = A.T@U\n",
    "else:\n",
    "    v = A.T@U[:,-1] - S[k-1,k-2]*V[:,k-2]"
   ]
  },
  {
   "cell_type": "code",
   "execution_count": null,
   "metadata": {},
   "outputs": [],
   "source": [
    "print(S[k-1,k-2])"
   ]
  },
  {
   "cell_type": "code",
   "execution_count": null,
   "metadata": {},
   "outputs": [],
   "source": [
    "alpha = np.linalg.norm(v)\n",
    "v = v/alpha\n",
    "u = A@v - alpha*U[:,-1]\n",
    "beta = np.linalg.norm(u)\n",
    "u = u/beta"
   ]
  },
  {
   "cell_type": "code",
   "execution_count": null,
   "metadata": {},
   "outputs": [],
   "source": [
    "print(U.size)\n",
    "print(u.size)\n",
    "#U = np.hstack((U,u))"
   ]
  },
  {
   "cell_type": "code",
   "execution_count": null,
   "metadata": {},
   "outputs": [],
   "source": [
    "out = hybrid_lsqr_new(Amat, b_true, 10, 0)"
   ]
  },
  {
   "cell_type": "code",
   "execution_count": 1,
   "metadata": {},
   "outputs": [],
   "source": [
    "def check_noise_type(noise_type):\n",
    "    if noise_type in ['g', 'p', 'l', 'gaussian', 'Gaussian', 'Poisson', 'poisson', 'Laplace', 'laplace']:\n",
    "        valid = True\n",
    "    else:\n",
    "        valid = False\n",
    "    \n",
    "    if not valid:\n",
    "       raise TypeError('You must a valid name for the noise. For Gaussian noise input g or Gaussian or gaussian. For Poisson noise input p or Poisson or poisson. For Laplace noise input l or laplace or laplace.')\n"
   ]
  },
  {
   "cell_type": "code",
   "execution_count": 10,
   "metadata": {},
   "outputs": [],
   "source": [
    "import numpy"
   ]
  },
  {
   "cell_type": "code",
   "execution_count": 16,
   "metadata": {},
   "outputs": [
    {
     "data": {
      "text/plain": [
       "False"
      ]
     },
     "execution_count": 16,
     "metadata": {},
     "output_type": "execute_result"
    }
   ],
   "source": [
    "isinstance(3, float)"
   ]
  },
  {
   "cell_type": "code",
   "execution_count": 5,
   "metadata": {},
   "outputs": [],
   "source": [
    "noise_type = 'gaussan'"
   ]
  },
  {
   "cell_type": "code",
   "execution_count": 6,
   "metadata": {},
   "outputs": [
    {
     "ename": "ValueError",
     "evalue": "invalid literal for int() with base 10: 'p'",
     "output_type": "error",
     "traceback": [
      "\u001b[0;31m---------------------------------------------------------------------------\u001b[0m",
      "\u001b[0;31mValueError\u001b[0m                                Traceback (most recent call last)",
      "\u001b[0;32m<ipython-input-6-02659fb74cc9>\u001b[0m in \u001b[0;36m<module>\u001b[0;34m\u001b[0m\n\u001b[1;32m      1\u001b[0m \u001b[0mRegparam\u001b[0m \u001b[0;34m=\u001b[0m \u001b[0;34m'p'\u001b[0m\u001b[0;34m\u001b[0m\u001b[0;34m\u001b[0m\u001b[0m\n\u001b[0;32m----> 2\u001b[0;31m \u001b[0mcheck_Regparam\u001b[0m\u001b[0;34m(\u001b[0m\u001b[0mRegparam\u001b[0m\u001b[0;34m)\u001b[0m\u001b[0;34m\u001b[0m\u001b[0;34m\u001b[0m\u001b[0m\n\u001b[0m",
      "\u001b[0;32m<ipython-input-5-75da0738621d>\u001b[0m in \u001b[0;36mcheck_Regparam\u001b[0;34m(Regparam)\u001b[0m\n\u001b[1;32m      1\u001b[0m \u001b[0;32mdef\u001b[0m \u001b[0mcheck_Regparam\u001b[0m\u001b[0;34m(\u001b[0m\u001b[0mRegparam\u001b[0m\u001b[0;34m)\u001b[0m\u001b[0;34m:\u001b[0m\u001b[0;34m\u001b[0m\u001b[0;34m\u001b[0m\u001b[0m\n\u001b[0;32m----> 2\u001b[0;31m     \u001b[0;32mif\u001b[0m \u001b[0;34m(\u001b[0m\u001b[0mRegparam\u001b[0m \u001b[0;32min\u001b[0m \u001b[0;34m[\u001b[0m\u001b[0;34m'gcv'\u001b[0m\u001b[0;34m,\u001b[0m \u001b[0;34m'GCV'\u001b[0m\u001b[0;34m,\u001b[0m \u001b[0;34m'Gcv'\u001b[0m\u001b[0;34m,\u001b[0m \u001b[0;34m'DP'\u001b[0m\u001b[0;34m,\u001b[0m \u001b[0;34m'dp'\u001b[0m\u001b[0;34m,\u001b[0m \u001b[0;34m'Dp'\u001b[0m\u001b[0;34m,\u001b[0m \u001b[0;34m'Discrepancy Principle'\u001b[0m\u001b[0;34m,\u001b[0m \u001b[0;34m'Discrepancy principle'\u001b[0m\u001b[0;34m,\u001b[0m \u001b[0;34m'discrepancy principle'\u001b[0m\u001b[0;34m]\u001b[0m \u001b[0;32mor\u001b[0m \u001b[0mint\u001b[0m\u001b[0;34m(\u001b[0m\u001b[0mRegparam\u001b[0m\u001b[0;34m)\u001b[0m \u001b[0;34m>\u001b[0m \u001b[0;36m0\u001b[0m\u001b[0;34m)\u001b[0m\u001b[0;34m:\u001b[0m\u001b[0;34m\u001b[0m\u001b[0;34m\u001b[0m\u001b[0m\n\u001b[0m\u001b[1;32m      3\u001b[0m         \u001b[0mvalid\u001b[0m \u001b[0;34m=\u001b[0m \u001b[0;32mTrue\u001b[0m\u001b[0;34m\u001b[0m\u001b[0;34m\u001b[0m\u001b[0m\n\u001b[1;32m      4\u001b[0m     \u001b[0;32mif\u001b[0m \u001b[0;32mnot\u001b[0m \u001b[0mvalid\u001b[0m\u001b[0;34m:\u001b[0m\u001b[0;34m\u001b[0m\u001b[0;34m\u001b[0m\u001b[0m\n\u001b[1;32m      5\u001b[0m         \u001b[0;32mraise\u001b[0m \u001b[0mTypeError\u001b[0m\u001b[0;34m(\u001b[0m\u001b[0;34m\"You must specify a valid regularization parameter. For Generalized Cross Validation type 'gcv'. For 'Discrepancy Principle type 'dp'. Otherwise, input a positive scalar\"\u001b[0m\u001b[0;34m)\u001b[0m\u001b[0;34m\u001b[0m\u001b[0;34m\u001b[0m\u001b[0m\n",
      "\u001b[0;31mValueError\u001b[0m: invalid literal for int() with base 10: 'p'"
     ]
    }
   ],
   "source": [
    "Regparam = 'p'\n",
    "check_Regparam(Regparam)"
   ]
  },
  {
   "cell_type": "code",
   "execution_count": 56,
   "metadata": {},
   "outputs": [
    {
     "ename": "ValueError",
     "evalue": "invalid literal for int() with base 10: 'gc'",
     "output_type": "error",
     "traceback": [
      "\u001b[0;31m---------------------------------------------------------------------------\u001b[0m",
      "\u001b[0;31mValueError\u001b[0m                                Traceback (most recent call last)",
      "\u001b[0;32m<ipython-input-56-055abe4fa597>\u001b[0m in \u001b[0;36m<module>\u001b[0;34m\u001b[0m\n\u001b[1;32m      1\u001b[0m \u001b[0ma\u001b[0m \u001b[0;34m=\u001b[0m \u001b[0mstr\u001b[0m\u001b[0;34m(\u001b[0m\u001b[0;34m'gc'\u001b[0m\u001b[0;34m)\u001b[0m\u001b[0;34m.\u001b[0m\u001b[0misnumeric\u001b[0m\u001b[0;34m(\u001b[0m\u001b[0;34m)\u001b[0m\u001b[0;34m\u001b[0m\u001b[0;34m\u001b[0m\u001b[0m\n\u001b[1;32m      2\u001b[0m \u001b[0ma\u001b[0m\u001b[0;34m\u001b[0m\u001b[0;34m\u001b[0m\u001b[0m\n\u001b[0;32m----> 3\u001b[0;31m \u001b[0mint\u001b[0m\u001b[0;34m(\u001b[0m\u001b[0;34m'gc'\u001b[0m\u001b[0;34m)\u001b[0m \u001b[0;34m>\u001b[0m \u001b[0;36m0\u001b[0m\u001b[0;34m\u001b[0m\u001b[0;34m\u001b[0m\u001b[0m\n\u001b[0m",
      "\u001b[0;31mValueError\u001b[0m: invalid literal for int() with base 10: 'gc'"
     ]
    }
   ],
   "source": [
    "a = str('gc').isnumeric()\n",
    "a\n",
    "int('gc') > 0"
   ]
  },
  {
   "cell_type": "code",
   "execution_count": 74,
   "metadata": {},
   "outputs": [
    {
     "data": {
      "text/plain": [
       "True"
      ]
     },
     "execution_count": 74,
     "metadata": {},
     "output_type": "execute_result"
    }
   ],
   "source": [
    "# check_Regparam(Regparam = -1)\n",
    "isinstance(Regparam, float) or isinstance(Regparam, int)"
   ]
  },
  {
   "cell_type": "code",
   "execution_count": 83,
   "metadata": {},
   "outputs": [
    {
     "data": {
      "text/plain": [
       "False"
      ]
     },
     "execution_count": 83,
     "metadata": {},
     "output_type": "execute_result"
    }
   ],
   "source": [
    "Regparam = 'd'\n",
    "# (isinstance(Regparam, float) or isinstance(Regparam, int))\n",
    "Regparam in ['gcv', 'GCV', 'Gcv', 'DP', 'dp', 'Dp', 'Discrepancy Principle', 'Discrepancy principle', 'discrepancy principle']\n",
    "  "
   ]
  },
  {
   "cell_type": "code",
   "execution_count": 131,
   "metadata": {},
   "outputs": [
    {
     "data": {
      "text/plain": [
       "2.0"
      ]
     },
     "execution_count": 131,
     "metadata": {},
     "output_type": "execute_result"
    }
   ],
   "source": [
    "# noise_level = 'gd'\n",
    "# check_noise_level(noise_level)\n",
    "np.linalg.norm(2)"
   ]
  },
  {
   "cell_type": "code",
   "execution_count": 110,
   "metadata": {},
   "outputs": [],
   "source": [
    "def check_noise_level(noise_level):\n",
    "    valid  = False\n",
    "    if (isinstance(noise_level, float) or isinstance(noise_level, int)):\n",
    "        if int(noise_level) > 0 or int(noise_level) == 0:\n",
    "            valid = True\n",
    "    if not valid:\n",
    "        raise TypeError('You must enter a valid noise level! Choose 0 for 0 %, 1 for 1%, or other valid values acordingly.')"
   ]
  },
  {
   "cell_type": "code",
   "execution_count": 84,
   "metadata": {},
   "outputs": [],
   "source": [
    "def check_Regparam(Regparam = 1):\n",
    "    valid = False\n",
    "    case1 = False\n",
    "    # if str(Regparam).isnumeric():\n",
    "    if (isinstance(Regparam, float) or isinstance(Regparam, int)):\n",
    "        if int(Regparam) > 0:\n",
    "           valid = True\n",
    "        else:\n",
    "            valid = False\n",
    "            case1 = True\n",
    "    elif Regparam in ['gcv', 'GCV', 'Gcv', 'DP', 'dp', 'Dp', 'Discrepancy Principle', 'Discrepancy principle', 'discrepancy principle']:\n",
    "        valid = True\n",
    "        \n",
    "    if not valid and case1 == True:\n",
    "        raise TypeError(\"You must specify a valid regularization parameter. Input a positive number!\")\n",
    "    elif not valid:\n",
    "        raise TypeError(\"You must specify a valid regularization parameter. For Generalized Cross Validation type 'gcv'. For 'Discrepancy Principle type 'dp'.\")"
   ]
  },
  {
   "cell_type": "code",
   "execution_count": 19,
   "metadata": {},
   "outputs": [],
   "source": [
    "\n",
    "def check_Positivescalar(value):\n",
    "    if int(value) > 0:\n",
    "        valid = True\n",
    "    else:\n",
    "        valid = False\n",
    "\n",
    "    if not valid:\n",
    "        raise TypeError('You must enter a positive value.')\n",
    "    return valid"
   ]
  }
 ],
 "metadata": {
  "kernelspec": {
   "display_name": "trip",
   "language": "python",
   "name": "python3"
  },
  "language_info": {
   "codemirror_mode": {
    "name": "ipython",
    "version": 3
   },
   "file_extension": ".py",
   "mimetype": "text/x-python",
   "name": "python",
   "nbconvert_exporter": "python",
   "pygments_lexer": "ipython3",
   "version": "3.8.8"
  },
  "orig_nbformat": 4
 },
 "nbformat": 4,
 "nbformat_minor": 2
}
