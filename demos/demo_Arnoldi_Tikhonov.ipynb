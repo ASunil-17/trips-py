{
 "cells": [
  {
   "cell_type": "code",
   "execution_count": 1,
   "metadata": {},
   "outputs": [],
   "source": [
    "#!/usr/bin/env python\n",
    "\"\"\"\n",
    "Definition of test problems\n",
    "--------------------------------------------------------------------------\n",
    "Created December 10, 2022 for TRIPs-Py library\n",
    "\"\"\"\n",
    "__author__ = \"Mirjeta Pasha and Connor Sanderford\"\n",
    "__copyright__ = \"Copyright 2022, TRIPs-Py library\"\n",
    "__license__ = \"GPL\"\n",
    "__version__ = \"0.1\"\n",
    "__maintainer__ = \"Mirjeta Pasha\"\n",
    "__email__ = \"mirjeta.pasha@tufts.edu; mirjeta.pasha1@gmail.com\"\n",
    "import os,sys\n",
    "sys.path.insert(0,'/Users/mirjetapasha/Documents/Research_Projects/TRIPSpy/TRIPSpy')\n",
    "import numpy as np\n",
    "import matplotlib\n",
    "import matplotlib.pyplot as plt\n",
    "from scipy.linalg import fractional_matrix_power\n",
    "from numpy import array, diag, dot, maximum, empty, repeat, ones, sum\n",
    "from numpy.linalg import inv\n",
    "from trips.operators import *\n",
    "##Specify the font\n",
    "##Latex needs to be installed! If not installed, please comment the following 5 lines\n",
    "# parameters = {'xtick.labelsize': 12, 'ytick.labelsize': 12,\n",
    "#           'axes.titlesize': 18, 'axes.labelsize': 18, 'figure.titlesize': 14, 'legend.fontsize': 13}\n",
    "# plt.rcParams.update(parameters)\n",
    "import time\n",
    "import numpy as np\n",
    "import scipy as sp\n",
    "import scipy.stats as sps\n",
    "import scipy.io as spio\n",
    "import matplotlib\n",
    "import matplotlib.pyplot as plt\n",
    "import numpy as np\n",
    "import astra\n",
    "# import phantoms as phantom\n",
    "from venv import create\n",
    "import pylops\n",
    "from scipy.ndimage import convolve\n",
    "from scipy import sparse\n",
    "from scipy.ndimage import convolve\n",
    "import scipy.special as spe\n",
    "from trips.testProblems import *\n",
    "from trips.operators import *\n",
    "from trips.solvers.gks import *\n",
    "from trips.solvers.Tikhonov import *\n",
    "from trips.solvers.tSVD import *\n",
    "from trips.solvers.ArnoldiTikhonov import *"
   ]
  },
  {
   "cell_type": "code",
   "execution_count": 2,
   "metadata": {},
   "outputs": [
    {
     "data": {
      "image/png": "[encoded data removed]",
      "text/plain": [
       "<Figure size 432x288 with 1 Axes>"
      ]
     },
     "metadata": {
      "needs_background": "light"
     },
     "output_type": "display_data"
    },
    {
     "data": {
      "text/plain": [
       "<Figure size 432x288 with 0 Axes>"
      ]
     },
     "metadata": {},
     "output_type": "display_data"
    }
   ],
   "source": [
    "# Deblurring example test problem\n",
    "Deblur = Deblurring()\n",
    "# In the class Deblurring we have can define the type of problem to be used.\n",
    "generate_matrix = True #Defines a blurring operator where the forward operator matrix is formed explicitly\n",
    "imagesize_x = 64 # Define the first dimension of the image\n",
    "imagesize_y = 64 # Defines the second dimension of the image\n",
    "spread = 1.5 # The PSF parameter\n",
    "choose_image = 'Himage' #The choice of the image\n",
    "if generate_matrix == True:\n",
    "        # spread = [2,2]\n",
    "        size = imagesize_x\n",
    "        shape = (size, size)\n",
    "        spreadnew = (spread, spread)\n",
    "        A = Deblur.forward_Op_matrix(spreadnew, shape, imagesize_x, imagesize_y)\n",
    "x_true = Deblur.generate_true(choose_image)\n",
    "b_true = Deblur.generate_data(x_true, generate_matrix)\n",
    "(b, delta) = Deblur.add_noise(b_true, 'Gaussian', noise_level = 0.01)\n",
    "Deblur.plot_rec(x_true.reshape((shape), order = 'F'), save_imgs = True, save_path='./saveImagesDeblurring'+'rec'+choose_image)"
   ]
  },
  {
   "cell_type": "code",
   "execution_count": 3,
   "metadata": {},
   "outputs": [
    {
     "name": "stderr",
     "output_type": "stream",
     "text": [
      "generating basis...: 100%|██████████| 4/4 [00:00<00:00, 110.84it/s]"
     ]
    },
    {
     "name": "stderr",
     "output_type": "stream",
     "text": [
      "\n"
     ]
    }
   ],
   "source": [
    "b_vec = b.reshape((-1,1))\n",
    "xx = arnoldi_tikhonov(A, b_vec, projection_dim=4, regparam = 'gcv', delta = delta)"
   ]
  },
  {
   "cell_type": "code",
   "execution_count": 6,
   "metadata": {},
   "outputs": [
    {
     "data": {
      "text/plain": [
       "<matplotlib.image.AxesImage at 0x7fc7d4148820>"
      ]
     },
     "execution_count": 6,
     "metadata": {},
     "output_type": "execute_result"
    },
    {
     "data": {
      "image/png": "[encoded data removed]",
      "text/plain": [
       "<Figure size 432x288 with 1 Axes>"
      ]
     },
     "metadata": {
      "needs_background": "light"
     },
     "output_type": "display_data"
    }
   ],
   "source": [
    "plt.imshow(xx.reshape(imagesize_x, imagesize_y))"
   ]
  }
 ],
 "metadata": {
  "kernelspec": {
   "display_name": "base",
   "language": "python",
   "name": "python3"
  },
  "language_info": {
   "codemirror_mode": {
    "name": "ipython",
    "version": 3
   },
   "file_extension": ".py",
   "mimetype": "text/x-python",
   "name": "python",
   "nbconvert_exporter": "python",
   "pygments_lexer": "ipython3",
   "version": "3.8.8"
  },
  "orig_nbformat": 4
 },
 "nbformat": 4,
 "nbformat_minor": 2
}
