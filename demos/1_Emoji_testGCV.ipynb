{
 "cells": [
  {
   "cell_type": "code",
   "execution_count": 1,
   "metadata": {},
   "outputs": [],
   "source": [
    "#!/usr/bin/env python\n",
    "\"\"\"\n",
    "Demo for Emoji dynamic tomography test problem\n",
    "--------------------------------------------------------------------------\n",
    "Created in 2023 for TRIPs-Py library\n",
    "\"\"\"\n",
    "__authors__ = \"Mirjeta Pasha, Silvia Gazzola, Connor Sanderford, and Ugochukwu Obinna Ugwu\"\n",
    "__affiliations__ = 'Tufts University, University of Bath, Arizona State University, and Tufts University'\n",
    "__copyright__ = \"Copyright 2023, TRIPs-Py library\"\n",
    "__license__ = \"GPL\"\n",
    "__version__ = \"1.0\"\n",
    "__email__ = \"mirjeta.pasha@tufts.edu; mirjeta.pasha1@gmail.com; sg968@bath.ac.uk; csanderf@asu.edu; connorsanderford@gmail.com; Ugochukwu.Ugwu@tufts.edu\""
   ]
  },
  {
   "cell_type": "code",
   "execution_count": 2,
   "metadata": {},
   "outputs": [],
   "source": [
    "import numpy as np\n",
    "import matplotlib\n",
    "import matplotlib.pyplot as plt\n",
    "from scipy.linalg import fractional_matrix_power\n",
    "from numpy import array, diag, dot, maximum, empty, repeat, ones, sum\n",
    "from numpy.linalg import inv\n",
    "parameters = {'xtick.labelsize': 12, 'ytick.labelsize': 12,\n",
    "          'axes.titlesize': 18, 'axes.labelsize': 18, 'figure.titlesize': 14, 'legend.fontsize': 13}\n",
    "plt.rcParams.update(parameters)\n",
    "import scipy as sp\n",
    "import scipy.stats as sps\n",
    "import scipy.io as spio\n",
    "import astra\n",
    "from venv import create\n",
    "import pylops\n",
    "from scipy.ndimage import convolve\n",
    "from scipy import sparse\n",
    "from scipy.ndimage import convolve\n",
    "import scipy.special as spe\n",
    "import requests\n",
    "import h5py\n",
    "# functions to generate emoji data are stored in io_l.py\n",
    "from trips.utilities.io import *\n",
    "from trips.utilities.operators import *\n",
    "from trips.solvers.AnisoTV import *\n",
    "from trips.utilities.helpers import *\n",
    "from trips.solvers.GKS import *\n",
    "from trips.solvers.MMGKS import *\n",
    "from trips.solvers.MMGKS_new import *"
   ]
  },
  {
   "attachments": {},
   "cell_type": "markdown",
   "metadata": {},
   "source": [
    "# Notebook 1: Emoji test problem\n",
    "\n",
    "<p>In this example we illustrate the following:\n",
    "<p>&nbsp; Step 1: Download/read the emoji data and prepare them for processing.\n",
    "<p>&nbsp; Step 2: Solve the static inverse problem.\n",
    "<p>&nbsp; Step 3: Solve the dynamic inverse problem.\n",
    "\n",
    "Emoji data are generated at the University of Helsinki: https://zenodo.org/record/1183532#.YyaW_C9h2fU\n"
   ]
  },
  {
   "attachments": {},
   "cell_type": "markdown",
   "metadata": {},
   "source": [
    "#### Step 1: Download/read the data and prepare them for processing\n",
    "##### The main function to generate the emoji data is generate_emoji(dataset, noise_level) \n",
    "<p> <b>Input:</b> \n",
    "<p>&nbsp; <b>dataset:</b>\n",
    "        <p>&nbsp; if dataset = 30, we generate data from DataDynamic_128x30.mat\n",
    "        <p>&nbsp; if dataset = 60, we generate data from DataDynamic_128x60.mat\n",
    "<p>&nbsp; <b>noise_level:</b>\n",
    "        <p>&nbsp; Emoji data are real data and they have noise. Hence, we set noise_level = 0\n",
    "            \n",
    "<p> <b>Output:</b>  \n",
    "&nbsp;<br> <b>A:</b> The full forward operator for all time instances<br>\n",
    "&nbsp; <b>b:</b> All the data/measurements vectorized<br> \n",
    "&nbsp; <b>AA:</b> A list of 33 time-wise operators<br> \n",
    "&nbsp; <b>B:</b> A list of 33 data vectors for each time instance <br> \n",
    "&nbsp; <b>nx:</b> The dimension of the first spatial domain<br> \n",
    "&nbsp; <b>ny:</b> The dimension of the second spatial domain<br> \n",
    "&nbsp; <b>nt:</b> The dimension of the time instances domain<br> \n",
    "&nbsp; <b>delta:</b> The noise level in the data. When we set noise_level == 0, we get delta = 0<br> \n",
    "&nbsp; <b>sinoshape:</b> The dimension of the time-wise sinogram<br>     "
   ]
  },
  {
   "cell_type": "code",
   "execution_count": 3,
   "metadata": {},
   "outputs": [
    {
     "name": "stdout",
     "output_type": "stream",
     "text": [
      "data already downloaded.\n"
     ]
    }
   ],
   "source": [
    "(A, b, AA, B, nx, ny, nt, delta) = generate_emoji(noise_level = 0, dataset = 30)"
   ]
  },
  {
   "attachments": {},
   "cell_type": "markdown",
   "metadata": {},
   "source": [
    "#### Step 2: Solve the static inverse problems.\n",
    "<p>&nbsp; <b>The function to perform reconstruction is reconstruct_anisoTV(dynamic)</b>\n",
    "<p> <b>Input:</b> \n",
    "<p>&nbsp; <b>dynamic:</b>\n",
    "        <p>&nbsp; if dynamic = True, it solves the dynamic inverse problem $A x = b$\n",
    "        <p>&nbsp; if dynamic = False, it solves nt static inverse problems $AA(i) x(i) = B(i)$, for i in range(nt)\n",
    "<p> <b>Output:</b>  \n",
    "&nbsp;<br> <b>xx:</b> <br>If dynamic == True, xx is a 3 dimensional tensor with dimensions (nx, ny, nt) that contains nt reconstructed images<br>If dynamic == False, xx is a list with nt elements that contains nt reconstructed images"
   ]
  },
  {
   "cell_type": "code",
   "execution_count": 4,
   "metadata": {},
   "outputs": [
    {
     "name": "stderr",
     "output_type": "stream",
     "text": [
      "generating basis...: 100%|██████████| 1/1 [00:00<00:00, 249.25it/s]\n",
      "running MMGKS...: 100%|██████████| 50/50 [00:03<00:00, 16.36it/s]\n"
     ]
    }
   ],
   "source": [
    "# Compute a solution by GKS\n",
    "# Define a derivative operator as a regularization operator\n",
    "# L = spatial_derivative_operator(nx, ny, nt)\n",
    "A1 = AA[1]\n",
    "b1 = B[1]\n",
    "L = gen_first_derivative_operator_2D(nx, ny)\n",
    "data_vec = b.reshape((-1,1))\n",
    "# Use GKS to compute an approximate solution\n",
    "(x_mmgks_1a, info_mmgks_1a) = MMGKS(A1, b1.reshape((-1,1)), L, pnorm=2, qnorm=1, projection_dim=1, n_iter = 50, regparam = 'gcv', x_true = None, delta = delta, epsilon = 0.001)\n",
    "(x_mmgks_1b, info_mmgks_1b) = MMGKS_new(A1, b1.reshape((-1,1)), L, pnorm=2, qnorm=1, projection_dim=1, n_iter = 50, regparam = 'gcv', x_true = None, delta = delta, epsilon = 0.001)\n",
    "print(info_mmgks_1a['regParam'])\n",
    "print(info_mmgks_1b['regParam'])"
   ]
  },
  {
   "cell_type": "code",
   "execution_count": null,
   "metadata": {},
   "outputs": [],
   "source": [
    "xxa = list(range(nt))\n",
    "regp_vara = list(range(nt))\n",
    "L = spatial_derivative_operator(nx, ny, 1)\n",
    "for i in range(nt):\n",
    "    b_vec = B[i].reshape((-1,1))\n",
    "    (x_static_mmgks, info_mmgks) = MMGKS(AA[i], b_vec, L, pnorm=2, qnorm=1, projection_dim=1, n_iter = 10, regparam= 'gcv' , x_true=None, epsilon = 0.001)\n",
    "    xxa[i] = x_static_mmgks\n",
    "    regp_vara[i] = info_mmgks['regParam']\n",
    "\n",
    "xxb = list(range(nt))\n",
    "regp_varb = list(range(nt))\n",
    "L = spatial_derivative_operator(nx, ny, 1)\n",
    "for i in range(nt):\n",
    "    b_vec = B[i].reshape((-1,1))\n",
    "    (x_static_mmgks, info_mmgks) = MMGKS_new(AA[i], b_vec, L, pnorm=2, qnorm=1, projection_dim=1, n_iter = 10, regparam= 'gcv' , x_true=None, epsilon = 0.001)\n",
    "    xxb[i] = x_static_mmgks\n",
    "    regp_varb[i] = info_mmgks['regParam']"
   ]
  },
  {
   "cell_type": "code",
   "execution_count": 7,
   "metadata": {},
   "outputs": [
    {
     "name": "stdout",
     "output_type": "stream",
     "text": [
      "[0.8243788017822309, 0.843693496731194, 0.7597867904634314, 0.8823602486947697, 0.0015440138904118023, 0.0013721125400948516, 0.0011423054771074663, 0.0013097572120293354, 0.001319287907457819, 0.0012463085210955304, 0.001569403795337984, 0.0016151576402765962, 0.0011353855459415602, 0.0012442927710000684, 0.0012775237609876427, 0.0012192085756170701, 0.0012870495394483228, 0.001568901968165609, 0.001176223149701261, 0.0013071871383326843, 0.0013199979872624194, 0.8690017600810329, 0.001643363749006486, 0.0013848406109833648, 0.8460660101623654, 0.0011768664464686198, 0.0013066476821117997, 0.0011815435473319469, 0.0015616935879171699, 0.0015305767747801485, 0.7323364195041993, 0.0011205553619839483, 0.0014346433825539625]\n"
     ]
    }
   ],
   "source": [
    "print(regp_vara)\n",
    "print(regp_varb)"
   ]
  },
  {
   "cell_type": "code",
   "execution_count": null,
   "metadata": {},
   "outputs": [],
   "source": [
    "plot_recstructions_series(xxa, (nx, ny, nt), dynamic = False, testproblem = 'Emoji', geome_x = 1,geome_x_small = 0,  save_imgs= False, save_path='./reconstruction/Emoji')"
   ]
  },
  {
   "cell_type": "code",
   "execution_count": null,
   "metadata": {},
   "outputs": [],
   "source": [
    "plot_recstructions_series(xxb, (nx, ny, nt), dynamic = False, testproblem = 'Emoji', geome_x = 1,geome_x_small = 0,  save_imgs= False, save_path='./reconstruction/Emoji')"
   ]
  },
  {
   "cell_type": "code",
   "execution_count": null,
   "metadata": {},
   "outputs": [],
   "source": [
    "plt.imshow(x_mmgks_1a.reshape((nx, ny)))"
   ]
  },
  {
   "cell_type": "code",
   "execution_count": null,
   "metadata": {},
   "outputs": [],
   "source": [
    "plt.imshow(x_mmgks_1b.reshape((nx, ny)))"
   ]
  },
  {
   "attachments": {},
   "cell_type": "markdown",
   "metadata": {},
   "source": [
    "#### Step 3: Solve dynamic inverse problems.\n",
    "<p>&nbsp; <b>The function to perform reconstruction is reconstruct_anisoTV(dynamic)</b>\n",
    "<p> <b>Input:</b> \n",
    "<p>&nbsp; <b>dynamic:</b>\n",
    "        <p>&nbsp; if dynamic = True, it solves the dynamic inverse problem $A x = b$\n",
    "        <p>&nbsp; if dynamic = False, it solves nt static inverse problems $AA(i) x(i) = B(i)$, for i in range(nt)\n",
    "<p> <b>Output:</b>  \n",
    "&nbsp;<br> <b>xx:</b> <br>If dynamic == True, xx is a 3 dimensional tensor with dimensions (nx, ny, nt) that contains nt reconstructed images<br>If dynamic == False, xx is a list with nt elements that contains nt reconstructed images"
   ]
  },
  {
   "cell_type": "code",
   "execution_count": null,
   "metadata": {},
   "outputs": [],
   "source": [
    "# Compute a solution by GKS\n",
    "# Define a derivative operator as a regularization operator\n",
    "# L = spatial_derivative_operator(nx, ny, nt)\n",
    "L = gen_spacetime_derivative_operator(nx, ny, nt)\n",
    "data_vec = b.reshape((-1,1))\n",
    "# Use GKS to compute an approximate solution\n",
    "(x_mmgks, info_mmgks) = MMGKS(A, data_vec, L, pnorm=2, qnorm=1, projection_dim=1, n_iter = 50, regparam = 0.01, x_true = None, delta = delta, epsilon = 0.001)"
   ]
  },
  {
   "cell_type": "code",
   "execution_count": null,
   "metadata": {},
   "outputs": [],
   "source": [
    "(x_mmgks_var, info_mmgks_var) = MMGKS(A, data_vec, L, pnorm=2, qnorm=1, projection_dim=1, n_iter = 50, regparam = 'gcv', x_true = None, delta = delta, epsilon = 0.001)"
   ]
  },
  {
   "cell_type": "code",
   "execution_count": null,
   "metadata": {},
   "outputs": [],
   "source": [
    "print(info_mmgks_var)"
   ]
  },
  {
   "cell_type": "code",
   "execution_count": null,
   "metadata": {},
   "outputs": [],
   "source": [
    "x_mmgks[x_mmgks<0] = 0"
   ]
  },
  {
   "cell_type": "code",
   "execution_count": null,
   "metadata": {},
   "outputs": [],
   "source": [
    "plot_recstructions_series(x_mmgks, (nx, ny, nt), dynamic = True, testproblem = 'Emoji', geome_x = 1,geome_x_small = 0,  save_imgs= False, save_path='./reconstruction/Emoji')"
   ]
  },
  {
   "cell_type": "code",
   "execution_count": null,
   "metadata": {},
   "outputs": [],
   "source": [
    "x_mmgks_var[x_mmgks_var<0] = 0"
   ]
  },
  {
   "cell_type": "code",
   "execution_count": null,
   "metadata": {},
   "outputs": [],
   "source": [
    "plot_recstructions_series(x_mmgks_var, (nx, ny, nt), dynamic = True, testproblem = 'Emoji', geome_x = 1,geome_x_small = 0,  save_imgs= False, save_path='./reconstruction/Emoji')"
   ]
  },
  {
   "cell_type": "code",
   "execution_count": null,
   "metadata": {},
   "outputs": [],
   "source": []
  }
 ],
 "metadata": {
  "kernelspec": {
   "display_name": "base",
   "language": "python",
   "name": "python3"
  },
  "language_info": {
   "codemirror_mode": {
    "name": "ipython",
    "version": 3
   },
   "file_extension": ".py",
   "mimetype": "text/x-python",
   "name": "python",
   "nbconvert_exporter": "python",
   "pygments_lexer": "ipython3",
   "version": "3.8.8"
  },
  "orig_nbformat": 4
 },
 "nbformat": 4,
 "nbformat_minor": 2
}
