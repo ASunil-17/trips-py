{
 "cells": [
  {
   "cell_type": "code",
   "execution_count": 27,
   "metadata": {},
   "outputs": [],
   "source": [
    "#!/usr/bin/env python\n",
    "\"\"\"\n",
    "Demo for 1D deblurring\n",
    "--------------------------------------------------------------------------\n",
    "Created in 2023 for TRIPs-Py library\n",
    "\"\"\"\n",
    "__authors__ = \"Mirjeta Pasha, Silvia Gazzola, Connor Sanderford, and Ugochukwu Obinna Ugwu\"\n",
    "__affiliations__ = 'Tufts University, University of Bath, Arizona State University, and Tufts University'\n",
    "__copyright__ = \"Copyright 2023, TRIPs-Py library\"\n",
    "__license__ = \"GPL\"\n",
    "__version__ = \"1.0\"\n",
    "__email__ = \"mirjeta.pasha@tufts.edu; mirjeta.pasha1@gmail.com; sg968@bath.ac.uk; csanderf@asu.edu; connorsanderford@gmail.com; Ugochukwu.Ugwu@tufts.edu\""
   ]
  },
  {
   "cell_type": "code",
   "execution_count": 40,
   "metadata": {},
   "outputs": [],
   "source": [
    "#!/usr/bin/env python\n",
    "\"\"\" \n",
    "Builds a deblurring class for 1D Deblurring problem\n",
    "--------------------------------------------------------------------------\n",
    "Created in January 2024 for TRIPs-Py library\n",
    "\"\"\"\n",
    "__authors__ = \"Mirjeta Pasha, Silvia Gazzola, Connor Sanderford, and Ugochukwu Obinna Ugwu\"\n",
    "__affiliations__ = 'Tufts University, University of Bath, Arizona State University, and Tufts University'\n",
    "__copyright__ = \"Copyright 2024, TRIPs-Py library\"\n",
    "__license__ = \"GPL\"\n",
    "__version__ = \"1.0\"\n",
    "__email__ = \"mirjeta.pasha@tufts.edu; mirjeta.pasha1@gmail.com; sg968@bath.ac.uk; csanderf@asu.edu; connorsanderford@gmail.com; Ugochukwu.Ugwu@tufts.edu\"\n",
    "import time\n",
    "import numpy as np\n",
    "import scipy as sp\n",
    "import scipy.stats as sps\n",
    "import scipy.io as spio\n",
    "import matplotlib\n",
    "import matplotlib.pyplot as plt\n",
    "import numpy as np\n",
    "import astra\n",
    "import trips.utilities.phantoms as phantom\n",
    "from venv import create\n",
    "import pylops\n",
    "from scipy.ndimage import convolve\n",
    "from scipy import sparse\n",
    "import scipy.special as spe\n",
    "from trips.utilities.operators_old import *\n",
    "from PIL import Image\n",
    "from resizeimage import resizeimage\n",
    "import requests\n",
    "from os import mkdir\n",
    "from os.path import exists\n",
    "import numpy as np\n",
    "import matplotlib.pyplot as plt\n",
    "from scipy.ndimage import convolve1d\n",
    "from trips.utilities.utils import *\n",
    "import scipy.linalg as la\n",
    "\n",
    "class Deblurring1Dtest():\n",
    "\n",
    "    def __init__(self,**kwargs):\n",
    "        seed = kwargs.pop('seed',2022)\n",
    "        self.grid_points = None\n",
    "        self.ny = None\n",
    "        self.parameter = None\n",
    "        self.CommitCrime = kwargs['CommitCrime'] if ('CommitCrime' in kwargs) else False\n",
    "\n",
    "    def operator(self, x, projection, PSF, boundary_condition):\n",
    "        if projection == 'forward':\n",
    "            return self.forward_p(x, PSF, boundary_condition)\n",
    "        elif projection == 'backward':\n",
    "            return self.backward_p(x, PSF, boundary_condition)\n",
    "    def forward_p(self, x, PSF, boundary_conditions):\n",
    "        A_times_x = convolve1d(x, PSF, mode = boundary_conditions) \n",
    "        return A_times_x\n",
    "    def backward_p(self, b, PSF, boundary_conditions):\n",
    "        PSF = PSF[::-1]\n",
    "        A_transpose_b = convolve1d(b, PSF, mode = boundary_conditions)\n",
    "        return A_transpose_b\n",
    "    def Gauss1D(self, grid_points, parameter):  \n",
    "        self.grid_points = grid_points  \n",
    "        x = np.arange(-np.fix(grid_points/2), np.ceil(grid_points/2))\n",
    "        PSF = np.exp(-0.5*((x**2)/(parameter**2)))\n",
    "        PSF /= PSF.sum()\n",
    "        center = np.int0(np.where(PSF == PSF.max())[0][0])\n",
    "        return PSF, center\n",
    "    def Defocus1D(self, grid_points, parameter):  \n",
    "        self.grid_points = grid_points  \n",
    "        center = np.int0(np.fix(int(grid_points/2)))\n",
    "        if (parameter == 0):    \n",
    "            PSF = np.zeros(grid_points)\n",
    "            PSF[center] = 1\n",
    "            self.PSF = PSF\n",
    "        else:\n",
    "            PSF = np.ones(grid_points) / (np.pi * parameter**2)\n",
    "            temp = np.array(((np.arange(1, grid_points+1)-center)**2 > (parameter**2)))\n",
    "            PSF[temp] = 0\n",
    "            self.PSF = PSF / PSF.sum()\n",
    "        return PSF, center\n",
    "\n",
    "    def P1D(self, spread, center, shape):\n",
    "        image = np.zeros(shape)\n",
    "        for i in range(shape):\n",
    "                v = np.exp(-(((i-center)/spread)**2 )/2)\n",
    "                if v < 0.0001:\n",
    "                    continue\n",
    "                image[i] = v\n",
    "        return image\n",
    "    \n",
    "    def forward_Op_1D(self, x, parameter, nx, boundary_condition = 'reflect'):\n",
    "        self.grid_points = nx\n",
    "        self.ny = 1\n",
    "        self.parameter = parameter\n",
    "        self.boundary_condition = boundary_condition\n",
    "        self.PSF, self.center = self.Gauss1D(self.grid_points, self.parameter)\n",
    "        proj_forward = lambda x: self.operator(x, 'forward', self.PSF, boundary_condition)\n",
    "        proj_backward = lambda x: self.operator(x, 'backward', self.PSF, boundary_condition)\n",
    "        blur = pylops.FunctionOperator(proj_forward, proj_backward, self.grid_points)\n",
    "        return blur\n",
    "    \n",
    "    def gen_data(self, x):\n",
    "        if self.parameter = None:\n",
    "            \n",
    "        if self.CommitCrime == False:\n",
    "            print('MP')\n",
    "            print(self.grid_points)\n",
    "            print(self.ny)\n",
    "            nxbig = 2*self.grid_points\n",
    "            nybig = 1\n",
    "            im = x.reshape((self.grid_points, self.ny)) # check the shape\n",
    "            padim = np.zeros((nxbig, nybig))\n",
    "            putidx = self.grid_points//2\n",
    "            putidy = 1\n",
    "            # check the indeces\n",
    "            padim[putidx:(putidx+self.grid_points), :] = im\n",
    "            PSF, _ = self.Gauss1D(self.grid_points, self.parameter)\n",
    "            A0 = lambda x: self.operator(x, 'forward', self.PSF, self.boundary_condition)\n",
    "            b = A0(padim)\n",
    "            x = padim[putidx:(putidx+self.grid_points), putidy:(putidy+self.ny)].reshape((-1,1))\n",
    "            b = b[putidx:(putidx+self.grid_points), :].reshape((-1,1))\n",
    "        else:\n",
    "            self.PSF, self.center = self.Gauss1D(self.grid_points, self.parameter)\n",
    "            A = lambda x, projection: self.operator(x, projection, self.PSF, self.boundary_condition)\n",
    "            b = self.operator(x, 'forward', self.PSF, self.boundary_condition)\n",
    "        return b\n",
    "\n",
    "    def gen_xtrue(self, N, test):\n",
    "        self.grid_points = N\n",
    "        self.ny = 1\n",
    "        if test == 'sigma':\n",
    "            x = np.linspace(-2.5, 2.5, N)\n",
    "            x_true = np.piecewise(x, [x < 0, x >= 0], [-1, 1]) \n",
    "        if test == 'piecewise':\n",
    "            x_min = 0\n",
    "            x_max = 1\n",
    "            values = np.array([0, 1, 0, 0, 0, 0, 0, 0.25, 0, 1, 0])\n",
    "            conditions = lambda x: [(x_min <= x) & (x < 0.10), (0.10 <= x) & (x < 0.15), (0.15 <= x) & (x < 0.20),  \\\n",
    "                   (0.20  <= x) & (x < 0.25), (0.25 <= x) & (x < 0.35), (0.35 <= x) & (x < 0.38),\\\n",
    "                   (0.38  <= x) & (x < 0.45), (0.45 <= x) & (x < 0.55), \\\n",
    "                   (0.55  <= x) & (x < 0.75), (0.75 <= x) & (x < 0.8), (0.8 <= x) & (x <= x_max)]\n",
    "            f = lambda x: np.piecewise(x, conditions(x), values)\n",
    "            xx  = np.linspace(x_min, x_max, N)\n",
    "            x_true = f(xx)\n",
    "        if test == 'shaw':\n",
    "            h = np.pi/N\n",
    "            a1 = 2; c1 = 6; t1 =  .8\n",
    "            a2 = 1; c2 = 2; t2 = -.5\n",
    "            x1 = a1*np.exp(-c1*(-np.pi/2 + np.arange(0.5,N,1)*h - t1)**2)\n",
    "            x2 = a2*np.exp(-c2*(-np.pi/2 + np.arange(0.5,N,1)*h - t2)**2)\n",
    "            x_true = x1 + x2\n",
    "        elif test == 'curve1':\n",
    "            x_true = np.zeros((N,1))\n",
    "            h = 1/N; sqh = np.sqrt(h)\n",
    "            h32 = h*sqh\n",
    "            h2 = h**2 \n",
    "            sqhi = 1/sqh\n",
    "            t = 2/3; \n",
    "            for i in range(0, N):\n",
    "                x_true[i] = h32*(i+1-0.5)\n",
    "        elif test == 'curve2':\n",
    "            x_true = np.zeros((N,1))\n",
    "            h = 1/N; sqh = np.sqrt(h)\n",
    "            h32 = h*sqh\n",
    "            h2 = h**2 \n",
    "            sqhi = 1/sqh\n",
    "            t = 2/3; \n",
    "            for i in range(0, N):\n",
    "                x_true[i] = sqhi*(np.exp((i+1)*h) - np.exp(i*h))\n",
    "        elif test == 'curve3':\n",
    "            x_true = np.zeros((N,1))\n",
    "            h = 1/N; sqh = np.sqrt(h)\n",
    "            h32 = h*sqh\n",
    "            h2 = h**2 \n",
    "            sqhi = 1/sqh\n",
    "            t = 2/3; \n",
    "            for i in range(0, np.int0(N/2+1)):\n",
    "                x_true[i] = sqhi*(((i+1)*h)**2 - ((i)*h)**2)/2\n",
    "            for i in range(np.int0(N/2+1), N):\n",
    "                x_true[i] = sqhi*(h - (((i+1)*h)**2 - ((i)*h)**2)/2); \n",
    "        return x_true \n",
    "    \n",
    "    def add_noise(self, b_true, opt, noise_level):\n",
    "        if (opt == 'Gaussian'):\n",
    "            mu_obs = np.zeros(self.grid_points)      # mean of noise\n",
    "            e = np.random.randn(self.grid_points, 1)\n",
    "            # delta = noise_level * np.linalg.norm(b_true) #np.linalg.norm(e)\n",
    "            sig_obs = noise_level * np.linalg.norm(b_true)/np.linalg.norm(e)\n",
    "            b_meas = b_true + sig_obs*e\n",
    "            delta = la.norm(sig_obs*e)\n",
    "        if (opt == 'Poisson'):\n",
    "            gamma = 1 # background counts assumed known\n",
    "            b_meas = np.random.poisson(lam=b_true+gamma) \n",
    "            e = 0\n",
    "            # delta = np.linalg.norm(e)\n",
    "            delta = 0\n",
    "        if (opt == 'Laplace'):\n",
    "            mu_obs = np.zeros(self.grid_points)      # mean of noise\n",
    "            e = np.random.laplace(self.grid_points)\n",
    "            sig_obs = noise_level * np.linalg.norm(b_true)/np.linalg.norm(e)\n",
    "            b_meas = b_true + sig_obs*e\n",
    "            delta = la.norm(sig_obs*e)\n",
    "        return (b_meas, delta)\n",
    "    \n",
    "    def plot_rec(self, img, save_imgs = False, save_path='./saveImagesDeblurring1DReconstructions'):\n",
    "        plt.set_cmap('inferno')\n",
    "        if save_imgs and not os.path.exists(save_path): os.makedirs(save_path)\n",
    "        plt.plot(img)\n",
    "        plt.axis('off')\n",
    "        if save_imgs:  plt.savefig(save_path+'/rec'+'.png',bbox_inches='tight')\n",
    "        plt.pause(.1)\n",
    "        plt.draw()\n",
    "    def plot_data(self, img, save_imgs = False, save_path='./saveImagesDeblurring1DData'):\n",
    "        plt.set_cmap('inferno')\n",
    "        if save_imgs and not os.path.exists(save_path): os.makedirs(save_path)\n",
    "        plt.plot(img)\n",
    "        plt.axis('off')\n",
    "        if save_imgs:  plt.savefig(save_path+'/rec'+'.png',bbox_inches='tight')\n",
    "        plt.pause(.1)\n",
    "        plt.draw()   \n",
    "\n",
    "if __name__ == '__main__':\n",
    "    # Test Deblurring class\n",
    "    # from solvers.gks_all import *\n",
    "    Deblur1D = Deblurring1Dtest()\n"
   ]
  },
  {
   "cell_type": "code",
   "execution_count": 41,
   "metadata": {},
   "outputs": [
    {
     "name": "stdout",
     "output_type": "stream",
     "text": [
      "MP\n",
      "64\n",
      "1\n"
     ]
    },
    {
     "ename": "AttributeError",
     "evalue": "'Deblurring1Dtest' object has no attribute 'parameter'",
     "output_type": "error",
     "traceback": [
      "\u001b[0;31m---------------------------------------------------------------------------\u001b[0m",
      "\u001b[0;31mAttributeError\u001b[0m                            Traceback (most recent call last)",
      "\u001b[0;32m<ipython-input-41-da7d59b5d96f>\u001b[0m in \u001b[0;36m<module>\u001b[0;34m\u001b[0m\n\u001b[1;32m      4\u001b[0m \u001b[0;31m# A = Deblur.forward_Op_1D(x_true, parameter = 0.4, nx = nx)\u001b[0m\u001b[0;34m\u001b[0m\u001b[0;34m\u001b[0m\u001b[0;34m\u001b[0m\u001b[0m\n\u001b[1;32m      5\u001b[0m \u001b[0;31m## The following creates the data b_true\u001b[0m\u001b[0;34m\u001b[0m\u001b[0;34m\u001b[0m\u001b[0;34m\u001b[0m\u001b[0m\n\u001b[0;32m----> 6\u001b[0;31m \u001b[0mb_true\u001b[0m \u001b[0;34m=\u001b[0m \u001b[0mDeblur1D\u001b[0m\u001b[0;34m.\u001b[0m\u001b[0mgen_data\u001b[0m\u001b[0;34m(\u001b[0m\u001b[0mx_true\u001b[0m\u001b[0;34m)\u001b[0m\u001b[0;34m\u001b[0m\u001b[0;34m\u001b[0m\u001b[0m\n\u001b[0m\u001b[1;32m      7\u001b[0m \u001b[0;34m(\u001b[0m\u001b[0mb\u001b[0m\u001b[0;34m,\u001b[0m \u001b[0mdelta\u001b[0m\u001b[0;34m)\u001b[0m \u001b[0;34m=\u001b[0m \u001b[0mDeblur1D\u001b[0m\u001b[0;34m.\u001b[0m\u001b[0madd_noise\u001b[0m\u001b[0;34m(\u001b[0m\u001b[0mb_true\u001b[0m\u001b[0;34m,\u001b[0m \u001b[0;34m'Gaussian'\u001b[0m\u001b[0;34m,\u001b[0m \u001b[0mnoise_level\u001b[0m \u001b[0;34m=\u001b[0m \u001b[0;36m0.05\u001b[0m\u001b[0;34m)\u001b[0m\u001b[0;34m\u001b[0m\u001b[0;34m\u001b[0m\u001b[0m\n\u001b[1;32m      8\u001b[0m \u001b[0mplt\u001b[0m\u001b[0;34m.\u001b[0m\u001b[0mplot\u001b[0m\u001b[0;34m(\u001b[0m\u001b[0mx_true\u001b[0m\u001b[0;34m)\u001b[0m\u001b[0;34m\u001b[0m\u001b[0;34m\u001b[0m\u001b[0m\n",
      "\u001b[0;32m<ipython-input-40-a8651bfe1fa0>\u001b[0m in \u001b[0;36mgen_data\u001b[0;34m(self, x)\u001b[0m\n\u001b[1;32m    113\u001b[0m             \u001b[0;31m# check the indeces\u001b[0m\u001b[0;34m\u001b[0m\u001b[0;34m\u001b[0m\u001b[0;34m\u001b[0m\u001b[0m\n\u001b[1;32m    114\u001b[0m             \u001b[0mpadim\u001b[0m\u001b[0;34m[\u001b[0m\u001b[0mputidx\u001b[0m\u001b[0;34m:\u001b[0m\u001b[0;34m(\u001b[0m\u001b[0mputidx\u001b[0m\u001b[0;34m+\u001b[0m\u001b[0mself\u001b[0m\u001b[0;34m.\u001b[0m\u001b[0mgrid_points\u001b[0m\u001b[0;34m)\u001b[0m\u001b[0;34m,\u001b[0m \u001b[0;34m:\u001b[0m\u001b[0;34m]\u001b[0m \u001b[0;34m=\u001b[0m \u001b[0mim\u001b[0m\u001b[0;34m\u001b[0m\u001b[0;34m\u001b[0m\u001b[0m\n\u001b[0;32m--> 115\u001b[0;31m             \u001b[0mPSF\u001b[0m\u001b[0;34m,\u001b[0m \u001b[0m_\u001b[0m \u001b[0;34m=\u001b[0m \u001b[0mself\u001b[0m\u001b[0;34m.\u001b[0m\u001b[0mGauss1D\u001b[0m\u001b[0;34m(\u001b[0m\u001b[0mself\u001b[0m\u001b[0;34m.\u001b[0m\u001b[0mgrid_points\u001b[0m\u001b[0;34m,\u001b[0m \u001b[0mself\u001b[0m\u001b[0;34m.\u001b[0m\u001b[0mparameter\u001b[0m\u001b[0;34m)\u001b[0m\u001b[0;34m\u001b[0m\u001b[0;34m\u001b[0m\u001b[0m\n\u001b[0m\u001b[1;32m    116\u001b[0m             \u001b[0mA0\u001b[0m \u001b[0;34m=\u001b[0m \u001b[0;32mlambda\u001b[0m \u001b[0mx\u001b[0m\u001b[0;34m:\u001b[0m \u001b[0mself\u001b[0m\u001b[0;34m.\u001b[0m\u001b[0moperator\u001b[0m\u001b[0;34m(\u001b[0m\u001b[0mx\u001b[0m\u001b[0;34m,\u001b[0m \u001b[0;34m'forward'\u001b[0m\u001b[0;34m,\u001b[0m \u001b[0mself\u001b[0m\u001b[0;34m.\u001b[0m\u001b[0mPSF\u001b[0m\u001b[0;34m,\u001b[0m \u001b[0mself\u001b[0m\u001b[0;34m.\u001b[0m\u001b[0mboundary_condition\u001b[0m\u001b[0;34m)\u001b[0m\u001b[0;34m\u001b[0m\u001b[0;34m\u001b[0m\u001b[0m\n\u001b[1;32m    117\u001b[0m             \u001b[0mb\u001b[0m \u001b[0;34m=\u001b[0m \u001b[0mA0\u001b[0m\u001b[0;34m(\u001b[0m\u001b[0mpadim\u001b[0m\u001b[0;34m)\u001b[0m\u001b[0;34m\u001b[0m\u001b[0;34m\u001b[0m\u001b[0m\n",
      "\u001b[0;31mAttributeError\u001b[0m: 'Deblurring1Dtest' object has no attribute 'parameter'"
     ]
    }
   ],
   "source": [
    "nx = 64\n",
    "x_true = Deblur1D.gen_xtrue(nx, test = 'piecewise')\n",
    "## If you would like to create the operator only\n",
    "# A = Deblur.forward_Op_1D(x_true, parameter = 0.4, nx = nx) \n",
    "## The following creates the data b_true\n",
    "b_true = Deblur1D.gen_data(x_true)\n",
    "(b, delta) = Deblur1D.add_noise(b_true, 'Gaussian', noise_level = 0.05)\n",
    "plt.plot(x_true)"
   ]
  },
  {
   "cell_type": "code",
   "execution_count": 28,
   "metadata": {},
   "outputs": [],
   "source": [
    "from trips.test_problems.Deblurring1D import *\n",
    "from trips.solvers.CGLS import *\n",
    "from trips.solvers.Hybrid_GMRES import *\n",
    "from trips.solvers.Tikhonov import *\n",
    "from trips.solvers.GMRES import *\n",
    "from trips.solvers.golub_kahan_tikhonov import *"
   ]
  },
  {
   "cell_type": "code",
   "execution_count": 29,
   "metadata": {},
   "outputs": [],
   "source": [
    "import time\n",
    "import numpy as np\n",
    "import scipy as sp\n",
    "import scipy.stats as sps\n",
    "import scipy.io as spio\n",
    "import matplotlib\n",
    "import matplotlib.pyplot as plt\n",
    "import numpy as np\n",
    "import astra\n",
    "import trips.utilities.phantoms as phantom\n",
    "from venv import create\n",
    "import pylops\n",
    "from scipy.ndimage import convolve\n",
    "from scipy import sparse\n",
    "import scipy.special as spe\n",
    "from trips.utilities.operators import *\n",
    "from PIL import Image\n",
    "from resizeimage import resizeimage\n",
    "import requests\n",
    "from os import mkdir\n",
    "from os.path import exists\n",
    "import numpy as np\n",
    "import matplotlib.pyplot as plt\n",
    "from scipy.ndimage import convolve1d\n",
    "from trips.utilities.utils import *\n",
    "import scipy.linalg as la"
   ]
  },
  {
   "cell_type": "code",
   "execution_count": 31,
   "metadata": {},
   "outputs": [
    {
     "ename": "TypeError",
     "evalue": "unsupported operand type(s) for *: 'int' and 'NoneType'",
     "output_type": "error",
     "traceback": [
      "\u001b[0;31m---------------------------------------------------------------------------\u001b[0m",
      "\u001b[0;31mTypeError\u001b[0m                                 Traceback (most recent call last)",
      "\u001b[0;32m<ipython-input-31-8de71d1a449f>\u001b[0m in \u001b[0;36m<module>\u001b[0;34m\u001b[0m\n\u001b[1;32m      5\u001b[0m \u001b[0;31m# A = Deblur.forward_Op_1D(x_true, parameter = 0.4, nx = nx)\u001b[0m\u001b[0;34m\u001b[0m\u001b[0;34m\u001b[0m\u001b[0;34m\u001b[0m\u001b[0m\n\u001b[1;32m      6\u001b[0m \u001b[0;31m## The following creates the data b_true\u001b[0m\u001b[0;34m\u001b[0m\u001b[0;34m\u001b[0m\u001b[0;34m\u001b[0m\u001b[0m\n\u001b[0;32m----> 7\u001b[0;31m \u001b[0mb_true\u001b[0m \u001b[0;34m=\u001b[0m \u001b[0mDeblur\u001b[0m\u001b[0;34m.\u001b[0m\u001b[0mgen_data\u001b[0m\u001b[0;34m(\u001b[0m\u001b[0mx_true\u001b[0m\u001b[0;34m)\u001b[0m\u001b[0;34m\u001b[0m\u001b[0;34m\u001b[0m\u001b[0m\n\u001b[0m\u001b[1;32m      8\u001b[0m \u001b[0;34m(\u001b[0m\u001b[0mb\u001b[0m\u001b[0;34m,\u001b[0m \u001b[0mdelta\u001b[0m\u001b[0;34m)\u001b[0m \u001b[0;34m=\u001b[0m \u001b[0mDeblur\u001b[0m\u001b[0;34m.\u001b[0m\u001b[0madd_noise\u001b[0m\u001b[0;34m(\u001b[0m\u001b[0mb_true\u001b[0m\u001b[0;34m,\u001b[0m \u001b[0;34m'Gaussian'\u001b[0m\u001b[0;34m,\u001b[0m \u001b[0mnoise_level\u001b[0m \u001b[0;34m=\u001b[0m \u001b[0;36m0.05\u001b[0m\u001b[0;34m)\u001b[0m\u001b[0;34m\u001b[0m\u001b[0;34m\u001b[0m\u001b[0m\n\u001b[1;32m      9\u001b[0m \u001b[0mplt\u001b[0m\u001b[0;34m.\u001b[0m\u001b[0mplot\u001b[0m\u001b[0;34m(\u001b[0m\u001b[0mx_true\u001b[0m\u001b[0;34m)\u001b[0m\u001b[0;34m\u001b[0m\u001b[0;34m\u001b[0m\u001b[0m\n",
      "\u001b[0;32m~/opt/anaconda3/lib/python3.8/site-packages/trips/test_problems/Deblurring1D.py\u001b[0m in \u001b[0;36mgen_data\u001b[0;34m(self, x)\u001b[0m\n\u001b[1;32m    101\u001b[0m     \u001b[0;32mdef\u001b[0m \u001b[0mgen_data\u001b[0m\u001b[0;34m(\u001b[0m\u001b[0mself\u001b[0m\u001b[0;34m,\u001b[0m \u001b[0mx\u001b[0m\u001b[0;34m)\u001b[0m\u001b[0;34m:\u001b[0m\u001b[0;34m\u001b[0m\u001b[0;34m\u001b[0m\u001b[0m\n\u001b[1;32m    102\u001b[0m \u001b[0;34m\u001b[0m\u001b[0m\n\u001b[0;32m--> 103\u001b[0;31m         \u001b[0;32mif\u001b[0m \u001b[0mself\u001b[0m\u001b[0;34m.\u001b[0m\u001b[0mCommitCrime\u001b[0m \u001b[0;34m==\u001b[0m \u001b[0;32mFalse\u001b[0m\u001b[0;34m:\u001b[0m\u001b[0;34m\u001b[0m\u001b[0;34m\u001b[0m\u001b[0m\n\u001b[0m\u001b[1;32m    104\u001b[0m             \u001b[0mnxbig\u001b[0m \u001b[0;34m=\u001b[0m \u001b[0;36m2\u001b[0m\u001b[0;34m*\u001b[0m\u001b[0mself\u001b[0m\u001b[0;34m.\u001b[0m\u001b[0mgrid_points\u001b[0m\u001b[0;34m\u001b[0m\u001b[0;34m\u001b[0m\u001b[0m\n\u001b[1;32m    105\u001b[0m             \u001b[0mnybig\u001b[0m \u001b[0;34m=\u001b[0m \u001b[0;36m1\u001b[0m\u001b[0;34m\u001b[0m\u001b[0;34m\u001b[0m\u001b[0m\n",
      "\u001b[0;31mTypeError\u001b[0m: unsupported operand type(s) for *: 'int' and 'NoneType'"
     ]
    }
   ],
   "source": [
    "Deblur = Deblurring1D(CommitCrime = False)\n",
    "nx = 64\n",
    "x_true = Deblur.gen_xtrue(nx, test = 'piecewise')\n",
    "## If you would like to create the operator only\n",
    "# A = Deblur.forward_Op_1D(x_true, parameter = 0.4, nx = nx) \n",
    "## The following creates the data b_true\n",
    "b_true = Deblur.gen_data(x_true)\n",
    "(b, delta) = Deblur.add_noise(b_true, 'Gaussian', noise_level = 0.05)\n",
    "plt.plot(x_true)"
   ]
  },
  {
   "attachments": {},
   "cell_type": "markdown",
   "metadata": {},
   "source": [
    "### Test a methods"
   ]
  },
  {
   "attachments": {},
   "cell_type": "markdown",
   "metadata": {},
   "source": [
    "##### 1. CGLS"
   ]
  },
  {
   "cell_type": "code",
   "execution_count": 6,
   "metadata": {},
   "outputs": [
    {
     "data": {
      "image/png": "[encoded data removed]",
      "text/plain": [
       "<Figure size 432x288 with 1 Axes>"
      ]
     },
     "metadata": {
      "needs_background": "light"
     },
     "output_type": "display_data"
    }
   ],
   "source": [
    "(xcgls, info) = TP_cgls(A, b_true, A.T@b, 20, 1e-3, x_true.reshape((-1,1)))\n",
    "plt.plot(xcgls.reshape((-1,1)))\n",
    "rel_residual = info['relResidual']\n",
    "rel_error = info['relError']"
   ]
  },
  {
   "cell_type": "code",
   "execution_count": 7,
   "metadata": {},
   "outputs": [
    {
     "data": {
      "text/plain": [
       "[<matplotlib.lines.Line2D at 0x7fb0c048ab80>]"
      ]
     },
     "execution_count": 7,
     "metadata": {},
     "output_type": "execute_result"
    },
    {
     "data": {
      "image/png": "[encoded data removed]",
      "text/plain": [
       "<Figure size 432x288 with 1 Axes>"
      ]
     },
     "metadata": {
      "needs_background": "light"
     },
     "output_type": "display_data"
    }
   ],
   "source": [
    "\n",
    "plt.plot(rel_residual)"
   ]
  },
  {
   "cell_type": "code",
   "execution_count": 8,
   "metadata": {},
   "outputs": [
    {
     "data": {
      "text/plain": [
       "[<matplotlib.lines.Line2D at 0x7fb0c057f250>]"
      ]
     },
     "execution_count": 8,
     "metadata": {},
     "output_type": "execute_result"
    },
    {
     "data": {
      "image/png": "[encoded data removed]",
      "text/plain": [
       "<Figure size 432x288 with 1 Axes>"
      ]
     },
     "metadata": {
      "needs_background": "light"
     },
     "output_type": "display_data"
    }
   ],
   "source": [
    "plt.plot(rel_error)"
   ]
  },
  {
   "attachments": {},
   "cell_type": "markdown",
   "metadata": {},
   "source": [
    "#### The test problem when the operator is not built expliictly"
   ]
  },
  {
   "cell_type": "code",
   "execution_count": 9,
   "metadata": {},
   "outputs": [],
   "source": [
    "from trips.solvers.Hybrid_GMRES import *"
   ]
  },
  {
   "cell_type": "code",
   "execution_count": 14,
   "metadata": {},
   "outputs": [
    {
     "name": "stderr",
     "output_type": "stream",
     "text": [
      "running Arnoldi algorithm...: 100%|██████████| 100/100 [00:18<00:00,  5.50it/s]\n",
      "running Arnoldi algorithm...: 100%|██████████| 100/100 [00:00<00:00, 244.54it/s]\n"
     ]
    }
   ],
   "source": [
    "b_vec = b.reshape((-1,1))\n",
    "(x_gmres_gcv, info_gmres_gcv) = Hybrid_GMRES(A, b_vec, n_iter = 100, regparam = 'gcv', delta = delta, x_true = x_true, shape = [64, 64])\n",
    "(x_gmres_dp, info_gmres_dp) = Hybrid_GMRES(A, b_vec, n_iter = 100, regparam = 'dp', delta = delta, x_true = x_true, shape = [64, 64])\n"
   ]
  },
  {
   "cell_type": "code",
   "execution_count": 17,
   "metadata": {},
   "outputs": [
    {
     "data": {
      "text/plain": [
       "[<matplotlib.lines.Line2D at 0x7fb0a1aaaa90>]"
      ]
     },
     "execution_count": 17,
     "metadata": {},
     "output_type": "execute_result"
    },
    {
     "data": {
      "image/png": "[encoded data removed]",
      "text/plain": [
       "<Figure size 432x288 with 1 Axes>"
      ]
     },
     "metadata": {
      "needs_background": "light"
     },
     "output_type": "display_data"
    }
   ],
   "source": [
    "plt.plot(info_gmres_gcv['relError'])\n",
    "plt.plot(info_gmres_dp['relError'])"
   ]
  },
  {
   "cell_type": "code",
   "execution_count": 15,
   "metadata": {},
   "outputs": [
    {
     "data": {
      "text/plain": [
       "[<matplotlib.lines.Line2D at 0x7fb0a17ed7f0>]"
      ]
     },
     "execution_count": 15,
     "metadata": {},
     "output_type": "execute_result"
    },
    {
     "data": {
      "image/png": "[encoded data removed]",
      "text/plain": [
       "<Figure size 432x288 with 1 Axes>"
      ]
     },
     "metadata": {
      "needs_background": "light"
     },
     "output_type": "display_data"
    }
   ],
   "source": [
    "plt.plot(x_gmres_gcv)\n",
    "plt.plot(x_gmres_dp)"
   ]
  },
  {
   "attachments": {},
   "cell_type": "markdown",
   "metadata": {},
   "source": [
    "### Test methods"
   ]
  },
  {
   "attachments": {},
   "cell_type": "markdown",
   "metadata": {},
   "source": [
    "##### 1. CGLS"
   ]
  },
  {
   "cell_type": "code",
   "execution_count": 20,
   "metadata": {},
   "outputs": [
    {
     "data": {
      "text/plain": [
       "[<matplotlib.lines.Line2D at 0x7fb0a1bf1250>]"
      ]
     },
     "execution_count": 20,
     "metadata": {},
     "output_type": "execute_result"
    },
    {
     "data": {
      "image/png": "[encoded data removed]",
      "text/plain": [
       "<Figure size 432x288 with 1 Axes>"
      ]
     },
     "metadata": {
      "needs_background": "light"
     },
     "output_type": "display_data"
    }
   ],
   "source": [
    "(xcgls, info) = TP_cgls(A, b_true, np.zeros((N,1)), 200, 1e-8, x_true)\n",
    "plt.plot(xcgls.reshape(-1,1))"
   ]
  },
  {
   "cell_type": "code",
   "execution_count": 21,
   "metadata": {},
   "outputs": [
    {
     "data": {
      "text/plain": [
       "[<matplotlib.lines.Line2D at 0x7fb0a1c6a6d0>]"
      ]
     },
     "execution_count": 21,
     "metadata": {},
     "output_type": "execute_result"
    },
    {
     "data": {
      "image/png": "[encoded data removed]",
      "text/plain": [
       "<Figure size 432x288 with 1 Axes>"
      ]
     },
     "metadata": {
      "needs_background": "light"
     },
     "output_type": "display_data"
    }
   ],
   "source": [
    "rel_err = info['relError']\n",
    "plt.plot(rel_err)"
   ]
  },
  {
   "attachments": {},
   "cell_type": "markdown",
   "metadata": {},
   "source": [
    "#### 2. Arnoldi Tikhonov"
   ]
  },
  {
   "cell_type": "code",
   "execution_count": 22,
   "metadata": {},
   "outputs": [],
   "source": [
    "(b, delta) = Deblur.add_noise(b_true, 'Gaussian', 0.05) # to be redefined again with the b_true corresponding to Amat"
   ]
  },
  {
   "cell_type": "markdown",
   "metadata": {},
   "source": [
    "#### 3. GKS and MMGKS"
   ]
  },
  {
   "cell_type": "markdown",
   "metadata": {},
   "source": []
  }
 ],
 "metadata": {
  "kernelspec": {
   "display_name": "base",
   "language": "python",
   "name": "python3"
  },
  "language_info": {
   "codemirror_mode": {
    "name": "ipython",
    "version": 3
   },
   "file_extension": ".py",
   "mimetype": "text/x-python",
   "name": "python",
   "nbconvert_exporter": "python",
   "pygments_lexer": "ipython3",
   "version": "3.8.8"
  }
 },
 "nbformat": 4,
 "nbformat_minor": 2
}
