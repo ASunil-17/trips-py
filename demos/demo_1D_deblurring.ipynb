{
 "cells": [
  {
   "cell_type": "code",
   "execution_count": null,
   "metadata": {},
   "outputs": [],
   "source": [
    "#!/usr/bin/env python\n",
    "\"\"\"\n",
    "Demo for 1D Deblurring test problem on a small scale problem\n",
    "--------------------------------------------------------------------------\n",
    "Created in 2023 for TRIPs-Py library\n",
    "\"\"\"\n",
    "__authors__ = \"Mirjeta Pasha, Silvia Gazzola, Connor Sanderford, and Ugochukwu Obinna Ugwu\"\n",
    "__affiliations__ = 'Tufts University, University of Bath, Arizona State University, and Tufts University'\n",
    "__copyright__ = \"Copyright 2023, TRIPs-Py library\"\n",
    "__license__ = \"GPL\"\n",
    "__version__ = \"1.0\"\n",
    "__email__ = \"mirjeta.pasha@tufts.edu; mirjeta.pasha1@gmail.com; sg968@bath.ac.uk; csanderf@asu.edu; connorsanderford@gmail.com; Ugochukwu.Ugwu@tufts.edu\""
   ]
  },
  {
   "cell_type": "code",
   "execution_count": null,
   "metadata": {},
   "outputs": [],
   "source": [
    "import scipy.stats as sps\n",
    "import scipy.io as spio\n",
    "# import matplotlib\n",
    "import matplotlib.pyplot as plt\n",
    "import os\n",
    "# import astra\n",
    "from venv import create\n",
    "# import pylops\n",
    "# from scipy.ndimage import convolve\n",
    "from trips.test_problems.Deblurring1D import *\n",
    "from trips.utilities.operators import *\n",
    "from trips.utilities.helpers import *\n",
    "from trips.solvers.GKS import *\n",
    "from trips.solvers.MMGKS import *\n",
    "from trips.solvers.Tikhonov import Tikhonov\n",
    "from trips.solvers.tSVD import *\n",
    "from trips.solvers.Hybrid_GMRES import *\n",
    "from trips.solvers.Hybrid_LSQR import *"
   ]
  },
  {
   "attachments": {},
   "cell_type": "markdown",
   "metadata": {},
   "source": [
    "#### In this notebook we illustrate how to use the Deblurring1D class. The main features are:\n",
    "1. Define a Deblurring1D problem where the forward operator can be formed explicitly as a matrix\n",
    " - 1.0 We compute the naive solution\n",
    " - 1.1 We show how to compute the SVD and the truncated SVD solution\n",
    " - 1.2 We use regularization methods for computing an approximate solution\n",
    "   - 1.2.1. Hybrid_GMRES\n",
    "   - 1.2.2. MMGKS\n"
   ]
  },
  {
   "cell_type": "markdown",
   "metadata": {},
   "source": [
    "#### 1. Define e Deblurring1D problem where the forward operator can be accessed explicitly as a matrix"
   ]
  },
  {
   "cell_type": "markdown",
   "metadata": {},
   "source": [
    "###### We define an operator, choose an image of any given size and plot the true image and the blurred and noisy data as follows:"
   ]
  },
  {
   "cell_type": "code",
   "execution_count": null,
   "metadata": {},
   "outputs": [],
   "source": [
    "Deblur1D = Deblurring1D(CommitCrime = True)\n",
    "nx = 200\n",
    "x_true = Deblur1D.gen_xtrue(nx, test = 'curve0')\n",
    "## If you would like to create the operator only\n",
    "A = Deblur1D.forward_Op_1D(parameter = 30, nx = nx) \n",
    "## The following creates the data b_true\n",
    "b_true = Deblur1D.gen_data(x_true)\n",
    "(d, delta) = Deblur1D.add_noise(b_true, 'Gaussian', noise_level = 0.02)\n",
    "b_vec = d.reshape((-1,1))\n",
    "Deblur1D.plot_data(d)\n",
    "Deblur1D.plot_rec(x_true)"
   ]
  },
  {
   "cell_type": "code",
   "execution_count": null,
   "metadata": {},
   "outputs": [],
   "source": [
    "plt.plot(x_true, label='x_true')\n",
    "plt.plot(b_vec, label='data')\n",
    "plt.axis('off')\n",
    "plt.legend(bbox_to_anchor=(0., 1.02, 1., .102), loc=3,\n",
    "           ncol=2, mode=\"expand\", borderaxespad=0., fontsize=20)\n",
    "plt.show()"
   ]
  },
  {
   "cell_type": "markdown",
   "metadata": {},
   "source": [
    "##### 1.0. Compute the naive solution"
   ]
  },
  {
   "cell_type": "code",
   "execution_count": null,
   "metadata": {},
   "outputs": [],
   "source": [
    "x_naive = np.linalg.solve(A.todense(), b_vec)\n",
    "# Deblur1D.plot_rec(x_naive)\n",
    "plt.plot(x_true, label='x_true')\n",
    "plt.plot(x_naive, label='x_naive')\n",
    "plt.axis('off')\n",
    "plt.legend(bbox_to_anchor=(0., 1.02, 1., .102), loc=3,\n",
    "           ncol=2, mode=\"expand\", borderaxespad=0., fontsize=20)\n",
    "plt.show()"
   ]
  },
  {
   "cell_type": "markdown",
   "metadata": {},
   "source": [
    "###### Display the true image, the blurred image, the blurred and noisy image, and the naive reconstructed solution"
   ]
  },
  {
   "cell_type": "code",
   "execution_count": null,
   "metadata": {},
   "outputs": [],
   "source": [
    "plt.plot(d)\n",
    "plt.set_cmap('inferno')\n",
    "plt.axis('off')"
   ]
  },
  {
   "cell_type": "markdown",
   "metadata": {},
   "source": [
    "##### 1.1. Compute the SVD of the operartor $A$ and plot the singlar values and the singular vectors\n",
    "###### If the parameter is 'A' then we give the full operator to the function plot_singular_values_svd. The SVD is then computed and the singlar values are plotted. If the parameter is 'S' then we have precomputed the SVD from which we have S and the function plot_singular_values_svd will only plot the singular values. The same applies for plotting the singular vectors. If the operaror is not given, we give the matrix V."
   ]
  },
  {
   "cell_type": "code",
   "execution_count": null,
   "metadata": {},
   "outputs": [],
   "source": [
    "# If the operator is sparse, we convert it to dense A.todense()\n",
    "plot_singular_values_svd(Operator = A , parameter = 'A')\n",
    "# If the operator is in the matrix form, but very large and sparse, the following commands can be used to compute the SVD\n",
    "# import scipy\n",
    "# [U, S, V] = scipy.sparse.linalg.svds(A, 100)\n",
    "# 100 defines the number of singular values to be computed"
   ]
  },
  {
   "cell_type": "markdown",
   "metadata": {},
   "source": [
    "##### 1.1. Compute the truncated SVD solution of a problem by specifying how many singular values you want to keep after truncation"
   ]
  },
  {
   "cell_type": "code",
   "execution_count": null,
   "metadata": {},
   "outputs": [],
   "source": [
    "# truncated_value = 100\n",
    "b_vec = d.reshape((-1,1))\n",
    "(x_tsvd, truncated_value) = tSVD_sol(A.todense(), b_vec, regparam = 'gcv', delta = delta)\n",
    "plt.plot(x_true, label='x_true')\n",
    "plt.plot(x_tsvd, label='tSVD')\n",
    "plt.axis('off')\n",
    "plt.legend(bbox_to_anchor=(0., 1.02, 1., .102), loc=3,\n",
    "           ncol=2, mode=\"expand\", borderaxespad=0., fontsize=20)\n",
    "plt.show()"
   ]
  },
  {
   "cell_type": "code",
   "execution_count": null,
   "metadata": {},
   "outputs": [],
   "source": [
    "truncated_value"
   ]
  },
  {
   "cell_type": "markdown",
   "metadata": {},
   "source": [
    "- 1.2 We use regularization methods for computing an approximate solution\n",
    "   - 1.2.1. Hybrid_GMRES\n",
    "   - 1.2.2. Hybrid_LSQR\n",
    "   - 1.2.3. MMGKS"
   ]
  },
  {
   "cell_type": "markdown",
   "metadata": {},
   "source": [
    "##### Illustrate the ill-posedness of some inverse problem examples and show the need for regularization\n",
    "<p>In this example we illustrate the following:\n",
    "\n",
    "Solve the regularized problem with Hybrid_GMRES, Hybrid_LSQR\n",
    "\n",
    "$\\|\\mathbf A{\\mathbf x} - {\\mathbf b}\\|^2_2 + \\lambda \\|\\mathbf L\\mathbf x\\|_2^2$ with $\\mathbf L$ is the discretization of the two-dimensional first derivative operator for GKS and $L = I$ for Hybrid_lsqr, for an computed value of the regularization parameter $\\lambda$. \n"
   ]
  },
  {
   "cell_type": "code",
   "execution_count": null,
   "metadata": {},
   "outputs": [],
   "source": [
    "b_vec = d.reshape((-1,1))\n",
    "(x_hybrid_gmres, info_hybrid_gmres) = Hybrid_GMRES(A, b_vec, n_iter = 100, regparam = 'dp', x_true = x_true, delta = delta)"
   ]
  },
  {
   "attachments": {},
   "cell_type": "markdown",
   "metadata": {},
   "source": [
    "Solve the regularized problem with MMGKS\n",
    "\n",
    "$\\|\\mathbf A{\\mathbf x} - {\\mathbf b}\\|_2 + \\lambda \\|\\mathbf L\\mathbf x\\|_q$ with $\\mathbf L$ is the discretization of the two-dimensional first derivative operator, for an optimal value of $\\lambda$. The value of $q$ can be choosen from (0, 2]."
   ]
  },
  {
   "cell_type": "code",
   "execution_count": null,
   "metadata": {},
   "outputs": [],
   "source": [
    "L = first_derivative_operator(nx)\n",
    "def gsvd_tik_sol(A,L,b_vec,mu):\n",
    "    U, _, Z, C, S = gsvd(A,L) \n",
    "    Y = np.linalg.inv(Z.T)\n",
    "    xsol = Y@np.linalg.inv(C.T@C+mu*S.T@S)@C.T@(U.T@b_vec)\n",
    "    return xsol\n",
    "# mu = 0.0001\n",
    "mu= 0.001\n",
    "xsolgsvd1 = gsvd_tik_sol(A.todense(),L.todense(),b_vec,mu)\n",
    "\n",
    "mu = 10\n",
    "xsolgsvd2 = gsvd_tik_sol(A.todense(),L.todense(),b_vec,mu)\n",
    "\n",
    "plt.plot(x_true, label='x_true')\n",
    "# plt.plot(xsolgsvd1,label='gsvd') # this is essentially b_vec\n",
    "plt.plot(xsolgsvd2,label='gsvd') # this is essentially b_vec\n",
    "# plt.axis('off')\n",
    "plt.legend(bbox_to_anchor=(0., 1.02, 1., .102), loc=3,\n",
    "           ncol=2, mode=\"expand\", borderaxespad=0., fontsize=15)\n",
    "plt.show()\n"
   ]
  },
  {
   "cell_type": "code",
   "execution_count": null,
   "metadata": {},
   "outputs": [],
   "source": [
    "print(L.todense)"
   ]
  },
  {
   "cell_type": "code",
   "execution_count": null,
   "metadata": {},
   "outputs": [],
   "source": [
    "L = gen_first_derivative_operator(nx)\n",
    "L = L.todense()\n",
    "L = np.vstack((L, np.zeros((1,nx))))\n",
    "print(L.shape)\n",
    "print(L)"
   ]
  },
  {
   "cell_type": "code",
   "execution_count": null,
   "metadata": {},
   "outputs": [],
   "source": [
    "U, _, Z, C, S = gsvd(A.todense(),L) "
   ]
  },
  {
   "cell_type": "code",
   "execution_count": null,
   "metadata": {},
   "outputs": [],
   "source": [
    "# def gsvd(A, B):\n",
    "#     vm1, p = A.shape\n",
    "#     vm2, p = B.shape\n",
    "#     if not (vm1 == vm2 and vm1 >= vm2 >= p):\n",
    "#         raise ValueError(\"Invalid input dimensions. A should be of size mxp, and B should be of size nxp with m >= n >= p.\")\n",
    "#     QA, A = np.linalg.qr(A,'reduced')\n",
    "#     m = p\n",
    "#     QB, B = np.linalg.qr(B,'reduced')\n",
    "#     n = p\n",
    "#     Q, R = np.linalg.qr(np.concatenate((A, B),axis=0),'reduced')\n",
    "#     U, V, Z, C, S = csd(Q[:m, :], Q[m:m+n, :])\n",
    "#     X = R.T @ Z\n",
    "#     U = QA @ U\n",
    "#     V = QB @ V\n",
    "#     return U, V, X, C, S\n",
    "# def csd(Q1, Q2):\n",
    "#     m, p = Q1.shape\n",
    "#     n = Q2.shape[0]\n",
    "#     U, C, Z = np.linalg.svd(Q1)\n",
    "#     C = np.diag(C)\n",
    "#     Z = Z.T\n",
    "#     q = min(m, p)\n",
    "#     i = np.arange(q)\n",
    "#     j = np.arange(q-1, -1, -1)\n",
    "#     C[i, i] = C[j, j]\n",
    "#     U[:, i] = U[:, j]\n",
    "#     Z[:, i] = Z[:, j]\n",
    "#     S = Q2 @ Z\n",
    "#     k = np.max(np.concatenate(([0], 1+np.where(np.diag(C) <= 1/np.sqrt(2))[0])))\n",
    "#     V, _ = np.linalg.qr(S[:,:k],'complete')\n",
    "#     S = V.T @ S\n",
    "#     r = min(k, m)\n",
    "#     S[:, :r] = diagf(S[:, :r])\n",
    "#     if k < min(n, p):\n",
    "#         r = min(n, p)\n",
    "#         i = np.arange(k, n)\n",
    "#         j = np.arange(k, r)\n",
    "#         UT, ST, VT = np.linalg.svd(S[np.ix_(i, j)])\n",
    "#         ST = np.diag(ST)\n",
    "#         if k > 0:\n",
    "#             S[:k, j] = 0\n",
    "#         S[np.ix_(i,j)] = ST\n",
    "#         C[:, j] = C[:, j] @ VT.T\n",
    "#         V[:, i] = V[:, i] @ UT\n",
    "#         Z[:, j] = Z[:, j] @ VT.T\n",
    "#         i = np.arange(k, q)\n",
    "#         Q, R = np.linalg.qr(C[np.ix_(i, j)])\n",
    "#         C[np.ix_(i, j)] = diagf(R)\n",
    "#         U[:, i] = U[:, i] @ Q\n",
    "#     print(U.shape)\n",
    "#     print(C.shape)\n",
    "#     print(max(0, p - m))\n",
    "#     U, C = diagp(U, C, max(0, p - m))\n",
    "#     C = np.real(C)\n",
    "#     V, S = diagp(V, S, 0)\n",
    "#     S = np.real(S)\n",
    "#     return U, V, Z, C, S\n",
    "# def diagk(X, k):\n",
    "#     if not np.isscalar(X) and not np.isscalar(k):\n",
    "#         m, n = X.shape\n",
    "#         if k >= 0:\n",
    "#             diag_len = min(n - k, m)\n",
    "#             diag = X[:diag_len, k:k+diag_len]\n",
    "#         else:\n",
    "#             diag_len = min(m + k, n)\n",
    "#             diag = X[-k:-k+diag_len, :diag_len]\n",
    "#     else:\n",
    "#         diag = np.diagonal(X, k)\n",
    "#     return diag.flatten()\n",
    "# def diagf(X):\n",
    "#     return np.triu(np.tril(X))\n",
    "# def diagp(Y, X, k):\n",
    "#     D = diagk(X, k)\n",
    "#     j = np.where(np.real(D) < 0) or np.where(np.imag(D) != 0)\n",
    "#     j = np.asarray(j, dtype=int).flatten()\n",
    "#     D = np.diag(np.conj(D[j]) / np.abs(D[j]))\n",
    "#     print('np.ix_(j)')\n",
    "#     print(np.ix_(j))\n",
    "#     print(np.ix_(j)[0])\n",
    "#     print('Y[:, np.ix_(j)[0]].shape')\n",
    "#     print(Y[:, np.ix_(j)[0]].shape)\n",
    "#     print('(Y[:, np.ix_(j)] @ D.T).shape')\n",
    "#     print((Y[:, np.ix_(j)] @ D.T).shape)\n",
    "#     print('(np.matmul(Y[:, np.ix_(j)], D.T)).shape')\n",
    "#     print((np.matmul(Y[:, np.ix_(j)], D.T)).shape)\n",
    "#     print('(D.T).shape')\n",
    "#     print((D.T).shape)\n",
    "#     Y[:, np.ix_(j)[0]] = np.matmul(Y[:, np.ix_(j)], D.T)\n",
    "#     X[j, :] = D @ X[j, :]\n",
    "#     X = X + 0  # Use \"+0\" to set possible -0 elements to 0\n",
    "#     return Y, X"
   ]
  },
  {
   "cell_type": "code",
   "execution_count": null,
   "metadata": {},
   "outputs": [],
   "source": [
    "def gsvd_tik_sol(A,L,b_vec,mu):\n",
    "    U, _, Z, C, S = gsvd(A,L) \n",
    "    Y = np.linalg.inv(Z.T)\n",
    "    xsol = Y@np.linalg.inv(C.T@C+mu*S.T@S)@C.T@(U.T@b_vec)\n",
    "    return xsol\n",
    "\n",
    "mu= 0.001\n",
    "xsolgsvd1 = gsvd_tik_sol(A.todense(),L,b_vec,mu)"
   ]
  },
  {
   "cell_type": "code",
   "execution_count": null,
   "metadata": {},
   "outputs": [],
   "source": [
    "from trips.solvers.Tikhonov import Tikhonov\n",
    "# L = np.eye(int(A.shape[1]))\n",
    "# L = first_derivative_operator(nx)\n",
    "L = gen_first_derivative_operator(nx)\n",
    "L = L.todense()\n",
    "L = np.vstack((L, np.zeros((1,nx))))\n",
    "# print(L)\n",
    "x_Tikh, lambda_Tikh = Tikhonov(A, b_vec, L, x_true, regparam = 0.02)\n",
    "plt.plot(x_Tikh)\n",
    "xsolgsvd1 = gsvd_tik_sol(A.todense(),L,b_vec,0.02)\n",
    "plt.plot(xsolgsvd1)"
   ]
  },
  {
   "cell_type": "code",
   "execution_count": null,
   "metadata": {},
   "outputs": [],
   "source": [
    "L = first_derivative_operator(nx)\n",
    "plt.plot(L@x_true)"
   ]
  },
  {
   "cell_type": "code",
   "execution_count": null,
   "metadata": {},
   "outputs": [],
   "source": [
    "L = first_derivative_operator(6)\n",
    "xx = np.ones((6,1))\n",
    "print(xx.shape)\n",
    "yy = L@xx\n",
    "print(yy)"
   ]
  },
  {
   "cell_type": "code",
   "execution_count": null,
   "metadata": {},
   "outputs": [],
   "source": [
    "plt.plot(x_Tikh)"
   ]
  },
  {
   "cell_type": "code",
   "execution_count": null,
   "metadata": {},
   "outputs": [],
   "source": [
    "from trips.solvers.tGSVD import *"
   ]
  },
  {
   "cell_type": "code",
   "execution_count": null,
   "metadata": {},
   "outputs": [],
   "source": [
    "from trips.utilities.decompositions import gsvd\n",
    "from numpy import linalg as LA\n",
    "U, V, X, C, S = gsvd(A.todense(), L.todense())\n",
    "print(U.shape)\n",
    "print(X.shape)\n",
    "print(C.shape)\n",
    "print(LA.norm(A.todense() - U@C@X.T))"
   ]
  },
  {
   "cell_type": "code",
   "execution_count": null,
   "metadata": {},
   "outputs": [],
   "source": [
    "def tgsvd_sol(A,L,b_vec,k):\n",
    "    U, _, Z, C, S = gsvd(A,L) \n",
    "    Y = np.linalg.inv(Z.T)\n",
    "    xsol = Y[:,-k:]@np.linalg.inv(C[-k:,-k:])@(U[:,-k:].T@b_vec)\n",
    "    return xsol\n",
    "xsolgsvd = tgsvd_sol(A.todense(),L,b_vec,8)"
   ]
  },
  {
   "cell_type": "code",
   "execution_count": null,
   "metadata": {},
   "outputs": [],
   "source": [
    "plt.plot(xsolgsvd)"
   ]
  },
  {
   "cell_type": "code",
   "execution_count": null,
   "metadata": {},
   "outputs": [],
   "source": [
    "U, _, Z, C, S = gsvd(A.todense(),L) \n",
    "Y = np.linalg.inv(Z.T)\n",
    "Y = np.linalg.inv(Z.T)"
   ]
  },
  {
   "cell_type": "code",
   "execution_count": null,
   "metadata": {},
   "outputs": [],
   "source": [
    "plt.plot(Y[:,190])"
   ]
  },
  {
   "cell_type": "code",
   "execution_count": null,
   "metadata": {},
   "outputs": [],
   "source": [
    "plt.plot(x_true, label='x_true')\n",
    "plt.plot(xsolgsvd,label='tGSVD')"
   ]
  },
  {
   "cell_type": "code",
   "execution_count": null,
   "metadata": {},
   "outputs": [],
   "source": [
    "# for i in range(30):\n",
    "(xtGSVD, k) = tGSVD_sol(A.todense(), L.todense(), b_vec, regparam = 10)\n",
    "plt.plot(x_true)\n",
    "plt.plot(xtGSVD)"
   ]
  },
  {
   "cell_type": "code",
   "execution_count": null,
   "metadata": {},
   "outputs": [],
   "source": [
    "(xtGSVD, k) = tGSVD_sol(A.todense(), L.todense(), b_vec, regparam = 'gcv', delta = delta)"
   ]
  },
  {
   "cell_type": "code",
   "execution_count": null,
   "metadata": {},
   "outputs": [],
   "source": [
    "plt.plot(x_true, label='x_true')\n",
    "plt.plot(xtGSVD,label='tGSVD')\n",
    "plt.axis('off')\n",
    "plt.legend(bbox_to_anchor=(0., 1.02, 1., .102), loc=3,\n",
    "           ncol=2, mode=\"expand\", borderaxespad=0., fontsize=20)\n",
    "plt.show()"
   ]
  },
  {
   "cell_type": "code",
   "execution_count": null,
   "metadata": {},
   "outputs": [],
   "source": [
    "# Compute a solution by GKS\n",
    "# Define a derivative operator as a regularization operator\n",
    "L = first_derivative_operator(nx)\n",
    "data_vec = d.reshape((-1,1))\n",
    "# Use GKS to compute an approximate solution\n",
    "(x_mmgks, info_mmgks) = MMGKS(A, data_vec, L, pnorm=2, qnorm=1, projection_dim=1, n_iter = 100, regparam = 'gcv', x_true = x_true.reshape(-1,1), delta = delta)"
   ]
  },
  {
   "cell_type": "code",
   "execution_count": null,
   "metadata": {},
   "outputs": [],
   "source": [
    "print(info_mmgks)"
   ]
  },
  {
   "cell_type": "code",
   "execution_count": null,
   "metadata": {},
   "outputs": [],
   "source": [
    "plt.semilogy(info_mmgks['relError'])\n",
    "# plt.plot(info_hybrid_lsqr['relError'])\n",
    "plt.semilogy(info_hybrid_gmres['relError'])"
   ]
  },
  {
   "cell_type": "code",
   "execution_count": null,
   "metadata": {},
   "outputs": [],
   "source": [
    "plt.semilogy(info_mmgks['regParam_history'])\n",
    "# plt.plot(info_hybrid_lsqr['relError'])\n",
    "plt.semilogy(info_hybrid_gmres['regParam_history'])"
   ]
  },
  {
   "cell_type": "code",
   "execution_count": null,
   "metadata": {},
   "outputs": [],
   "source": [
    "plot_x_true = plt.plot(x_true, label = 'x_true')\n",
    "plot_tsvd = plt.plot(d, label = 'data')\n",
    "plt.legend(bbox_to_anchor=(0., 1.02, 1., .102), loc=3,\n",
    "           ncol=2, mode=\"expand\", borderaxespad=0., fontsize=15)\n",
    "plt.axis('off')\n",
    "plt.show()"
   ]
  },
  {
   "cell_type": "code",
   "execution_count": null,
   "metadata": {},
   "outputs": [],
   "source": [
    "plot_x_true = plt.plot(x_true, label = 'x_true')\n",
    "plot_tsvd = plt.plot(x_tsvd, label = 'x_tsvd')\n",
    "plt.legend(bbox_to_anchor=(0., 1.02, 1., .102), loc=3,\n",
    "           ncol=2, mode=\"expand\", borderaxespad=0., fontsize=15)\n",
    "plt.axis('off')\n",
    "plt.show()"
   ]
  },
  {
   "cell_type": "code",
   "execution_count": null,
   "metadata": {},
   "outputs": [],
   "source": [
    "plot_x_true = plt.plot(x_true, label = 'x_true')\n",
    "plot_hybrid_gmres = plt.plot(x_hybrid_gmres, label = 'Hybrid_GMRES')\n",
    "plt.legend(bbox_to_anchor=(0., 1.02, 1., .102), loc=3,\n",
    "           ncol=2, mode=\"expand\", borderaxespad=0., fontsize=15)\n",
    "plt.axis('off')\n",
    "plt.show()"
   ]
  },
  {
   "cell_type": "code",
   "execution_count": null,
   "metadata": {},
   "outputs": [],
   "source": [
    "plot_tsvd = plt.plot(x_true, label='x_true')\n",
    "plot_mmgks = plt.plot(x_mmgks, label='MMGKS')\n",
    "plot_mmgks = plt.plot(info_mmgks['xHistory'][20])\n",
    "plt.legend(bbox_to_anchor=(0., 1.02, 1., .102), loc=3,\n",
    "           ncol=2, mode=\"expand\", borderaxespad=0., fontsize=15)\n",
    "plt.axis('off')\n",
    "plt.show()"
   ]
  },
  {
   "cell_type": "code",
   "execution_count": null,
   "metadata": {},
   "outputs": [],
   "source": [
    "print(info_mmgks['xHistory'][2])"
   ]
  },
  {
   "cell_type": "code",
   "execution_count": null,
   "metadata": {},
   "outputs": [],
   "source": [
    "plot_tsvd = plt.plot(x_true, label='x_true')\n",
    "plot_mmgks = plt.plot(x_naive, label='x_naive')\n",
    "plt.legend(bbox_to_anchor=(0., 1.02, 1., .102), loc=3,\n",
    "           ncol=2, mode=\"expand\", borderaxespad=0., fontsize=15)\n",
    "plt.axis('off')\n",
    "plt.show()"
   ]
  },
  {
   "cell_type": "code",
   "execution_count": null,
   "metadata": {},
   "outputs": [],
   "source": [
    "from trips.solvers.Tikhonov import Tikhonov\n",
    "L = np.eye(int(A.shape[1]))\n",
    "x_Tikh, lambda_Tikh = Tikhonov(A, b_vec, L, x_true, regparam = 'gcv')"
   ]
  },
  {
   "cell_type": "code",
   "execution_count": null,
   "metadata": {},
   "outputs": [],
   "source": [
    "plt.plot(x_true, label='x_true')\n",
    "plt.plot(x_Tikh, label='Tikhonov')"
   ]
  },
  {
   "cell_type": "code",
   "execution_count": null,
   "metadata": {},
   "outputs": [],
   "source": []
  }
 ],
 "metadata": {
  "kernelspec": {
   "display_name": "Python 3.9.13 ('astra')",
   "language": "python",
   "name": "python3"
  },
  "language_info": {
   "codemirror_mode": {
    "name": "ipython",
    "version": 3
   },
   "file_extension": ".py",
   "mimetype": "text/x-python",
   "name": "python",
   "nbconvert_exporter": "python",
   "pygments_lexer": "ipython3",
   "version": "3.8.8"
  },
  "orig_nbformat": 4,
  "vscode": {
   "interpreter": {
    "hash": "5c9317e8d06534dfae8def48598ba50df751f1c444e7b6e1bc25975e6eff12bd"
   }
  }
 },
 "nbformat": 4,
 "nbformat_minor": 2
}
