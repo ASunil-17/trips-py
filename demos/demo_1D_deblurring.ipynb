{
 "cells": [
  {
   "cell_type": "code",
   "execution_count": null,
   "metadata": {},
   "outputs": [],
   "source": [
    "#!/usr/bin/env python\n",
    "\"\"\"\n",
    "Definition of test problems\n",
    "--------------------------------------------------------------------------\n",
    "Created July 4, 2023 for TRIPs-Py library\n",
    "\"\"\"\n",
    "__authors__ = \"Mirjeta Pasha and Connor Sanderford\"\n",
    "__copyright__ = \"Copyright 2022, TRIPs-Py library\"\n",
    "__license__ = \"GPL\"\n",
    "__version__ = \"0.1\"\n",
    "__maintainer__ = \"Mirjeta Pasha and Connor Sanderford\"\n",
    "__email__ = \"mirjeta.pasha@tufts.edu; mirjeta.pasha1@gmail.com and csanderf@asu.edu; connorsanderford@gmail.com\""
   ]
  },
  {
   "cell_type": "code",
   "execution_count": 1,
   "metadata": {},
   "outputs": [],
   "source": [
    "from trips.testProblems import *\n",
    "from trips.solvers.CGLS import *\n",
    "#from trips.solvers.arnoldi_tikhonov import *\n",
    "from trips.solvers.Hybrid_GMRES import *\n",
    "from trips.solvers.Tikhonov import *\n",
    "from trips.solvers.GMRES import *\n",
    "from trips.solvers.golub_kahan_tikhonov import *"
   ]
  },
  {
   "attachments": {},
   "cell_type": "markdown",
   "metadata": {},
   "source": [
    "#### The test problem when the operator is not built expliictly"
   ]
  },
  {
   "cell_type": "code",
   "execution_count": 2,
   "metadata": {},
   "outputs": [
    {
     "data": {
      "text/plain": [
       "[<matplotlib.lines.Line2D at 0x7fda38b4ee50>]"
      ]
     },
     "execution_count": 2,
     "metadata": {},
     "output_type": "execute_result"
    },
    {
     "data": {
      "image/png": "[encoded data removed]",
      "text/plain": [
       "<Figure size 640x480 with 1 Axes>"
      ]
     },
     "metadata": {},
     "output_type": "display_data"
    }
   ],
   "source": [
    "D1D = Deblurring1D()\n",
    "N = 64\n",
    "x_true = D1D.gen_xtrue(N, test = 'piecewise')\n",
    "## If you would like to create the operator only\n",
    "A = D1D.forward_Op_1D(x_true, blur_type = 'Gaussian', parameter = 0.4) \n",
    "## The following creates the data b_true\n",
    "b_true = D1D.gen_data(x_true, blur_type = 'Gaussian', parameter = 0.4)\n",
    "(b, delta) = D1D.add_noise(b_true, 'Gaussian', 0.05)\n",
    "plt.plot(x_true)"
   ]
  },
  {
   "attachments": {},
   "cell_type": "markdown",
   "metadata": {},
   "source": [
    "### Test a methods"
   ]
  },
  {
   "attachments": {},
   "cell_type": "markdown",
   "metadata": {},
   "source": [
    "##### 1. CGLS"
   ]
  },
  {
   "cell_type": "code",
   "execution_count": null,
   "metadata": {},
   "outputs": [],
   "source": [
    "(xcgls, info) = TP_cgls(A, b_true, A.T@b, 20, 1e-3, x_true.reshape((-1,1)))\n",
    "plt.plot(xcgls.reshape((-1,1)))\n",
    "rel_residual = info['relResidual']\n",
    "rel_error = info['relError']"
   ]
  },
  {
   "cell_type": "code",
   "execution_count": null,
   "metadata": {},
   "outputs": [],
   "source": [
    "\n",
    "plt.plot(rel_residual)"
   ]
  },
  {
   "cell_type": "code",
   "execution_count": null,
   "metadata": {},
   "outputs": [],
   "source": [
    "plt.plot(rel_error)"
   ]
  },
  {
   "attachments": {},
   "cell_type": "markdown",
   "metadata": {},
   "source": [
    "#### The test problem when the operator is not built expliictly"
   ]
  },
  {
   "cell_type": "code",
   "execution_count": null,
   "metadata": {},
   "outputs": [],
   "source": [
    "b_vec = b.reshape((-1,1))\n",
    "xarnoldi_tikhonov = hybrid_gmres(A, b_vec, n_iter = 9, regparam = 'gcv', delta = delta, shape = [64, 64])[0]\n",
    "outpgcv = hybrid_gmres(A, b_vec, n_iter = 9, regparam = 'gcv', delta = delta, shape = [64, 64])\n",
    "regpgcv = outpgcv[3]\n",
    "print(regpgcv)\n",
    "#plt.plot(xarnoldi_tikhonov)"
   ]
  },
  {
   "cell_type": "code",
   "execution_count": 3,
   "metadata": {},
   "outputs": [
    {
     "name": "stdout",
     "output_type": "stream",
     "text": [
      "0.12303663062755602\n",
      "0.123036630627556\n"
     ]
    }
   ],
   "source": [
    "from scipy import linalg as la\n",
    "b_vec = b.reshape((-1,1))\n",
    "print(delta)\n",
    "deltavar = la.norm(b_vec.reshape((-1,1)) - b_true.reshape((-1,1)))\n",
    "print(deltavar)"
   ]
  },
  {
   "cell_type": "code",
   "execution_count": null,
   "metadata": {},
   "outputs": [],
   "source": [
    "xarnoldi_tikhonov_dp = hybrid_gmres(A, b_vec, n_iter = 9, regparam = 'dp', delta = deltavar, shape = [64, 64])[0]\n",
    "outpdp = hybrid_gmres(A, b_vec, n_iter = 9, regparam = 'dp', delta = deltavar, shape = [64, 64])\n",
    "regpdp = outpdp[3]\n",
    "print(regpdp)\n",
    "\n",
    "# plt.plot(xarnoldi_tikhonov)"
   ]
  },
  {
   "cell_type": "code",
   "execution_count": null,
   "metadata": {},
   "outputs": [],
   "source": [
    "# plt.plot(xarnoldi_tikhonov)\n",
    "plt.plot(xarnoldi_tikhonov_dp)\n",
    "plt.plot(xarnoldi_tikhonov_dpvar)"
   ]
  },
  {
   "cell_type": "code",
   "execution_count": null,
   "metadata": {},
   "outputs": [],
   "source": [
    "xarnoldi_tikhonov_dpvar = hybrid_gmres(A, b_vec, n_iter = 9, regparam = 'dp', dp_stop = True, delta = deltavar, shape = [64, 64])[0]\n",
    "outpdpvar = hybrid_gmres(A, b_vec, n_iter = 9, regparam = 'dp', dp_stop = True, delta = deltavar, shape = [64, 64])\n",
    "regpdpvar = outpdpvar[3]\n",
    "print(regpdpvar)"
   ]
  },
  {
   "attachments": {},
   "cell_type": "markdown",
   "metadata": {},
   "source": [
    "#### The test problem when the operator is built expliictly"
   ]
  },
  {
   "cell_type": "code",
   "execution_count": null,
   "metadata": {},
   "outputs": [],
   "source": [
    "# The operator A is built as a matrix\n",
    "## Note: The parameters defining the operators are different, hence different reconstructions\n",
    "Amat = D1D.forward_Op_matrix_1D(3, N)"
   ]
  },
  {
   "cell_type": "code",
   "execution_count": null,
   "metadata": {},
   "outputs": [],
   "source": [
    "b_true = Amat@x_true\n",
    "plt.plot(x_true)\n",
    "D1D.plot_data(b_true)"
   ]
  },
  {
   "attachments": {},
   "cell_type": "markdown",
   "metadata": {},
   "source": [
    "### Test methods"
   ]
  },
  {
   "attachments": {},
   "cell_type": "markdown",
   "metadata": {},
   "source": [
    "##### 1. CGLS"
   ]
  },
  {
   "cell_type": "code",
   "execution_count": null,
   "metadata": {},
   "outputs": [],
   "source": [
    "(xcgls, info) = TP_cgls(Amat, b_true, np.zeros((N,1)), 200, 1e-8, x_true)\n",
    "plt.plot(xcgls.reshape(-1,1))"
   ]
  },
  {
   "cell_type": "code",
   "execution_count": null,
   "metadata": {},
   "outputs": [],
   "source": [
    "rel_err = info['relError']\n",
    "plt.plot(rel_err)"
   ]
  },
  {
   "attachments": {},
   "cell_type": "markdown",
   "metadata": {},
   "source": [
    "#### 2. Arnoldi Tikhonov"
   ]
  },
  {
   "cell_type": "code",
   "execution_count": null,
   "metadata": {},
   "outputs": [],
   "source": [
    "reg_param"
   ]
  },
  {
   "cell_type": "code",
   "execution_count": null,
   "metadata": {},
   "outputs": [],
   "source": [
    "(b, delta) = D1D.add_noise(b_true, 'Gaussian', 0.05) # to be redefined again with the b_true corresponding to Amat"
   ]
  },
  {
   "cell_type": "code",
   "execution_count": null,
   "metadata": {},
   "outputs": [],
   "source": [
    "from scipy import linalg as la\n",
    "print(delta)\n",
    "# print(la.norm(b.reshape((-1,1)) - b_true.reshape((-1,1))))\n",
    "deltavar = la.norm(b.reshape((-1,1)) - b_true.reshape((-1,1)))"
   ]
  },
  {
   "cell_type": "code",
   "execution_count": null,
   "metadata": {},
   "outputs": [],
   "source": [
    "b_vec = b.reshape((-1,1))\n",
    "(xarnoldi_tikhonov, reg_param) = hybrid_gmres(Amat, b_vec, n_iter = 20, regparam = 'dp', delta = delta)\n",
    "# plt.plot(xarnoldi_tikhonov)"
   ]
  },
  {
   "cell_type": "code",
   "execution_count": null,
   "metadata": {},
   "outputs": [],
   "source": [
    "print(la.norm(Amat@xarnoldi_tikhonov - b_vec.reshape((-1,1))))\n",
    "print(reg_param)"
   ]
  },
  {
   "attachments": {},
   "cell_type": "markdown",
   "metadata": {},
   "source": [
    "### 3. Golub-Kahan Tikhonov"
   ]
  },
  {
   "cell_type": "code",
   "execution_count": null,
   "metadata": {},
   "outputs": [],
   "source": [
    "b_vec = b.reshape((-1,1))\n",
    "(xgolub_kahan_tikhonov, reg_param) = golub_kahan_tikhonov(Amat, b_vec, n_iter = 10, regparam = 'gcv', delta = delta)\n",
    "plt.plot(xgolub_kahan_tikhonov)"
   ]
  },
  {
   "attachments": {},
   "cell_type": "markdown",
   "metadata": {},
   "source": [
    "#### 4. GMRES\n"
   ]
  },
  {
   "cell_type": "code",
   "execution_count": null,
   "metadata": {},
   "outputs": [],
   "source": [
    "xgmres = GMRES(A, b, n_iter = 2, dp_stop = 0)"
   ]
  },
  {
   "cell_type": "code",
   "execution_count": null,
   "metadata": {},
   "outputs": [],
   "source": [
    "plt.plot(xgmres)"
   ]
  },
  {
   "cell_type": "code",
   "execution_count": null,
   "metadata": {},
   "outputs": [],
   "source": [
    "## Define the regularization operator as a matrix here"
   ]
  },
  {
   "cell_type": "code",
   "execution_count": null,
   "metadata": {},
   "outputs": [],
   "source": [
    "from trips.operators import *"
   ]
  },
  {
   "cell_type": "code",
   "execution_count": null,
   "metadata": {},
   "outputs": [],
   "source": [
    "def generate_first_derivative_operator_matrix(n):\n",
    "\n",
    "    D = sparse.spdiags( data=np.ones(n-1) , diags=-1, m=n, n=n)\n",
    "    L = sparse.identity(n)-D\n",
    "    L = L[0:-1, :]\n",
    "\n",
    "    return L"
   ]
  },
  {
   "cell_type": "code",
   "execution_count": null,
   "metadata": {},
   "outputs": [],
   "source": [
    "L = generate_first_derivative_operator_matrix(4)\n",
    "L.todense()"
   ]
  },
  {
   "cell_type": "code",
   "execution_count": null,
   "metadata": {},
   "outputs": [],
   "source": [
    "LL = generate_first_derivative_operator_2d_matrix(3,3)"
   ]
  }
 ],
 "metadata": {
  "kernelspec": {
   "display_name": "base",
   "language": "python",
   "name": "python3"
  },
  "language_info": {
   "codemirror_mode": {
    "name": "ipython",
    "version": 3
   },
   "file_extension": ".py",
   "mimetype": "text/x-python",
   "name": "python",
   "nbconvert_exporter": "python",
   "pygments_lexer": "ipython3",
   "version": "3.8.8"
  }
 },
 "nbformat": 4,
 "nbformat_minor": 2
}
