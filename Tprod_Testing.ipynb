{
 "cells": [
  {
   "cell_type": "code",
   "execution_count": 1,
   "metadata": {},
   "outputs": [
    {
     "name": "stdout",
     "output_type": "stream",
     "text": [
      "Requirement already satisfied: pandas in /opt/miniconda3/envs/ip_trips/lib/python3.9/site-packages (2.2.3)\n",
      "Requirement already satisfied: numpy>=1.22.4 in /opt/miniconda3/envs/ip_trips/lib/python3.9/site-packages (from pandas) (1.26.4)\n",
      "Requirement already satisfied: python-dateutil>=2.8.2 in /opt/miniconda3/envs/ip_trips/lib/python3.9/site-packages (from pandas) (2.9.0.post0)\n",
      "Requirement already satisfied: pytz>=2020.1 in /opt/miniconda3/envs/ip_trips/lib/python3.9/site-packages (from pandas) (2025.1)\n",
      "Requirement already satisfied: tzdata>=2022.7 in /opt/miniconda3/envs/ip_trips/lib/python3.9/site-packages (from pandas) (2025.1)\n",
      "Requirement already satisfied: six>=1.5 in /opt/miniconda3/envs/ip_trips/lib/python3.9/site-packages (from python-dateutil>=2.8.2->pandas) (1.16.0)\n"
     ]
    }
   ],
   "source": [
    "!pip install pandas"
   ]
  },
  {
   "cell_type": "code",
   "execution_count": 1,
   "metadata": {},
   "outputs": [],
   "source": [
    "import numpy as np\n",
    "import scipy as sp\n",
    "from scipy import linalg\n",
    "import math\n",
    "from scipy.linalg import qr\n",
    "import pandas as pd"
   ]
  },
  {
   "cell_type": "code",
   "execution_count": 2,
   "metadata": {},
   "outputs": [],
   "source": [
    "from TSVDMII_v2 import tSVDMII\n",
    "from TSVDMII_v2 import mode3 \n",
    "from TSVDMII_v2 import mode3i \n",
    "from TSVDMII_v2 import fronorm"
   ]
  },
  {
   "cell_type": "markdown",
   "metadata": {},
   "source": [
    "Quick Test"
   ]
  },
  {
   "cell_type": "code",
   "execution_count": 3,
   "metadata": {},
   "outputs": [
    {
     "name": "stdout",
     "output_type": "stream",
     "text": [
      "Relative error in approximation is 0.14140418869388405\n"
     ]
    }
   ],
   "source": [
    "# Example tensor\n",
    "tensor = np.random.rand(120, 160, 120)\n",
    "n3 = tensor.shape[0]\n",
    "\n",
    "# Perform QR decomposition on the random matrix\n",
    "random_matrix = np.random.rand(n3, n3)\n",
    "q, r = qr(random_matrix)\n",
    "\n",
    "class Transform:\n",
    "    def __init__(self, n3):\n",
    "        self.L = q @ np.diag(np.sign(np.diag(r)))\n",
    "        self.l = n3\n",
    "        self.inverseL = self.L.T\n",
    "\n",
    "# Create an instance of the Transform class\n",
    "transform_instance = Transform(n3)\n",
    "\n",
    "U = transform_instance.L\n",
    "\n",
    "[m,p,n] = tensor.shape\n",
    "[r,q] = U.shape \n",
    "\n",
    "M = U\n",
    "A = tensor \n",
    "nrg = 0.95\n",
    "\n",
    "S = tSVDMII(A, M, 0.98, 1)"
   ]
  },
  {
   "cell_type": "markdown",
   "metadata": {},
   "source": [
    "Importing x_mmgks_1 from demo dynamic Emoji and reshaping into a 128 by 128 by 33 tensor"
   ]
  },
  {
   "cell_type": "code",
   "execution_count": 4,
   "metadata": {},
   "outputs": [],
   "source": [
    "x_mmgks = np.load('x_mmgks.npy')\n",
    "tensor = x_mmgks.reshape((33, 128, 128), order='F')\n",
    "\n",
    "# Convert the NumPy array to a pandas DataFrame\n",
    "df = pd.DataFrame(x_mmgks)\n",
    "\n",
    "# Save the DataFrame to a CSV file\n",
    "#df.to_csv('x_mmgks.csv', index=False)"
   ]
  },
  {
   "cell_type": "markdown",
   "metadata": {},
   "source": [
    "Performing compression on the tensor "
   ]
  },
  {
   "cell_type": "code",
   "execution_count": 7,
   "metadata": {},
   "outputs": [
    {
     "name": "stdout",
     "output_type": "stream",
     "text": [
      "Relative error in approximation is 0.09991087997181869\n",
      "0.09991087997181869\n",
      "5.12621359223301\n"
     ]
    }
   ],
   "source": [
    "[m,p,n] = tensor.shape\n",
    "T3 = np.reshape(tensor, (m,p*n), order='F')\n",
    "\n",
    "# Perform SVD\n",
    "U, _, _ = np.linalg.svd(T3, full_matrices=False)\n",
    "M = U.T\n",
    "\n",
    "# Compress \n",
    "nrg = 0.99\n",
    "tensorcmp = tSVDMII(tensor, M, nrg, 1)\n",
    "print(tensorcmp[1])\n",
    "print(tensorcmp[2])"
   ]
  },
  {
   "cell_type": "code",
   "execution_count": 8,
   "metadata": {},
   "outputs": [
    {
     "name": "stdout",
     "output_type": "stream",
     "text": [
      "Relative error in approximation is 1.3136335981433191e-16\n"
     ]
    }
   ],
   "source": [
    "# Code testing\n",
    "\n",
    "# Create a 2x2x5 tensor with orthogonal frontal slices\n",
    "A = np.zeros((5, 2, 2), dtype=int)\n",
    "\n",
    "# Fill the tensor with orthogonal frontal slices\n",
    "A[0, :, :] = [[1, 0], [0, 1]]\n",
    "A[1, :, :] = [[0, 1], [1, 0]]\n",
    "A[2, :, :] = [[1, 0], [0, 1]]\n",
    "A[3, :, :] = [[0, 1], [1, 0]]\n",
    "A[4, :, :] = [[1, 0], [0, 1]]\n",
    "\n",
    "[m,p,n] = A.shape\n",
    "\n",
    "# reshaping A \n",
    "A3 = np.reshape(A, (m,p*n), order='F')\n",
    "\n",
    "# Perform SVD\n",
    "U, _, _ = np.linalg.svd(A3, full_matrices=False)\n",
    "M = U.T\n",
    "[r,q] = M.shape \n",
    "\n",
    "# Performing tSVDM Compression\n",
    "nrg = 0.98 \n",
    "Ahat = mode3(A, M) \n",
    "[m,p,n] = Ahat.shape\n",
    "\n",
    "Uah = np.zeros((m, p, min(p, n)))\n",
    "Vah = np.zeros((m, n, min(p, n)))\n",
    "Sah = np.zeros((m, min(p, n), min(p, n)))\n",
    "Delta = np.zeros((min(p, n), m)) \n",
    "\n",
    "for i in np.arange(0, m):\n",
    "    U, S, Vt = np.linalg.svd(Ahat[i, :, :], full_matrices=False)\n",
    "\n",
    "    Uah[i, :, :] = U\n",
    "    Sah[i, :, :] = np.diag(S)\n",
    "    Vah[i, :, :] = Vt.T\n",
    "    Delta[:, i] = S**2\n",
    "\n",
    "frnm2 = np.sum(Delta.ravel()) # jth col of Delta are the squared svals of jth frontal slice\n",
    "sortedDeltas = np.sort(Delta.ravel())[::-1] # sort these globally, descending order \n",
    "cus = np.cumsum(sortedDeltas)\n",
    "cus = cus/frnm2 # cumulative sum of the sorted deltas. These are called the energies \n",
    "fi = np.where(cus<=nrg)[0] # find all indices where energy is less than the prescribed energy value\n",
    "idx = fi.shape[0] # Zeros the values of energy that are larger than prescribed value\n",
    "cutoff = sortedDeltas[idx]\n",
    "fi = np.where(sortedDeltas >= cutoff)[0] # find all values in the delta array that are greater than cutoff\n",
    "\n",
    "Sah2 = np.zeros_like(Sah)\n",
    "F = np.where(Sah>=np.sqrt(cutoff))\n",
    "Sah2[F] = Sah[F]\n",
    "Sah = Sah2 # this is a facewise diagonal with too small svalues commented out \n",
    "del_count = np.count_nonzero(Sah) # Count the total number of non-zeros \n",
    "\n",
    "ln = m*p*n \n",
    "ln2 = p*del_count + n*del_count\n",
    "cmplvl = ln/ln2\n",
    "\n",
    "Appx = np.zeros((m, p, n))\n",
    "for i in np.arange(0,m):\n",
    "    Appx[i,:,:] = Uah[i,:,:]@Sah[i,:,:]@Vah[i,:,:].T\n",
    "\n",
    "# Applying mode3i product \n",
    "Appx = mode3i(Appx, M, 1)\n",
    "RE = fronorm(Appx - A) / fronorm(A)\n",
    "print(\"Relative error in approximation is\", RE)\n",
    "\n"
   ]
  },
  {
   "cell_type": "code",
   "execution_count": null,
   "metadata": {},
   "outputs": [],
   "source": []
  }
 ],
 "metadata": {
  "kernelspec": {
   "display_name": "ip_trips",
   "language": "python",
   "name": "python3"
  },
  "language_info": {
   "codemirror_mode": {
    "name": "ipython",
    "version": 3
   },
   "file_extension": ".py",
   "mimetype": "text/x-python",
   "name": "python",
   "nbconvert_exporter": "python",
   "pygments_lexer": "ipython3",
   "version": "3.9.21"
  }
 },
 "nbformat": 4,
 "nbformat_minor": 2
}
